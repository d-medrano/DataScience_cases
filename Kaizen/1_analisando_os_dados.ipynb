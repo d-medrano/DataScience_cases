{
 "cells": [
  {
   "cell_type": "markdown",
   "metadata": {
    "id": "pCl2gpAeojL9"
   },
   "source": [
    "# Recognized patterns on the data (read the FINAL CONCLUSION at the end of the notebook)"
   ]
  },
  {
   "cell_type": "markdown",
   "metadata": {
    "id": "tBG1T6dAooLJ"
   },
   "source": [
    "The idea of this case is to find out an structure on the .xlsx file provided and to figure out what is the real data for a proper analysis of the customers. However, I found some inconsistencies on many of the fields and moreover, I discovered many **patterns on how the data was generated** to create this exercise."
   ]
  },
  {
   "cell_type": "markdown",
   "metadata": {
    "id": "peveOpY_qC3I"
   },
   "source": [
    "## Loading the raw data"
   ]
  },
  {
   "cell_type": "markdown",
   "metadata": {
    "id": "-oy1HpD4qGXp"
   },
   "source": [
    "On the excel file provided there are 2 different sheets that ideally should have the same information of the customers. I am going to load the first sheet \"Tony Stark\" as `rawData_TonyStark` and the second sheet \"João\" as `rawData_Joao`.\n",
    "\n"
   ]
  },
  {
   "cell_type": "code",
   "execution_count": null,
   "metadata": {
    "colab": {
     "base_uri": "https://localhost:8080/"
    },
    "executionInfo": {
     "elapsed": 466,
     "status": "ok",
     "timestamp": 1644468595218,
     "user": {
      "displayName": "Diego Medrano Jiménez",
      "photoUrl": "https://lh3.googleusercontent.com/a-/AOh14Gi0EFChMeLtAAS3gsoyDERhd5tt6D-8C-lwnpECig=s64",
      "userId": "12536918966160991768"
     },
     "user_tz": 180
    },
    "id": "jIAKNhSCoSWs",
    "outputId": "1d143930-13d6-4d53-8931-327ac2e1512f"
   },
   "outputs": [
    {
     "name": "stdout",
     "output_type": "stream",
     "text": [
      "/content/drive/MyDrive/Colab Notebooks/Kaizen\n"
     ]
    }
   ],
   "source": [
    "%cd /content/drive/MyDrive/Colab Notebooks/Kaizen\n",
    "\n",
    "import pandas as pd\n",
    "\n",
    "rawData_TonyStark = pd.read_excel('/content/drive/MyDrive/Colab Notebooks/Kaizen/Teste PS de analista.xlsx', 'Tony Stark')\n",
    "rawData_Joao = pd.read_excel('/content/drive/MyDrive/Colab Notebooks/Kaizen/Teste PS de analista.xlsx', 'João')"
   ]
  },
  {
   "cell_type": "markdown",
   "metadata": {
    "id": "XmyC27ly24_3"
   },
   "source": [
    "All data has been loaded correctly although `rawData_TonyStark` has a column of `Null` values:"
   ]
  },
  {
   "cell_type": "code",
   "execution_count": null,
   "metadata": {
    "colab": {
     "base_uri": "https://localhost:8080/",
     "height": 206
    },
    "executionInfo": {
     "elapsed": 45,
     "status": "ok",
     "timestamp": 1644468595799,
     "user": {
      "displayName": "Diego Medrano Jiménez",
      "photoUrl": "https://lh3.googleusercontent.com/a-/AOh14Gi0EFChMeLtAAS3gsoyDERhd5tt6D-8C-lwnpECig=s64",
      "userId": "12536918966160991768"
     },
     "user_tz": 180
    },
    "id": "uWeFIdbls8YD",
    "outputId": "f9fd4fb0-1c9e-442e-f66b-0ff7da32d408"
   },
   "outputs": [
    {
     "data": {
      "text/html": [
       "\n",
       "  <div id=\"df-5eaa7ff0-571f-4862-b792-17c4fd136d06\">\n",
       "    <div class=\"colab-df-container\">\n",
       "      <div>\n",
       "<style scoped>\n",
       "    .dataframe tbody tr th:only-of-type {\n",
       "        vertical-align: middle;\n",
       "    }\n",
       "\n",
       "    .dataframe tbody tr th {\n",
       "        vertical-align: top;\n",
       "    }\n",
       "\n",
       "    .dataframe thead th {\n",
       "        text-align: right;\n",
       "    }\n",
       "</style>\n",
       "<table border=\"1\" class=\"dataframe\">\n",
       "  <thead>\n",
       "    <tr style=\"text-align: right;\">\n",
       "      <th></th>\n",
       "      <th>Vendedor</th>\n",
       "      <th>Nome do lead</th>\n",
       "      <th>Telefone do lead</th>\n",
       "      <th>E-mail do lead</th>\n",
       "      <th>Status</th>\n",
       "      <th>Objeção</th>\n",
       "      <th>Unnamed: 6</th>\n",
       "      <th>Valor</th>\n",
       "    </tr>\n",
       "  </thead>\n",
       "  <tbody>\n",
       "    <tr>\n",
       "      <th>0</th>\n",
       "      <td>Thiago</td>\n",
       "      <td>Bruna</td>\n",
       "      <td>(88) 3395-1695</td>\n",
       "      <td>Bruna1@Hotmail</td>\n",
       "      <td>Concluído</td>\n",
       "      <td>não tem dinheiro</td>\n",
       "      <td>NaN</td>\n",
       "      <td>1997.00</td>\n",
       "    </tr>\n",
       "    <tr>\n",
       "      <th>1</th>\n",
       "      <td>Romulo</td>\n",
       "      <td>Ana</td>\n",
       "      <td>(68) 2446-3056</td>\n",
       "      <td>Ana2@Gmail</td>\n",
       "      <td>Pago</td>\n",
       "      <td>falta tempo</td>\n",
       "      <td>NaN</td>\n",
       "      <td>97.00</td>\n",
       "    </tr>\n",
       "    <tr>\n",
       "      <th>2</th>\n",
       "      <td>Rafael</td>\n",
       "      <td>Adriana</td>\n",
       "      <td>(63) 2992-5510</td>\n",
       "      <td>Adriana3@Yahoo</td>\n",
       "      <td>Pendente</td>\n",
       "      <td>prioridade</td>\n",
       "      <td>NaN</td>\n",
       "      <td>597.00</td>\n",
       "    </tr>\n",
       "    <tr>\n",
       "      <th>3</th>\n",
       "      <td>Carlos</td>\n",
       "      <td>Dina</td>\n",
       "      <td>(95) 2781-4745</td>\n",
       "      <td>Dina4@Terra</td>\n",
       "      <td>Contatado</td>\n",
       "      <td>sem grana</td>\n",
       "      <td>NaN</td>\n",
       "      <td>297.65</td>\n",
       "    </tr>\n",
       "    <tr>\n",
       "      <th>4</th>\n",
       "      <td>João</td>\n",
       "      <td>LETICIA</td>\n",
       "      <td>(49) 3293-2372</td>\n",
       "      <td>LETICIA5@Uou</td>\n",
       "      <td>concluido</td>\n",
       "      <td>curuiso</td>\n",
       "      <td>NaN</td>\n",
       "      <td>197.00</td>\n",
       "    </tr>\n",
       "  </tbody>\n",
       "</table>\n",
       "</div>\n",
       "      <button class=\"colab-df-convert\" onclick=\"convertToInteractive('df-5eaa7ff0-571f-4862-b792-17c4fd136d06')\"\n",
       "              title=\"Convert this dataframe to an interactive table.\"\n",
       "              style=\"display:none;\">\n",
       "        \n",
       "  <svg xmlns=\"http://www.w3.org/2000/svg\" height=\"24px\"viewBox=\"0 0 24 24\"\n",
       "       width=\"24px\">\n",
       "    <path d=\"M0 0h24v24H0V0z\" fill=\"none\"/>\n",
       "    <path d=\"M18.56 5.44l.94 2.06.94-2.06 2.06-.94-2.06-.94-.94-2.06-.94 2.06-2.06.94zm-11 1L8.5 8.5l.94-2.06 2.06-.94-2.06-.94L8.5 2.5l-.94 2.06-2.06.94zm10 10l.94 2.06.94-2.06 2.06-.94-2.06-.94-.94-2.06-.94 2.06-2.06.94z\"/><path d=\"M17.41 7.96l-1.37-1.37c-.4-.4-.92-.59-1.43-.59-.52 0-1.04.2-1.43.59L10.3 9.45l-7.72 7.72c-.78.78-.78 2.05 0 2.83L4 21.41c.39.39.9.59 1.41.59.51 0 1.02-.2 1.41-.59l7.78-7.78 2.81-2.81c.8-.78.8-2.07 0-2.86zM5.41 20L4 18.59l7.72-7.72 1.47 1.35L5.41 20z\"/>\n",
       "  </svg>\n",
       "      </button>\n",
       "      \n",
       "  <style>\n",
       "    .colab-df-container {\n",
       "      display:flex;\n",
       "      flex-wrap:wrap;\n",
       "      gap: 12px;\n",
       "    }\n",
       "\n",
       "    .colab-df-convert {\n",
       "      background-color: #E8F0FE;\n",
       "      border: none;\n",
       "      border-radius: 50%;\n",
       "      cursor: pointer;\n",
       "      display: none;\n",
       "      fill: #1967D2;\n",
       "      height: 32px;\n",
       "      padding: 0 0 0 0;\n",
       "      width: 32px;\n",
       "    }\n",
       "\n",
       "    .colab-df-convert:hover {\n",
       "      background-color: #E2EBFA;\n",
       "      box-shadow: 0px 1px 2px rgba(60, 64, 67, 0.3), 0px 1px 3px 1px rgba(60, 64, 67, 0.15);\n",
       "      fill: #174EA6;\n",
       "    }\n",
       "\n",
       "    [theme=dark] .colab-df-convert {\n",
       "      background-color: #3B4455;\n",
       "      fill: #D2E3FC;\n",
       "    }\n",
       "\n",
       "    [theme=dark] .colab-df-convert:hover {\n",
       "      background-color: #434B5C;\n",
       "      box-shadow: 0px 1px 3px 1px rgba(0, 0, 0, 0.15);\n",
       "      filter: drop-shadow(0px 1px 2px rgba(0, 0, 0, 0.3));\n",
       "      fill: #FFFFFF;\n",
       "    }\n",
       "  </style>\n",
       "\n",
       "      <script>\n",
       "        const buttonEl =\n",
       "          document.querySelector('#df-5eaa7ff0-571f-4862-b792-17c4fd136d06 button.colab-df-convert');\n",
       "        buttonEl.style.display =\n",
       "          google.colab.kernel.accessAllowed ? 'block' : 'none';\n",
       "\n",
       "        async function convertToInteractive(key) {\n",
       "          const element = document.querySelector('#df-5eaa7ff0-571f-4862-b792-17c4fd136d06');\n",
       "          const dataTable =\n",
       "            await google.colab.kernel.invokeFunction('convertToInteractive',\n",
       "                                                     [key], {});\n",
       "          if (!dataTable) return;\n",
       "\n",
       "          const docLinkHtml = 'Like what you see? Visit the ' +\n",
       "            '<a target=\"_blank\" href=https://colab.research.google.com/notebooks/data_table.ipynb>data table notebook</a>'\n",
       "            + ' to learn more about interactive tables.';\n",
       "          element.innerHTML = '';\n",
       "          dataTable['output_type'] = 'display_data';\n",
       "          await google.colab.output.renderOutput(dataTable, element);\n",
       "          const docLink = document.createElement('div');\n",
       "          docLink.innerHTML = docLinkHtml;\n",
       "          element.appendChild(docLink);\n",
       "        }\n",
       "      </script>\n",
       "    </div>\n",
       "  </div>\n",
       "  "
      ],
      "text/plain": [
       "  Vendedor Nome do lead Telefone do lead  ...           Objeção Unnamed: 6    Valor\n",
       "0   Thiago        Bruna   (88) 3395-1695  ...  não tem dinheiro        NaN  1997.00\n",
       "1   Romulo          Ana   (68) 2446-3056  ...       falta tempo        NaN    97.00\n",
       "2   Rafael      Adriana   (63) 2992-5510  ...        prioridade        NaN   597.00\n",
       "3   Carlos         Dina   (95) 2781-4745  ...         sem grana        NaN   297.65\n",
       "4    João       LETICIA   (49) 3293-2372  ...           curuiso        NaN   197.00\n",
       "\n",
       "[5 rows x 8 columns]"
      ]
     },
     "execution_count": 2,
     "metadata": {},
     "output_type": "execute_result"
    }
   ],
   "source": [
    "rawData_TonyStark.head()"
   ]
  },
  {
   "cell_type": "code",
   "execution_count": null,
   "metadata": {
    "colab": {
     "base_uri": "https://localhost:8080/",
     "height": 206
    },
    "executionInfo": {
     "elapsed": 42,
     "status": "ok",
     "timestamp": 1644468595800,
     "user": {
      "displayName": "Diego Medrano Jiménez",
      "photoUrl": "https://lh3.googleusercontent.com/a-/AOh14Gi0EFChMeLtAAS3gsoyDERhd5tt6D-8C-lwnpECig=s64",
      "userId": "12536918966160991768"
     },
     "user_tz": 180
    },
    "id": "44ZJJioVstNZ",
    "outputId": "30f319d3-da60-41d7-c894-f0ec331dd1c0"
   },
   "outputs": [
    {
     "data": {
      "text/html": [
       "\n",
       "  <div id=\"df-6aa3f605-398d-4946-97ce-da8374a2cbc6\">\n",
       "    <div class=\"colab-df-container\">\n",
       "      <div>\n",
       "<style scoped>\n",
       "    .dataframe tbody tr th:only-of-type {\n",
       "        vertical-align: middle;\n",
       "    }\n",
       "\n",
       "    .dataframe tbody tr th {\n",
       "        vertical-align: top;\n",
       "    }\n",
       "\n",
       "    .dataframe thead th {\n",
       "        text-align: right;\n",
       "    }\n",
       "</style>\n",
       "<table border=\"1\" class=\"dataframe\">\n",
       "  <thead>\n",
       "    <tr style=\"text-align: right;\">\n",
       "      <th></th>\n",
       "      <th>lead</th>\n",
       "      <th>Telefone do lead</th>\n",
       "      <th>E-mail do lead</th>\n",
       "      <th>Status</th>\n",
       "      <th>Objeção</th>\n",
       "      <th>Valor</th>\n",
       "    </tr>\n",
       "  </thead>\n",
       "  <tbody>\n",
       "    <tr>\n",
       "      <th>0</th>\n",
       "      <td>Thiago</td>\n",
       "      <td>(88) 33950102</td>\n",
       "      <td>Thiago56@hotmail</td>\n",
       "      <td>Concluído</td>\n",
       "      <td>não tem dinheiro</td>\n",
       "      <td>1997.00</td>\n",
       "    </tr>\n",
       "    <tr>\n",
       "      <th>1</th>\n",
       "      <td>Romulo</td>\n",
       "      <td>(68) 24460428</td>\n",
       "      <td>Romulo1@Outlook</td>\n",
       "      <td>Pago</td>\n",
       "      <td>falta tempo</td>\n",
       "      <td>97.00</td>\n",
       "    </tr>\n",
       "    <tr>\n",
       "      <th>2</th>\n",
       "      <td>Rafael</td>\n",
       "      <td>(63) 29920451</td>\n",
       "      <td>Rafael512@Gmail</td>\n",
       "      <td>Pendente</td>\n",
       "      <td>prioridade</td>\n",
       "      <td>597.00</td>\n",
       "    </tr>\n",
       "    <tr>\n",
       "      <th>3</th>\n",
       "      <td>Carlos</td>\n",
       "      <td>(95) 27810753</td>\n",
       "      <td>Carlos645,666666666667@Terra</td>\n",
       "      <td>Contatado</td>\n",
       "      <td>sem grana</td>\n",
       "      <td>297.65</td>\n",
       "    </tr>\n",
       "    <tr>\n",
       "      <th>4</th>\n",
       "      <td>João</td>\n",
       "      <td>(49) 32931323</td>\n",
       "      <td>João 873,666666666667@hotmail</td>\n",
       "      <td>concluido</td>\n",
       "      <td>curuiso</td>\n",
       "      <td>197.00</td>\n",
       "    </tr>\n",
       "  </tbody>\n",
       "</table>\n",
       "</div>\n",
       "      <button class=\"colab-df-convert\" onclick=\"convertToInteractive('df-6aa3f605-398d-4946-97ce-da8374a2cbc6')\"\n",
       "              title=\"Convert this dataframe to an interactive table.\"\n",
       "              style=\"display:none;\">\n",
       "        \n",
       "  <svg xmlns=\"http://www.w3.org/2000/svg\" height=\"24px\"viewBox=\"0 0 24 24\"\n",
       "       width=\"24px\">\n",
       "    <path d=\"M0 0h24v24H0V0z\" fill=\"none\"/>\n",
       "    <path d=\"M18.56 5.44l.94 2.06.94-2.06 2.06-.94-2.06-.94-.94-2.06-.94 2.06-2.06.94zm-11 1L8.5 8.5l.94-2.06 2.06-.94-2.06-.94L8.5 2.5l-.94 2.06-2.06.94zm10 10l.94 2.06.94-2.06 2.06-.94-2.06-.94-.94-2.06-.94 2.06-2.06.94z\"/><path d=\"M17.41 7.96l-1.37-1.37c-.4-.4-.92-.59-1.43-.59-.52 0-1.04.2-1.43.59L10.3 9.45l-7.72 7.72c-.78.78-.78 2.05 0 2.83L4 21.41c.39.39.9.59 1.41.59.51 0 1.02-.2 1.41-.59l7.78-7.78 2.81-2.81c.8-.78.8-2.07 0-2.86zM5.41 20L4 18.59l7.72-7.72 1.47 1.35L5.41 20z\"/>\n",
       "  </svg>\n",
       "      </button>\n",
       "      \n",
       "  <style>\n",
       "    .colab-df-container {\n",
       "      display:flex;\n",
       "      flex-wrap:wrap;\n",
       "      gap: 12px;\n",
       "    }\n",
       "\n",
       "    .colab-df-convert {\n",
       "      background-color: #E8F0FE;\n",
       "      border: none;\n",
       "      border-radius: 50%;\n",
       "      cursor: pointer;\n",
       "      display: none;\n",
       "      fill: #1967D2;\n",
       "      height: 32px;\n",
       "      padding: 0 0 0 0;\n",
       "      width: 32px;\n",
       "    }\n",
       "\n",
       "    .colab-df-convert:hover {\n",
       "      background-color: #E2EBFA;\n",
       "      box-shadow: 0px 1px 2px rgba(60, 64, 67, 0.3), 0px 1px 3px 1px rgba(60, 64, 67, 0.15);\n",
       "      fill: #174EA6;\n",
       "    }\n",
       "\n",
       "    [theme=dark] .colab-df-convert {\n",
       "      background-color: #3B4455;\n",
       "      fill: #D2E3FC;\n",
       "    }\n",
       "\n",
       "    [theme=dark] .colab-df-convert:hover {\n",
       "      background-color: #434B5C;\n",
       "      box-shadow: 0px 1px 3px 1px rgba(0, 0, 0, 0.15);\n",
       "      filter: drop-shadow(0px 1px 2px rgba(0, 0, 0, 0.3));\n",
       "      fill: #FFFFFF;\n",
       "    }\n",
       "  </style>\n",
       "\n",
       "      <script>\n",
       "        const buttonEl =\n",
       "          document.querySelector('#df-6aa3f605-398d-4946-97ce-da8374a2cbc6 button.colab-df-convert');\n",
       "        buttonEl.style.display =\n",
       "          google.colab.kernel.accessAllowed ? 'block' : 'none';\n",
       "\n",
       "        async function convertToInteractive(key) {\n",
       "          const element = document.querySelector('#df-6aa3f605-398d-4946-97ce-da8374a2cbc6');\n",
       "          const dataTable =\n",
       "            await google.colab.kernel.invokeFunction('convertToInteractive',\n",
       "                                                     [key], {});\n",
       "          if (!dataTable) return;\n",
       "\n",
       "          const docLinkHtml = 'Like what you see? Visit the ' +\n",
       "            '<a target=\"_blank\" href=https://colab.research.google.com/notebooks/data_table.ipynb>data table notebook</a>'\n",
       "            + ' to learn more about interactive tables.';\n",
       "          element.innerHTML = '';\n",
       "          dataTable['output_type'] = 'display_data';\n",
       "          await google.colab.output.renderOutput(dataTable, element);\n",
       "          const docLink = document.createElement('div');\n",
       "          docLink.innerHTML = docLinkHtml;\n",
       "          element.appendChild(docLink);\n",
       "        }\n",
       "      </script>\n",
       "    </div>\n",
       "  </div>\n",
       "  "
      ],
      "text/plain": [
       "     lead Telefone do lead  ...           Objeção    Valor\n",
       "0  Thiago    (88) 33950102  ...  não tem dinheiro  1997.00\n",
       "1  Romulo    (68) 24460428  ...       falta tempo    97.00\n",
       "2  Rafael    (63) 29920451  ...        prioridade   597.00\n",
       "3  Carlos    (95) 27810753  ...         sem grana   297.65\n",
       "4   João     (49) 32931323  ...           curuiso   197.00\n",
       "\n",
       "[5 rows x 6 columns]"
      ]
     },
     "execution_count": 3,
     "metadata": {},
     "output_type": "execute_result"
    }
   ],
   "source": [
    "rawData_Joao.head()"
   ]
  },
  {
   "cell_type": "markdown",
   "metadata": {
    "id": "vVASs5WntANU"
   },
   "source": [
    "They both have the same number of entries, which is great:"
   ]
  },
  {
   "cell_type": "code",
   "execution_count": null,
   "metadata": {
    "colab": {
     "base_uri": "https://localhost:8080/"
    },
    "executionInfo": {
     "elapsed": 38,
     "status": "ok",
     "timestamp": 1644468595800,
     "user": {
      "displayName": "Diego Medrano Jiménez",
      "photoUrl": "https://lh3.googleusercontent.com/a-/AOh14Gi0EFChMeLtAAS3gsoyDERhd5tt6D-8C-lwnpECig=s64",
      "userId": "12536918966160991768"
     },
     "user_tz": 180
    },
    "id": "2Dyllfs1s7RJ",
    "outputId": "340daf04-13f8-46c7-a38d-7ea32750e96b"
   },
   "outputs": [
    {
     "name": "stdout",
     "output_type": "stream",
     "text": [
      "44\n",
      "44\n"
     ]
    }
   ],
   "source": [
    "print(rawData_TonyStark.shape[0])\n",
    "print(rawData_Joao.shape[0])"
   ]
  },
  {
   "cell_type": "markdown",
   "metadata": {
    "id": "IQcxZVos4zMr"
   },
   "source": [
    "## \"Vendedor\""
   ]
  },
  {
   "cell_type": "markdown",
   "metadata": {
    "id": "Bzf6UNhe44WL"
   },
   "source": [
    "There is more than one column with possible names for the agents:"
   ]
  },
  {
   "cell_type": "code",
   "execution_count": null,
   "metadata": {
    "colab": {
     "base_uri": "https://localhost:8080/"
    },
    "executionInfo": {
     "elapsed": 29,
     "status": "ok",
     "timestamp": 1644468595801,
     "user": {
      "displayName": "Diego Medrano Jiménez",
      "photoUrl": "https://lh3.googleusercontent.com/a-/AOh14Gi0EFChMeLtAAS3gsoyDERhd5tt6D-8C-lwnpECig=s64",
      "userId": "12536918966160991768"
     },
     "user_tz": 180
    },
    "id": "QMDDWK46tFyn",
    "outputId": "0af690de-8bb6-4a98-9053-4840e26d8369"
   },
   "outputs": [
    {
     "name": "stdout",
     "output_type": "stream",
     "text": [
      "['Thiago' 'Romulo' 'Rafael' 'Carlos' 'João ' 'Pedro' 'Manoel' 'João luis'\n",
      " 'Pitter' 'Tony Stark' 'Jhon']\n",
      "['Bruna' 'Ana' 'Adriana' 'Dina' 'LETICIA' 'Joelma' 'Lavinia' 'JESSICA'\n",
      " 'Fernanda' 'Silvia' 'Priscila' 'Lourdes' 'Margarida' 'Renata' 'Emily'\n",
      " 'Débora' 'Aline' 'Alana' 'FERNANDA' 'Jaqueline' 'Jully' 'Pollyane'\n",
      " 'Taiane' 'Michelle' 'MARIA' 'Eduarda' 'Claudete' 'Andrelina' 'Vanessa'\n",
      " 'Elen' 'Cristiane' 'Nailza' 'Cleide' 'Julie' 'Eliene' 'Camila'\n",
      " 'Gracielle' 'Caroline' 'Tatiana' 'Denise' 'Luziana' 'EDMARA']\n"
     ]
    }
   ],
   "source": [
    "print(rawData_TonyStark['Vendedor'].unique())\n",
    "print(rawData_TonyStark['Nome do lead'].unique())"
   ]
  },
  {
   "cell_type": "markdown",
   "metadata": {
    "id": "ZDq1Qg3X5rFd"
   },
   "source": [
    "The first column in `rawData_TonyStark` is the correct one with a total of 11 agents. It looks like the names have been generated by concatenating 4 times the same list:"
   ]
  },
  {
   "cell_type": "code",
   "execution_count": null,
   "metadata": {
    "colab": {
     "base_uri": "https://localhost:8080/"
    },
    "executionInfo": {
     "elapsed": 22,
     "status": "ok",
     "timestamp": 1644468595801,
     "user": {
      "displayName": "Diego Medrano Jiménez",
      "photoUrl": "https://lh3.googleusercontent.com/a-/AOh14Gi0EFChMeLtAAS3gsoyDERhd5tt6D-8C-lwnpECig=s64",
      "userId": "12536918966160991768"
     },
     "user_tz": 180
    },
    "id": "VOLV3xkX5bt9",
    "outputId": "2a346dc8-bc04-49be-c263-e702129ac80c"
   },
   "outputs": [
    {
     "data": {
      "text/plain": [
       "True"
      ]
     },
     "execution_count": 6,
     "metadata": {},
     "output_type": "execute_result"
    }
   ],
   "source": [
    "agents = ['Thiago', 'Romulo', 'Rafael', 'Carlos', 'João ', 'Pedro', 'Manoel', 'João luis', 'Pitter', 'Tony Stark', 'Jhon']\n",
    "rawData_TonyStark['Vendedor'].values.tolist() == agents * 4"
   ]
  },
  {
   "cell_type": "markdown",
   "metadata": {
    "id": "CSXv3FiQ_hF4"
   },
   "source": [
    "To start creating the organized final dataset in `data`, I am going to get rid of the blank space in `'João '` -> `'João'` and use capital letters for the second names `'João luis'` -> `'João Luis'`:"
   ]
  },
  {
   "cell_type": "code",
   "execution_count": null,
   "metadata": {
    "colab": {
     "base_uri": "https://localhost:8080/",
     "height": 206
    },
    "executionInfo": {
     "elapsed": 100,
     "status": "ok",
     "timestamp": 1644468596758,
     "user": {
      "displayName": "Diego Medrano Jiménez",
      "photoUrl": "https://lh3.googleusercontent.com/a-/AOh14Gi0EFChMeLtAAS3gsoyDERhd5tt6D-8C-lwnpECig=s64",
      "userId": "12536918966160991768"
     },
     "user_tz": 180
    },
    "id": "IpnWO1eJ__4-",
    "outputId": "0b0134eb-20b8-41e3-9344-c31eb423bd5c"
   },
   "outputs": [
    {
     "data": {
      "text/html": [
       "\n",
       "  <div id=\"df-bb595da2-f11a-4ccf-ab90-1100e3330949\">\n",
       "    <div class=\"colab-df-container\">\n",
       "      <div>\n",
       "<style scoped>\n",
       "    .dataframe tbody tr th:only-of-type {\n",
       "        vertical-align: middle;\n",
       "    }\n",
       "\n",
       "    .dataframe tbody tr th {\n",
       "        vertical-align: top;\n",
       "    }\n",
       "\n",
       "    .dataframe thead th {\n",
       "        text-align: right;\n",
       "    }\n",
       "</style>\n",
       "<table border=\"1\" class=\"dataframe\">\n",
       "  <thead>\n",
       "    <tr style=\"text-align: right;\">\n",
       "      <th></th>\n",
       "      <th>Vendedor</th>\n",
       "    </tr>\n",
       "  </thead>\n",
       "  <tbody>\n",
       "    <tr>\n",
       "      <th>0</th>\n",
       "      <td>Thiago</td>\n",
       "    </tr>\n",
       "    <tr>\n",
       "      <th>1</th>\n",
       "      <td>Romulo</td>\n",
       "    </tr>\n",
       "    <tr>\n",
       "      <th>2</th>\n",
       "      <td>Rafael</td>\n",
       "    </tr>\n",
       "    <tr>\n",
       "      <th>3</th>\n",
       "      <td>Carlos</td>\n",
       "    </tr>\n",
       "    <tr>\n",
       "      <th>4</th>\n",
       "      <td>João</td>\n",
       "    </tr>\n",
       "  </tbody>\n",
       "</table>\n",
       "</div>\n",
       "      <button class=\"colab-df-convert\" onclick=\"convertToInteractive('df-bb595da2-f11a-4ccf-ab90-1100e3330949')\"\n",
       "              title=\"Convert this dataframe to an interactive table.\"\n",
       "              style=\"display:none;\">\n",
       "        \n",
       "  <svg xmlns=\"http://www.w3.org/2000/svg\" height=\"24px\"viewBox=\"0 0 24 24\"\n",
       "       width=\"24px\">\n",
       "    <path d=\"M0 0h24v24H0V0z\" fill=\"none\"/>\n",
       "    <path d=\"M18.56 5.44l.94 2.06.94-2.06 2.06-.94-2.06-.94-.94-2.06-.94 2.06-2.06.94zm-11 1L8.5 8.5l.94-2.06 2.06-.94-2.06-.94L8.5 2.5l-.94 2.06-2.06.94zm10 10l.94 2.06.94-2.06 2.06-.94-2.06-.94-.94-2.06-.94 2.06-2.06.94z\"/><path d=\"M17.41 7.96l-1.37-1.37c-.4-.4-.92-.59-1.43-.59-.52 0-1.04.2-1.43.59L10.3 9.45l-7.72 7.72c-.78.78-.78 2.05 0 2.83L4 21.41c.39.39.9.59 1.41.59.51 0 1.02-.2 1.41-.59l7.78-7.78 2.81-2.81c.8-.78.8-2.07 0-2.86zM5.41 20L4 18.59l7.72-7.72 1.47 1.35L5.41 20z\"/>\n",
       "  </svg>\n",
       "      </button>\n",
       "      \n",
       "  <style>\n",
       "    .colab-df-container {\n",
       "      display:flex;\n",
       "      flex-wrap:wrap;\n",
       "      gap: 12px;\n",
       "    }\n",
       "\n",
       "    .colab-df-convert {\n",
       "      background-color: #E8F0FE;\n",
       "      border: none;\n",
       "      border-radius: 50%;\n",
       "      cursor: pointer;\n",
       "      display: none;\n",
       "      fill: #1967D2;\n",
       "      height: 32px;\n",
       "      padding: 0 0 0 0;\n",
       "      width: 32px;\n",
       "    }\n",
       "\n",
       "    .colab-df-convert:hover {\n",
       "      background-color: #E2EBFA;\n",
       "      box-shadow: 0px 1px 2px rgba(60, 64, 67, 0.3), 0px 1px 3px 1px rgba(60, 64, 67, 0.15);\n",
       "      fill: #174EA6;\n",
       "    }\n",
       "\n",
       "    [theme=dark] .colab-df-convert {\n",
       "      background-color: #3B4455;\n",
       "      fill: #D2E3FC;\n",
       "    }\n",
       "\n",
       "    [theme=dark] .colab-df-convert:hover {\n",
       "      background-color: #434B5C;\n",
       "      box-shadow: 0px 1px 3px 1px rgba(0, 0, 0, 0.15);\n",
       "      filter: drop-shadow(0px 1px 2px rgba(0, 0, 0, 0.3));\n",
       "      fill: #FFFFFF;\n",
       "    }\n",
       "  </style>\n",
       "\n",
       "      <script>\n",
       "        const buttonEl =\n",
       "          document.querySelector('#df-bb595da2-f11a-4ccf-ab90-1100e3330949 button.colab-df-convert');\n",
       "        buttonEl.style.display =\n",
       "          google.colab.kernel.accessAllowed ? 'block' : 'none';\n",
       "\n",
       "        async function convertToInteractive(key) {\n",
       "          const element = document.querySelector('#df-bb595da2-f11a-4ccf-ab90-1100e3330949');\n",
       "          const dataTable =\n",
       "            await google.colab.kernel.invokeFunction('convertToInteractive',\n",
       "                                                     [key], {});\n",
       "          if (!dataTable) return;\n",
       "\n",
       "          const docLinkHtml = 'Like what you see? Visit the ' +\n",
       "            '<a target=\"_blank\" href=https://colab.research.google.com/notebooks/data_table.ipynb>data table notebook</a>'\n",
       "            + ' to learn more about interactive tables.';\n",
       "          element.innerHTML = '';\n",
       "          dataTable['output_type'] = 'display_data';\n",
       "          await google.colab.output.renderOutput(dataTable, element);\n",
       "          const docLink = document.createElement('div');\n",
       "          docLink.innerHTML = docLinkHtml;\n",
       "          element.appendChild(docLink);\n",
       "        }\n",
       "      </script>\n",
       "    </div>\n",
       "  </div>\n",
       "  "
      ],
      "text/plain": [
       "  Vendedor\n",
       "0   Thiago\n",
       "1   Romulo\n",
       "2   Rafael\n",
       "3   Carlos\n",
       "4     João"
      ]
     },
     "execution_count": 7,
     "metadata": {},
     "output_type": "execute_result"
    }
   ],
   "source": [
    "data = pd.DataFrame([rawData_TonyStark['Vendedor'][i].strip().title() for i in range(len(rawData_TonyStark['Vendedor']))], columns=['Vendedor'])\n",
    "data.head()"
   ]
  },
  {
   "cell_type": "markdown",
   "metadata": {
    "id": "GCFUaEF_8DDI"
   },
   "source": [
    "## \"Nome do lead\""
   ]
  },
  {
   "cell_type": "markdown",
   "metadata": {
    "id": "R2YlhPWO8QMr"
   },
   "source": [
    "There are columns with customer names in both sheets but again `rawData_TonyStar['Nome do lead']` looks like the correct one. The \"lead\" column in the \"João sheet\" contains the agent names again:"
   ]
  },
  {
   "cell_type": "code",
   "execution_count": null,
   "metadata": {
    "colab": {
     "base_uri": "https://localhost:8080/"
    },
    "executionInfo": {
     "elapsed": 100,
     "status": "ok",
     "timestamp": 1644468596760,
     "user": {
      "displayName": "Diego Medrano Jiménez",
      "photoUrl": "https://lh3.googleusercontent.com/a-/AOh14Gi0EFChMeLtAAS3gsoyDERhd5tt6D-8C-lwnpECig=s64",
      "userId": "12536918966160991768"
     },
     "user_tz": 180
    },
    "id": "sMU5Sv1A7IOT",
    "outputId": "c08b6612-593d-455b-80ea-d16c6e112b91"
   },
   "outputs": [
    {
     "data": {
      "text/plain": [
       "44"
      ]
     },
     "execution_count": 8,
     "metadata": {},
     "output_type": "execute_result"
    }
   ],
   "source": [
    "(rawData_Joao['lead'] == rawData_TonyStark['Vendedor']).sum() # All entries coincide"
   ]
  },
  {
   "cell_type": "markdown",
   "metadata": {
    "id": "aIwSBTVpBCua"
   },
   "source": [
    "These are the customers:"
   ]
  },
  {
   "cell_type": "code",
   "execution_count": null,
   "metadata": {
    "colab": {
     "base_uri": "https://localhost:8080/"
    },
    "executionInfo": {
     "elapsed": 98,
     "status": "ok",
     "timestamp": 1644468596761,
     "user": {
      "displayName": "Diego Medrano Jiménez",
      "photoUrl": "https://lh3.googleusercontent.com/a-/AOh14Gi0EFChMeLtAAS3gsoyDERhd5tt6D-8C-lwnpECig=s64",
      "userId": "12536918966160991768"
     },
     "user_tz": 180
    },
    "id": "Deh618BZ8l4z",
    "outputId": "bbe72777-0949-4727-e756-80c204c59f43"
   },
   "outputs": [
    {
     "name": "stdout",
     "output_type": "stream",
     "text": [
      "['Bruna' 'Ana' 'Adriana' 'Dina' 'LETICIA' 'Joelma' 'Lavinia' 'JESSICA'\n",
      " 'Fernanda' 'Silvia' 'Priscila' 'Lourdes' 'Margarida' 'Renata' 'Emily'\n",
      " 'Débora' 'Aline' 'Alana' 'FERNANDA' 'Jaqueline' 'Jully' 'Pollyane'\n",
      " 'Taiane' 'Michelle' 'MARIA' 'Eduarda' 'Claudete' 'Andrelina' 'Ana'\n",
      " 'Vanessa' 'Elen' 'Cristiane' 'Nailza' 'Renata' 'Cleide' 'Julie' 'Eliene'\n",
      " 'Camila' 'Gracielle' 'Caroline' 'Tatiana' 'Denise' 'Luziana' 'EDMARA']\n"
     ]
    }
   ],
   "source": [
    "print(rawData_TonyStark['Nome do lead'].values)"
   ]
  },
  {
   "cell_type": "markdown",
   "metadata": {
    "id": "q71GBuyQ9alA"
   },
   "source": [
    "I am going to change the format of the names such that they all look the same, e.g. `'LETICIA'` -> `'Leticia'`:"
   ]
  },
  {
   "cell_type": "code",
   "execution_count": null,
   "metadata": {
    "colab": {
     "base_uri": "https://localhost:8080/",
     "height": 206
    },
    "executionInfo": {
     "elapsed": 94,
     "status": "ok",
     "timestamp": 1644468596761,
     "user": {
      "displayName": "Diego Medrano Jiménez",
      "photoUrl": "https://lh3.googleusercontent.com/a-/AOh14Gi0EFChMeLtAAS3gsoyDERhd5tt6D-8C-lwnpECig=s64",
      "userId": "12536918966160991768"
     },
     "user_tz": 180
    },
    "id": "Mknf5Fsl9Sjh",
    "outputId": "dd97af10-b445-43b5-906e-83984e92bf4f"
   },
   "outputs": [
    {
     "data": {
      "text/html": [
       "\n",
       "  <div id=\"df-ae85059e-619a-44b2-8ddf-5865669dea54\">\n",
       "    <div class=\"colab-df-container\">\n",
       "      <div>\n",
       "<style scoped>\n",
       "    .dataframe tbody tr th:only-of-type {\n",
       "        vertical-align: middle;\n",
       "    }\n",
       "\n",
       "    .dataframe tbody tr th {\n",
       "        vertical-align: top;\n",
       "    }\n",
       "\n",
       "    .dataframe thead th {\n",
       "        text-align: right;\n",
       "    }\n",
       "</style>\n",
       "<table border=\"1\" class=\"dataframe\">\n",
       "  <thead>\n",
       "    <tr style=\"text-align: right;\">\n",
       "      <th></th>\n",
       "      <th>Vendedor</th>\n",
       "      <th>Nome do lead</th>\n",
       "    </tr>\n",
       "  </thead>\n",
       "  <tbody>\n",
       "    <tr>\n",
       "      <th>0</th>\n",
       "      <td>Thiago</td>\n",
       "      <td>Bruna</td>\n",
       "    </tr>\n",
       "    <tr>\n",
       "      <th>1</th>\n",
       "      <td>Romulo</td>\n",
       "      <td>Ana</td>\n",
       "    </tr>\n",
       "    <tr>\n",
       "      <th>2</th>\n",
       "      <td>Rafael</td>\n",
       "      <td>Adriana</td>\n",
       "    </tr>\n",
       "    <tr>\n",
       "      <th>3</th>\n",
       "      <td>Carlos</td>\n",
       "      <td>Dina</td>\n",
       "    </tr>\n",
       "    <tr>\n",
       "      <th>4</th>\n",
       "      <td>João</td>\n",
       "      <td>Leticia</td>\n",
       "    </tr>\n",
       "  </tbody>\n",
       "</table>\n",
       "</div>\n",
       "      <button class=\"colab-df-convert\" onclick=\"convertToInteractive('df-ae85059e-619a-44b2-8ddf-5865669dea54')\"\n",
       "              title=\"Convert this dataframe to an interactive table.\"\n",
       "              style=\"display:none;\">\n",
       "        \n",
       "  <svg xmlns=\"http://www.w3.org/2000/svg\" height=\"24px\"viewBox=\"0 0 24 24\"\n",
       "       width=\"24px\">\n",
       "    <path d=\"M0 0h24v24H0V0z\" fill=\"none\"/>\n",
       "    <path d=\"M18.56 5.44l.94 2.06.94-2.06 2.06-.94-2.06-.94-.94-2.06-.94 2.06-2.06.94zm-11 1L8.5 8.5l.94-2.06 2.06-.94-2.06-.94L8.5 2.5l-.94 2.06-2.06.94zm10 10l.94 2.06.94-2.06 2.06-.94-2.06-.94-.94-2.06-.94 2.06-2.06.94z\"/><path d=\"M17.41 7.96l-1.37-1.37c-.4-.4-.92-.59-1.43-.59-.52 0-1.04.2-1.43.59L10.3 9.45l-7.72 7.72c-.78.78-.78 2.05 0 2.83L4 21.41c.39.39.9.59 1.41.59.51 0 1.02-.2 1.41-.59l7.78-7.78 2.81-2.81c.8-.78.8-2.07 0-2.86zM5.41 20L4 18.59l7.72-7.72 1.47 1.35L5.41 20z\"/>\n",
       "  </svg>\n",
       "      </button>\n",
       "      \n",
       "  <style>\n",
       "    .colab-df-container {\n",
       "      display:flex;\n",
       "      flex-wrap:wrap;\n",
       "      gap: 12px;\n",
       "    }\n",
       "\n",
       "    .colab-df-convert {\n",
       "      background-color: #E8F0FE;\n",
       "      border: none;\n",
       "      border-radius: 50%;\n",
       "      cursor: pointer;\n",
       "      display: none;\n",
       "      fill: #1967D2;\n",
       "      height: 32px;\n",
       "      padding: 0 0 0 0;\n",
       "      width: 32px;\n",
       "    }\n",
       "\n",
       "    .colab-df-convert:hover {\n",
       "      background-color: #E2EBFA;\n",
       "      box-shadow: 0px 1px 2px rgba(60, 64, 67, 0.3), 0px 1px 3px 1px rgba(60, 64, 67, 0.15);\n",
       "      fill: #174EA6;\n",
       "    }\n",
       "\n",
       "    [theme=dark] .colab-df-convert {\n",
       "      background-color: #3B4455;\n",
       "      fill: #D2E3FC;\n",
       "    }\n",
       "\n",
       "    [theme=dark] .colab-df-convert:hover {\n",
       "      background-color: #434B5C;\n",
       "      box-shadow: 0px 1px 3px 1px rgba(0, 0, 0, 0.15);\n",
       "      filter: drop-shadow(0px 1px 2px rgba(0, 0, 0, 0.3));\n",
       "      fill: #FFFFFF;\n",
       "    }\n",
       "  </style>\n",
       "\n",
       "      <script>\n",
       "        const buttonEl =\n",
       "          document.querySelector('#df-ae85059e-619a-44b2-8ddf-5865669dea54 button.colab-df-convert');\n",
       "        buttonEl.style.display =\n",
       "          google.colab.kernel.accessAllowed ? 'block' : 'none';\n",
       "\n",
       "        async function convertToInteractive(key) {\n",
       "          const element = document.querySelector('#df-ae85059e-619a-44b2-8ddf-5865669dea54');\n",
       "          const dataTable =\n",
       "            await google.colab.kernel.invokeFunction('convertToInteractive',\n",
       "                                                     [key], {});\n",
       "          if (!dataTable) return;\n",
       "\n",
       "          const docLinkHtml = 'Like what you see? Visit the ' +\n",
       "            '<a target=\"_blank\" href=https://colab.research.google.com/notebooks/data_table.ipynb>data table notebook</a>'\n",
       "            + ' to learn more about interactive tables.';\n",
       "          element.innerHTML = '';\n",
       "          dataTable['output_type'] = 'display_data';\n",
       "          await google.colab.output.renderOutput(dataTable, element);\n",
       "          const docLink = document.createElement('div');\n",
       "          docLink.innerHTML = docLinkHtml;\n",
       "          element.appendChild(docLink);\n",
       "        }\n",
       "      </script>\n",
       "    </div>\n",
       "  </div>\n",
       "  "
      ],
      "text/plain": [
       "  Vendedor Nome do lead\n",
       "0   Thiago        Bruna\n",
       "1   Romulo          Ana\n",
       "2   Rafael      Adriana\n",
       "3   Carlos         Dina\n",
       "4     João      Leticia"
      ]
     },
     "execution_count": 10,
     "metadata": {},
     "output_type": "execute_result"
    }
   ],
   "source": [
    "data['Nome do lead'] = [lead.title() for lead in rawData_TonyStark['Nome do lead']]\n",
    "data.head()"
   ]
  },
  {
   "cell_type": "markdown",
   "metadata": {
    "id": "u61XDZxtBtRH"
   },
   "source": [
    "## \"Telefone do lead\""
   ]
  },
  {
   "cell_type": "markdown",
   "metadata": {
    "id": "lEiykJXzEHlS"
   },
   "source": [
    "Clearly the phone numbers in both sheets do not coincide:"
   ]
  },
  {
   "cell_type": "code",
   "execution_count": null,
   "metadata": {
    "colab": {
     "base_uri": "https://localhost:8080/"
    },
    "executionInfo": {
     "elapsed": 92,
     "status": "ok",
     "timestamp": 1644468596761,
     "user": {
      "displayName": "Diego Medrano Jiménez",
      "photoUrl": "https://lh3.googleusercontent.com/a-/AOh14Gi0EFChMeLtAAS3gsoyDERhd5tt6D-8C-lwnpECig=s64",
      "userId": "12536918966160991768"
     },
     "user_tz": 180
    },
    "id": "ErJPss77C_BR",
    "outputId": "14a770e6-5278-45f0-b04f-bdc7ea1e819c"
   },
   "outputs": [
    {
     "data": {
      "text/plain": [
       "0"
      ]
     },
     "execution_count": 11,
     "metadata": {},
     "output_type": "execute_result"
    }
   ],
   "source": [
    "(rawData_TonyStark['Telefone do lead'] == rawData_Joao['Telefone do lead']).sum() # All entries are different"
   ]
  },
  {
   "cell_type": "markdown",
   "metadata": {
    "id": "V7CVLCbyE9LY"
   },
   "source": [
    "However, it is easy to see that the \"João sheet\" has been manipulated ruining its data. Using the sintax \"(ddd) ph1-ph2\" we can check that `rawData_Joao['Telefone do lead']` is just a funny reordering of `rawData_TonyStark['Telefone do lead']`:"
   ]
  },
  {
   "cell_type": "code",
   "execution_count": null,
   "metadata": {
    "colab": {
     "base_uri": "https://localhost:8080/"
    },
    "executionInfo": {
     "elapsed": 89,
     "status": "ok",
     "timestamp": 1644468596762,
     "user": {
      "displayName": "Diego Medrano Jiménez",
      "photoUrl": "https://lh3.googleusercontent.com/a-/AOh14Gi0EFChMeLtAAS3gsoyDERhd5tt6D-8C-lwnpECig=s64",
      "userId": "12536918966160991768"
     },
     "user_tz": 180
    },
    "id": "B0IzV8nDEtVc",
    "outputId": "9406f6e1-b09e-4b78-cdca-975bb73e9860"
   },
   "outputs": [
    {
     "name": "stdout",
     "output_type": "stream",
     "text": [
      "True\n",
      "True\n",
      "True\n",
      "['0102', '0428', '0451', '0753', '1323', '1333', '1427', '1460', '1627', '1683', '1695', '2372', '2531', '2953', '3056', '3330', '3374', '3450', '3655', '4084', '4397', '4537', '4616', '4745', '5143', '5510', '5778', '5782', '6529', '6621', '6641', '6778', '7305', '7422', '7603', '7736', '7761', '7913', '8077', '8566', '8651', '8906', '9460', '9460']\n"
     ]
    }
   ],
   "source": [
    "ddd_TonyStark = [num.split()[0].strip('()') for num in rawData_TonyStark['Telefone do lead']]\n",
    "ddd_Joao = [num.split()[0].strip('()') for num in rawData_Joao['Telefone do lead']]\n",
    "print(ddd_TonyStark == ddd_Joao) # Same \"ddd\"\n",
    "\n",
    "ph1_TonyStark = [num.split()[1].split('-')[0] for num in rawData_TonyStark['Telefone do lead']]\n",
    "ph1_Joao = [num.split()[1][:4] for num in rawData_Joao['Telefone do lead']]\n",
    "print(ph1_TonyStark == ph1_Joao) # Same \"ph1\"\n",
    "\n",
    "ph2_TonyStark = [num.split()[1].split('-')[1] for num in rawData_TonyStark['Telefone do lead']]\n",
    "ph2_Joao = [num.split()[1][4:] for num in rawData_Joao['Telefone do lead']]\n",
    "print( sorted(ph2_TonyStark) == ph2_Joao ) # \"ph2\" has been ordered in ascending numbers\n",
    "\n",
    "print(ph2_Joao)"
   ]
  },
  {
   "cell_type": "markdown",
   "metadata": {
    "id": "jAW6hSSJF7n9"
   },
   "source": [
    "Therefore again, `rawData_TonyStark['Telefone do lead']` is the correct one and we can include it in the final dataset:"
   ]
  },
  {
   "cell_type": "code",
   "execution_count": null,
   "metadata": {
    "colab": {
     "base_uri": "https://localhost:8080/",
     "height": 206
    },
    "executionInfo": {
     "elapsed": 87,
     "status": "ok",
     "timestamp": 1644468596763,
     "user": {
      "displayName": "Diego Medrano Jiménez",
      "photoUrl": "https://lh3.googleusercontent.com/a-/AOh14Gi0EFChMeLtAAS3gsoyDERhd5tt6D-8C-lwnpECig=s64",
      "userId": "12536918966160991768"
     },
     "user_tz": 180
    },
    "id": "Zd-SDz1xGBPO",
    "outputId": "28e891b9-7b3c-4182-c15e-d7545b1b10ee"
   },
   "outputs": [
    {
     "data": {
      "text/html": [
       "\n",
       "  <div id=\"df-9bb6e39d-5d7b-422a-9bbf-3706160375f5\">\n",
       "    <div class=\"colab-df-container\">\n",
       "      <div>\n",
       "<style scoped>\n",
       "    .dataframe tbody tr th:only-of-type {\n",
       "        vertical-align: middle;\n",
       "    }\n",
       "\n",
       "    .dataframe tbody tr th {\n",
       "        vertical-align: top;\n",
       "    }\n",
       "\n",
       "    .dataframe thead th {\n",
       "        text-align: right;\n",
       "    }\n",
       "</style>\n",
       "<table border=\"1\" class=\"dataframe\">\n",
       "  <thead>\n",
       "    <tr style=\"text-align: right;\">\n",
       "      <th></th>\n",
       "      <th>Vendedor</th>\n",
       "      <th>Nome do lead</th>\n",
       "      <th>Telefone do lead</th>\n",
       "    </tr>\n",
       "  </thead>\n",
       "  <tbody>\n",
       "    <tr>\n",
       "      <th>0</th>\n",
       "      <td>Thiago</td>\n",
       "      <td>Bruna</td>\n",
       "      <td>(88) 3395-1695</td>\n",
       "    </tr>\n",
       "    <tr>\n",
       "      <th>1</th>\n",
       "      <td>Romulo</td>\n",
       "      <td>Ana</td>\n",
       "      <td>(68) 2446-3056</td>\n",
       "    </tr>\n",
       "    <tr>\n",
       "      <th>2</th>\n",
       "      <td>Rafael</td>\n",
       "      <td>Adriana</td>\n",
       "      <td>(63) 2992-5510</td>\n",
       "    </tr>\n",
       "    <tr>\n",
       "      <th>3</th>\n",
       "      <td>Carlos</td>\n",
       "      <td>Dina</td>\n",
       "      <td>(95) 2781-4745</td>\n",
       "    </tr>\n",
       "    <tr>\n",
       "      <th>4</th>\n",
       "      <td>João</td>\n",
       "      <td>Leticia</td>\n",
       "      <td>(49) 3293-2372</td>\n",
       "    </tr>\n",
       "  </tbody>\n",
       "</table>\n",
       "</div>\n",
       "      <button class=\"colab-df-convert\" onclick=\"convertToInteractive('df-9bb6e39d-5d7b-422a-9bbf-3706160375f5')\"\n",
       "              title=\"Convert this dataframe to an interactive table.\"\n",
       "              style=\"display:none;\">\n",
       "        \n",
       "  <svg xmlns=\"http://www.w3.org/2000/svg\" height=\"24px\"viewBox=\"0 0 24 24\"\n",
       "       width=\"24px\">\n",
       "    <path d=\"M0 0h24v24H0V0z\" fill=\"none\"/>\n",
       "    <path d=\"M18.56 5.44l.94 2.06.94-2.06 2.06-.94-2.06-.94-.94-2.06-.94 2.06-2.06.94zm-11 1L8.5 8.5l.94-2.06 2.06-.94-2.06-.94L8.5 2.5l-.94 2.06-2.06.94zm10 10l.94 2.06.94-2.06 2.06-.94-2.06-.94-.94-2.06-.94 2.06-2.06.94z\"/><path d=\"M17.41 7.96l-1.37-1.37c-.4-.4-.92-.59-1.43-.59-.52 0-1.04.2-1.43.59L10.3 9.45l-7.72 7.72c-.78.78-.78 2.05 0 2.83L4 21.41c.39.39.9.59 1.41.59.51 0 1.02-.2 1.41-.59l7.78-7.78 2.81-2.81c.8-.78.8-2.07 0-2.86zM5.41 20L4 18.59l7.72-7.72 1.47 1.35L5.41 20z\"/>\n",
       "  </svg>\n",
       "      </button>\n",
       "      \n",
       "  <style>\n",
       "    .colab-df-container {\n",
       "      display:flex;\n",
       "      flex-wrap:wrap;\n",
       "      gap: 12px;\n",
       "    }\n",
       "\n",
       "    .colab-df-convert {\n",
       "      background-color: #E8F0FE;\n",
       "      border: none;\n",
       "      border-radius: 50%;\n",
       "      cursor: pointer;\n",
       "      display: none;\n",
       "      fill: #1967D2;\n",
       "      height: 32px;\n",
       "      padding: 0 0 0 0;\n",
       "      width: 32px;\n",
       "    }\n",
       "\n",
       "    .colab-df-convert:hover {\n",
       "      background-color: #E2EBFA;\n",
       "      box-shadow: 0px 1px 2px rgba(60, 64, 67, 0.3), 0px 1px 3px 1px rgba(60, 64, 67, 0.15);\n",
       "      fill: #174EA6;\n",
       "    }\n",
       "\n",
       "    [theme=dark] .colab-df-convert {\n",
       "      background-color: #3B4455;\n",
       "      fill: #D2E3FC;\n",
       "    }\n",
       "\n",
       "    [theme=dark] .colab-df-convert:hover {\n",
       "      background-color: #434B5C;\n",
       "      box-shadow: 0px 1px 3px 1px rgba(0, 0, 0, 0.15);\n",
       "      filter: drop-shadow(0px 1px 2px rgba(0, 0, 0, 0.3));\n",
       "      fill: #FFFFFF;\n",
       "    }\n",
       "  </style>\n",
       "\n",
       "      <script>\n",
       "        const buttonEl =\n",
       "          document.querySelector('#df-9bb6e39d-5d7b-422a-9bbf-3706160375f5 button.colab-df-convert');\n",
       "        buttonEl.style.display =\n",
       "          google.colab.kernel.accessAllowed ? 'block' : 'none';\n",
       "\n",
       "        async function convertToInteractive(key) {\n",
       "          const element = document.querySelector('#df-9bb6e39d-5d7b-422a-9bbf-3706160375f5');\n",
       "          const dataTable =\n",
       "            await google.colab.kernel.invokeFunction('convertToInteractive',\n",
       "                                                     [key], {});\n",
       "          if (!dataTable) return;\n",
       "\n",
       "          const docLinkHtml = 'Like what you see? Visit the ' +\n",
       "            '<a target=\"_blank\" href=https://colab.research.google.com/notebooks/data_table.ipynb>data table notebook</a>'\n",
       "            + ' to learn more about interactive tables.';\n",
       "          element.innerHTML = '';\n",
       "          dataTable['output_type'] = 'display_data';\n",
       "          await google.colab.output.renderOutput(dataTable, element);\n",
       "          const docLink = document.createElement('div');\n",
       "          docLink.innerHTML = docLinkHtml;\n",
       "          element.appendChild(docLink);\n",
       "        }\n",
       "      </script>\n",
       "    </div>\n",
       "  </div>\n",
       "  "
      ],
      "text/plain": [
       "  Vendedor Nome do lead Telefone do lead\n",
       "0   Thiago        Bruna   (88) 3395-1695\n",
       "1   Romulo          Ana   (68) 2446-3056\n",
       "2   Rafael      Adriana   (63) 2992-5510\n",
       "3   Carlos         Dina   (95) 2781-4745\n",
       "4     João      Leticia   (49) 3293-2372"
      ]
     },
     "execution_count": 13,
     "metadata": {},
     "output_type": "execute_result"
    }
   ],
   "source": [
    "data['Telefone do lead'] = rawData_TonyStark['Telefone do lead']\n",
    "data.head()"
   ]
  },
  {
   "cell_type": "markdown",
   "metadata": {
    "id": "YABMJNB_gbco"
   },
   "source": [
    "As a curiosity, there is a duplicated phone number which, for the momento, I am not going to discard..."
   ]
  },
  {
   "cell_type": "code",
   "execution_count": null,
   "metadata": {
    "colab": {
     "base_uri": "https://localhost:8080/",
     "height": 112
    },
    "executionInfo": {
     "elapsed": 86,
     "status": "ok",
     "timestamp": 1644468596764,
     "user": {
      "displayName": "Diego Medrano Jiménez",
      "photoUrl": "https://lh3.googleusercontent.com/a-/AOh14Gi0EFChMeLtAAS3gsoyDERhd5tt6D-8C-lwnpECig=s64",
      "userId": "12536918966160991768"
     },
     "user_tz": 180
    },
    "id": "7oGnDdpxhGOc",
    "outputId": "3b89e8de-03c7-461a-e68c-a2b2cb3780aa"
   },
   "outputs": [
    {
     "data": {
      "text/html": [
       "\n",
       "  <div id=\"df-a23bf8a7-cbf0-4e3a-a4cb-44c54638966d\">\n",
       "    <div class=\"colab-df-container\">\n",
       "      <div>\n",
       "<style scoped>\n",
       "    .dataframe tbody tr th:only-of-type {\n",
       "        vertical-align: middle;\n",
       "    }\n",
       "\n",
       "    .dataframe tbody tr th {\n",
       "        vertical-align: top;\n",
       "    }\n",
       "\n",
       "    .dataframe thead th {\n",
       "        text-align: right;\n",
       "    }\n",
       "</style>\n",
       "<table border=\"1\" class=\"dataframe\">\n",
       "  <thead>\n",
       "    <tr style=\"text-align: right;\">\n",
       "      <th></th>\n",
       "      <th>Vendedor</th>\n",
       "      <th>Nome do lead</th>\n",
       "      <th>Telefone do lead</th>\n",
       "      <th>E-mail do lead</th>\n",
       "      <th>Status</th>\n",
       "      <th>Objeção</th>\n",
       "      <th>Unnamed: 6</th>\n",
       "      <th>Valor</th>\n",
       "    </tr>\n",
       "  </thead>\n",
       "  <tbody>\n",
       "    <tr>\n",
       "      <th>12</th>\n",
       "      <td>Romulo</td>\n",
       "      <td>Margarida</td>\n",
       "      <td>(48) 3706-9460</td>\n",
       "      <td>Margarida13@Yahoo</td>\n",
       "      <td>Concluído</td>\n",
       "      <td>não atendeu</td>\n",
       "      <td>NaN</td>\n",
       "      <td>597.0</td>\n",
       "    </tr>\n",
       "    <tr>\n",
       "      <th>13</th>\n",
       "      <td>Rafael</td>\n",
       "      <td>Renata</td>\n",
       "      <td>(48) 3706-9460</td>\n",
       "      <td>Renata14@Terra</td>\n",
       "      <td>Pago</td>\n",
       "      <td>não responde</td>\n",
       "      <td>NaN</td>\n",
       "      <td>297.0</td>\n",
       "    </tr>\n",
       "  </tbody>\n",
       "</table>\n",
       "</div>\n",
       "      <button class=\"colab-df-convert\" onclick=\"convertToInteractive('df-a23bf8a7-cbf0-4e3a-a4cb-44c54638966d')\"\n",
       "              title=\"Convert this dataframe to an interactive table.\"\n",
       "              style=\"display:none;\">\n",
       "        \n",
       "  <svg xmlns=\"http://www.w3.org/2000/svg\" height=\"24px\"viewBox=\"0 0 24 24\"\n",
       "       width=\"24px\">\n",
       "    <path d=\"M0 0h24v24H0V0z\" fill=\"none\"/>\n",
       "    <path d=\"M18.56 5.44l.94 2.06.94-2.06 2.06-.94-2.06-.94-.94-2.06-.94 2.06-2.06.94zm-11 1L8.5 8.5l.94-2.06 2.06-.94-2.06-.94L8.5 2.5l-.94 2.06-2.06.94zm10 10l.94 2.06.94-2.06 2.06-.94-2.06-.94-.94-2.06-.94 2.06-2.06.94z\"/><path d=\"M17.41 7.96l-1.37-1.37c-.4-.4-.92-.59-1.43-.59-.52 0-1.04.2-1.43.59L10.3 9.45l-7.72 7.72c-.78.78-.78 2.05 0 2.83L4 21.41c.39.39.9.59 1.41.59.51 0 1.02-.2 1.41-.59l7.78-7.78 2.81-2.81c.8-.78.8-2.07 0-2.86zM5.41 20L4 18.59l7.72-7.72 1.47 1.35L5.41 20z\"/>\n",
       "  </svg>\n",
       "      </button>\n",
       "      \n",
       "  <style>\n",
       "    .colab-df-container {\n",
       "      display:flex;\n",
       "      flex-wrap:wrap;\n",
       "      gap: 12px;\n",
       "    }\n",
       "\n",
       "    .colab-df-convert {\n",
       "      background-color: #E8F0FE;\n",
       "      border: none;\n",
       "      border-radius: 50%;\n",
       "      cursor: pointer;\n",
       "      display: none;\n",
       "      fill: #1967D2;\n",
       "      height: 32px;\n",
       "      padding: 0 0 0 0;\n",
       "      width: 32px;\n",
       "    }\n",
       "\n",
       "    .colab-df-convert:hover {\n",
       "      background-color: #E2EBFA;\n",
       "      box-shadow: 0px 1px 2px rgba(60, 64, 67, 0.3), 0px 1px 3px 1px rgba(60, 64, 67, 0.15);\n",
       "      fill: #174EA6;\n",
       "    }\n",
       "\n",
       "    [theme=dark] .colab-df-convert {\n",
       "      background-color: #3B4455;\n",
       "      fill: #D2E3FC;\n",
       "    }\n",
       "\n",
       "    [theme=dark] .colab-df-convert:hover {\n",
       "      background-color: #434B5C;\n",
       "      box-shadow: 0px 1px 3px 1px rgba(0, 0, 0, 0.15);\n",
       "      filter: drop-shadow(0px 1px 2px rgba(0, 0, 0, 0.3));\n",
       "      fill: #FFFFFF;\n",
       "    }\n",
       "  </style>\n",
       "\n",
       "      <script>\n",
       "        const buttonEl =\n",
       "          document.querySelector('#df-a23bf8a7-cbf0-4e3a-a4cb-44c54638966d button.colab-df-convert');\n",
       "        buttonEl.style.display =\n",
       "          google.colab.kernel.accessAllowed ? 'block' : 'none';\n",
       "\n",
       "        async function convertToInteractive(key) {\n",
       "          const element = document.querySelector('#df-a23bf8a7-cbf0-4e3a-a4cb-44c54638966d');\n",
       "          const dataTable =\n",
       "            await google.colab.kernel.invokeFunction('convertToInteractive',\n",
       "                                                     [key], {});\n",
       "          if (!dataTable) return;\n",
       "\n",
       "          const docLinkHtml = 'Like what you see? Visit the ' +\n",
       "            '<a target=\"_blank\" href=https://colab.research.google.com/notebooks/data_table.ipynb>data table notebook</a>'\n",
       "            + ' to learn more about interactive tables.';\n",
       "          element.innerHTML = '';\n",
       "          dataTable['output_type'] = 'display_data';\n",
       "          await google.colab.output.renderOutput(dataTable, element);\n",
       "          const docLink = document.createElement('div');\n",
       "          docLink.innerHTML = docLinkHtml;\n",
       "          element.appendChild(docLink);\n",
       "        }\n",
       "      </script>\n",
       "    </div>\n",
       "  </div>\n",
       "  "
      ],
      "text/plain": [
       "   Vendedor Nome do lead Telefone do lead  ...       Objeção Unnamed: 6  Valor\n",
       "12   Romulo    Margarida   (48) 3706-9460  ...   não atendeu        NaN  597.0\n",
       "13   Rafael       Renata   (48) 3706-9460  ...  não responde        NaN  297.0\n",
       "\n",
       "[2 rows x 8 columns]"
      ]
     },
     "execution_count": 14,
     "metadata": {},
     "output_type": "execute_result"
    }
   ],
   "source": [
    "rawData_TonyStark[rawData_TonyStark['Telefone do lead'].duplicated(keep=False)]"
   ]
  },
  {
   "cell_type": "markdown",
   "metadata": {
    "id": "0Wj-VbzWKXm1"
   },
   "source": [
    "## \"Email do lead\""
   ]
  },
  {
   "cell_type": "markdown",
   "metadata": {
    "id": "vV97i2Z7QkCa"
   },
   "source": [
    "Here we find completely different emails on both sheets, with some misreading info and apparently crossed-generated entries. Let us explore the sheets separately..."
   ]
  },
  {
   "cell_type": "markdown",
   "metadata": {
    "id": "EJp1fndQRLi5"
   },
   "source": [
    "#### Emails: \"Tony Stark sheet\""
   ]
  },
  {
   "cell_type": "markdown",
   "metadata": {
    "id": "kafvIHvQaXH7"
   },
   "source": [
    "I am going to explore first the \"usernames\" and then the \"servers\" to see what is going on."
   ]
  },
  {
   "cell_type": "markdown",
   "metadata": {
    "id": "xkUfEZ0Jaj29"
   },
   "source": [
    "The usernames look like the customer names in `rawData_TonyStark['Nome do lead']` followed by some kind of `id` number, i.e. \"users\"=\"name\"+\"id\":"
   ]
  },
  {
   "cell_type": "code",
   "execution_count": null,
   "metadata": {
    "colab": {
     "base_uri": "https://localhost:8080/"
    },
    "executionInfo": {
     "elapsed": 86,
     "status": "ok",
     "timestamp": 1644468596765,
     "user": {
      "displayName": "Diego Medrano Jiménez",
      "photoUrl": "https://lh3.googleusercontent.com/a-/AOh14Gi0EFChMeLtAAS3gsoyDERhd5tt6D-8C-lwnpECig=s64",
      "userId": "12536918966160991768"
     },
     "user_tz": 180
    },
    "id": "XKlENNFcGKXz",
    "outputId": "562cabbc-856a-4bd0-9e3e-ab7786124b27"
   },
   "outputs": [
    {
     "data": {
      "text/plain": [
       "True"
      ]
     },
     "execution_count": 15,
     "metadata": {},
     "output_type": "execute_result"
    }
   ],
   "source": [
    "id = range(1,len(rawData_TonyStark)+1)\n",
    "users = [ rawData_TonyStark.loc[i,'Nome do lead']+str(id[i]) for i in range(len(rawData_TonyStark)) ] # Generated usernames\n",
    "\n",
    "usernames_TonyStark = [ x.split('@')[0] for x in rawData_TonyStark['E-mail do lead'] ] # Usernames in the dataset\n",
    "\n",
    "users == usernames_TonyStark"
   ]
  },
  {
   "cell_type": "markdown",
   "metadata": {
    "id": "BBwHOsn9dm9h"
   },
   "source": [
    "I think this was done on purpose instead of choosing more varied usernames when preparing the dataset, so I am ok with that."
   ]
  },
  {
   "cell_type": "markdown",
   "metadata": {
    "id": "5V1ne0ZGewtD"
   },
   "source": [
    "At the same time, the different \"servers\" have been generated concatenating the following list `['Hotmail', 'Gmail', 'Yahoo', 'Terra', 'Uou']` until completing all the entries:"
   ]
  },
  {
   "cell_type": "code",
   "execution_count": null,
   "metadata": {
    "colab": {
     "base_uri": "https://localhost:8080/"
    },
    "executionInfo": {
     "elapsed": 84,
     "status": "ok",
     "timestamp": 1644468596766,
     "user": {
      "displayName": "Diego Medrano Jiménez",
      "photoUrl": "https://lh3.googleusercontent.com/a-/AOh14Gi0EFChMeLtAAS3gsoyDERhd5tt6D-8C-lwnpECig=s64",
      "userId": "12536918966160991768"
     },
     "user_tz": 180
    },
    "id": "We8p9rHCfUDP",
    "outputId": "e9de66a7-3dae-4395-8692-a9703642c7d1"
   },
   "outputs": [
    {
     "data": {
      "text/plain": [
       "True"
      ]
     },
     "execution_count": 16,
     "metadata": {},
     "output_type": "execute_result"
    }
   ],
   "source": [
    "companies = ['Hotmail', 'Gmail', 'Yahoo', 'Terra', 'Uou'] # Building block to generate the servers\n",
    "\n",
    "servers_TonyStark = [ x.split('@')[1] for x in rawData_TonyStark['E-mail do lead'] ] # Servers in the dataset\n",
    "\n",
    "(companies * 9)[:len(rawData_TonyStark)] == servers_TonyStark"
   ]
  },
  {
   "cell_type": "markdown",
   "metadata": {
    "id": "ZdCE94AshAHO"
   },
   "source": [
    "Possibly it was done as well on purpose.Then, all the emails in the \"Tony Stark sheet\" would be valid once including a server extension, e.g. \"***@server.com\""
   ]
  },
  {
   "cell_type": "markdown",
   "metadata": {
    "id": "qftFYhm7RTzf"
   },
   "source": [
    "#### Emails: \"João sheet\""
   ]
  },
  {
   "cell_type": "markdown",
   "metadata": {
    "id": "ovOrKUtCjc0Y"
   },
   "source": [
    "This time we start exploring the servers, which have been generated in an analogous way:"
   ]
  },
  {
   "cell_type": "code",
   "execution_count": null,
   "metadata": {
    "colab": {
     "base_uri": "https://localhost:8080/"
    },
    "executionInfo": {
     "elapsed": 81,
     "status": "ok",
     "timestamp": 1644468596766,
     "user": {
      "displayName": "Diego Medrano Jiménez",
      "photoUrl": "https://lh3.googleusercontent.com/a-/AOh14Gi0EFChMeLtAAS3gsoyDERhd5tt6D-8C-lwnpECig=s64",
      "userId": "12536918966160991768"
     },
     "user_tz": 180
    },
    "id": "d2DvpIB3jnFh",
    "outputId": "12bb62f3-f542-4032-985f-171224f462e6"
   },
   "outputs": [
    {
     "data": {
      "text/plain": [
       "True"
      ]
     },
     "execution_count": 17,
     "metadata": {},
     "output_type": "execute_result"
    }
   ],
   "source": [
    "companies2 = ['hotmail', 'Outlook', 'Gmail', 'Terra'] # Building block to generate the servers\n",
    "\n",
    "servers_Joao = [ x.split('@')[1] for x in rawData_Joao['E-mail do lead'] ] # Servers in the dataset\n",
    "\n",
    "(companies2 * 11)[:len(rawData_Joao)] == servers_Joao"
   ]
  },
  {
   "cell_type": "markdown",
   "metadata": {
    "id": "RtezwEikiOtg"
   },
   "source": [
    "For the usernames, this sheet shows a more complex structure. Definitely, they do not match the customer names but the agents, so we could directly discard them with almost 100% certainty. They could correspond to the agent emails but the servers should match accordingly in that case: a single server for each agent. It does not happen."
   ]
  },
  {
   "cell_type": "markdown",
   "metadata": {
    "id": "5MJ69sLtle1e"
   },
   "source": [
    "In conclusion, there is no way to know with this data, whose email is each (neither for the customers nor the agents). Just for completeness of the exercise, I am going to include the previous emails in the \"Tony Stark sheet\" as the correct ones for the customers:"
   ]
  },
  {
   "cell_type": "code",
   "execution_count": null,
   "metadata": {
    "id": "Fqad3CUImJg1"
   },
   "outputs": [],
   "source": [
    "servers_TonyStark = [ 'Uol' if x=='Uou' else x for x in servers_TonyStark ]"
   ]
  },
  {
   "cell_type": "code",
   "execution_count": null,
   "metadata": {
    "colab": {
     "base_uri": "https://localhost:8080/",
     "height": 206
    },
    "executionInfo": {
     "elapsed": 78,
     "status": "ok",
     "timestamp": 1644468596767,
     "user": {
      "displayName": "Diego Medrano Jiménez",
      "photoUrl": "https://lh3.googleusercontent.com/a-/AOh14Gi0EFChMeLtAAS3gsoyDERhd5tt6D-8C-lwnpECig=s64",
      "userId": "12536918966160991768"
     },
     "user_tz": 180
    },
    "id": "ntUxjgsjnvMZ",
    "outputId": "2da9da92-402a-410f-e49e-817de082c175"
   },
   "outputs": [
    {
     "data": {
      "text/html": [
       "\n",
       "  <div id=\"df-0464c9b7-3eca-468b-b125-026f87720645\">\n",
       "    <div class=\"colab-df-container\">\n",
       "      <div>\n",
       "<style scoped>\n",
       "    .dataframe tbody tr th:only-of-type {\n",
       "        vertical-align: middle;\n",
       "    }\n",
       "\n",
       "    .dataframe tbody tr th {\n",
       "        vertical-align: top;\n",
       "    }\n",
       "\n",
       "    .dataframe thead th {\n",
       "        text-align: right;\n",
       "    }\n",
       "</style>\n",
       "<table border=\"1\" class=\"dataframe\">\n",
       "  <thead>\n",
       "    <tr style=\"text-align: right;\">\n",
       "      <th></th>\n",
       "      <th>Vendedor</th>\n",
       "      <th>Nome do lead</th>\n",
       "      <th>Telefone do lead</th>\n",
       "      <th>Email do lead</th>\n",
       "    </tr>\n",
       "  </thead>\n",
       "  <tbody>\n",
       "    <tr>\n",
       "      <th>0</th>\n",
       "      <td>Thiago</td>\n",
       "      <td>Bruna</td>\n",
       "      <td>(88) 3395-1695</td>\n",
       "      <td>bruna1@hotmail.com</td>\n",
       "    </tr>\n",
       "    <tr>\n",
       "      <th>1</th>\n",
       "      <td>Romulo</td>\n",
       "      <td>Ana</td>\n",
       "      <td>(68) 2446-3056</td>\n",
       "      <td>ana2@gmail.com</td>\n",
       "    </tr>\n",
       "    <tr>\n",
       "      <th>2</th>\n",
       "      <td>Rafael</td>\n",
       "      <td>Adriana</td>\n",
       "      <td>(63) 2992-5510</td>\n",
       "      <td>adriana3@yahoo.com</td>\n",
       "    </tr>\n",
       "    <tr>\n",
       "      <th>3</th>\n",
       "      <td>Carlos</td>\n",
       "      <td>Dina</td>\n",
       "      <td>(95) 2781-4745</td>\n",
       "      <td>dina4@terra.com</td>\n",
       "    </tr>\n",
       "    <tr>\n",
       "      <th>4</th>\n",
       "      <td>João</td>\n",
       "      <td>Leticia</td>\n",
       "      <td>(49) 3293-2372</td>\n",
       "      <td>leticia5@uol.com</td>\n",
       "    </tr>\n",
       "  </tbody>\n",
       "</table>\n",
       "</div>\n",
       "      <button class=\"colab-df-convert\" onclick=\"convertToInteractive('df-0464c9b7-3eca-468b-b125-026f87720645')\"\n",
       "              title=\"Convert this dataframe to an interactive table.\"\n",
       "              style=\"display:none;\">\n",
       "        \n",
       "  <svg xmlns=\"http://www.w3.org/2000/svg\" height=\"24px\"viewBox=\"0 0 24 24\"\n",
       "       width=\"24px\">\n",
       "    <path d=\"M0 0h24v24H0V0z\" fill=\"none\"/>\n",
       "    <path d=\"M18.56 5.44l.94 2.06.94-2.06 2.06-.94-2.06-.94-.94-2.06-.94 2.06-2.06.94zm-11 1L8.5 8.5l.94-2.06 2.06-.94-2.06-.94L8.5 2.5l-.94 2.06-2.06.94zm10 10l.94 2.06.94-2.06 2.06-.94-2.06-.94-.94-2.06-.94 2.06-2.06.94z\"/><path d=\"M17.41 7.96l-1.37-1.37c-.4-.4-.92-.59-1.43-.59-.52 0-1.04.2-1.43.59L10.3 9.45l-7.72 7.72c-.78.78-.78 2.05 0 2.83L4 21.41c.39.39.9.59 1.41.59.51 0 1.02-.2 1.41-.59l7.78-7.78 2.81-2.81c.8-.78.8-2.07 0-2.86zM5.41 20L4 18.59l7.72-7.72 1.47 1.35L5.41 20z\"/>\n",
       "  </svg>\n",
       "      </button>\n",
       "      \n",
       "  <style>\n",
       "    .colab-df-container {\n",
       "      display:flex;\n",
       "      flex-wrap:wrap;\n",
       "      gap: 12px;\n",
       "    }\n",
       "\n",
       "    .colab-df-convert {\n",
       "      background-color: #E8F0FE;\n",
       "      border: none;\n",
       "      border-radius: 50%;\n",
       "      cursor: pointer;\n",
       "      display: none;\n",
       "      fill: #1967D2;\n",
       "      height: 32px;\n",
       "      padding: 0 0 0 0;\n",
       "      width: 32px;\n",
       "    }\n",
       "\n",
       "    .colab-df-convert:hover {\n",
       "      background-color: #E2EBFA;\n",
       "      box-shadow: 0px 1px 2px rgba(60, 64, 67, 0.3), 0px 1px 3px 1px rgba(60, 64, 67, 0.15);\n",
       "      fill: #174EA6;\n",
       "    }\n",
       "\n",
       "    [theme=dark] .colab-df-convert {\n",
       "      background-color: #3B4455;\n",
       "      fill: #D2E3FC;\n",
       "    }\n",
       "\n",
       "    [theme=dark] .colab-df-convert:hover {\n",
       "      background-color: #434B5C;\n",
       "      box-shadow: 0px 1px 3px 1px rgba(0, 0, 0, 0.15);\n",
       "      filter: drop-shadow(0px 1px 2px rgba(0, 0, 0, 0.3));\n",
       "      fill: #FFFFFF;\n",
       "    }\n",
       "  </style>\n",
       "\n",
       "      <script>\n",
       "        const buttonEl =\n",
       "          document.querySelector('#df-0464c9b7-3eca-468b-b125-026f87720645 button.colab-df-convert');\n",
       "        buttonEl.style.display =\n",
       "          google.colab.kernel.accessAllowed ? 'block' : 'none';\n",
       "\n",
       "        async function convertToInteractive(key) {\n",
       "          const element = document.querySelector('#df-0464c9b7-3eca-468b-b125-026f87720645');\n",
       "          const dataTable =\n",
       "            await google.colab.kernel.invokeFunction('convertToInteractive',\n",
       "                                                     [key], {});\n",
       "          if (!dataTable) return;\n",
       "\n",
       "          const docLinkHtml = 'Like what you see? Visit the ' +\n",
       "            '<a target=\"_blank\" href=https://colab.research.google.com/notebooks/data_table.ipynb>data table notebook</a>'\n",
       "            + ' to learn more about interactive tables.';\n",
       "          element.innerHTML = '';\n",
       "          dataTable['output_type'] = 'display_data';\n",
       "          await google.colab.output.renderOutput(dataTable, element);\n",
       "          const docLink = document.createElement('div');\n",
       "          docLink.innerHTML = docLinkHtml;\n",
       "          element.appendChild(docLink);\n",
       "        }\n",
       "      </script>\n",
       "    </div>\n",
       "  </div>\n",
       "  "
      ],
      "text/plain": [
       "  Vendedor Nome do lead Telefone do lead       Email do lead\n",
       "0   Thiago        Bruna   (88) 3395-1695  bruna1@hotmail.com\n",
       "1   Romulo          Ana   (68) 2446-3056      ana2@gmail.com\n",
       "2   Rafael      Adriana   (63) 2992-5510  adriana3@yahoo.com\n",
       "3   Carlos         Dina   (95) 2781-4745     dina4@terra.com\n",
       "4     João      Leticia   (49) 3293-2372    leticia5@uol.com"
      ]
     },
     "execution_count": 19,
     "metadata": {},
     "output_type": "execute_result"
    }
   ],
   "source": [
    "data['Email do lead'] = [ usernames_TonyStark[i].lower()+'@'+servers_TonyStark[i].lower()+'.com' for i in range(len(rawData_TonyStark)) ]\n",
    "data.head()"
   ]
  },
  {
   "cell_type": "markdown",
   "metadata": {
    "id": "rvdujy3qku3F"
   },
   "source": [
    "Although we have discard them, let us unzip the usernames in the \"João sheet\" and save the numbers in a new column `data['aux']`. They may come from a different numeric column and we do not want to lose them."
   ]
  },
  {
   "cell_type": "code",
   "execution_count": null,
   "metadata": {
    "colab": {
     "base_uri": "https://localhost:8080/",
     "height": 206
    },
    "executionInfo": {
     "elapsed": 77,
     "status": "ok",
     "timestamp": 1644468596768,
     "user": {
      "displayName": "Diego Medrano Jiménez",
      "photoUrl": "https://lh3.googleusercontent.com/a-/AOh14Gi0EFChMeLtAAS3gsoyDERhd5tt6D-8C-lwnpECig=s64",
      "userId": "12536918966160991768"
     },
     "user_tz": 180
    },
    "id": "FMUSAiYiRXF7",
    "outputId": "af86cc2a-e321-4972-e0c2-b715160f3d85"
   },
   "outputs": [
    {
     "data": {
      "text/html": [
       "\n",
       "  <div id=\"df-16703329-a754-47b1-b922-50b5367ea63f\">\n",
       "    <div class=\"colab-df-container\">\n",
       "      <div>\n",
       "<style scoped>\n",
       "    .dataframe tbody tr th:only-of-type {\n",
       "        vertical-align: middle;\n",
       "    }\n",
       "\n",
       "    .dataframe tbody tr th {\n",
       "        vertical-align: top;\n",
       "    }\n",
       "\n",
       "    .dataframe thead th {\n",
       "        text-align: right;\n",
       "    }\n",
       "</style>\n",
       "<table border=\"1\" class=\"dataframe\">\n",
       "  <thead>\n",
       "    <tr style=\"text-align: right;\">\n",
       "      <th></th>\n",
       "      <th>Vendedor</th>\n",
       "      <th>Nome do lead</th>\n",
       "      <th>Telefone do lead</th>\n",
       "      <th>Email do lead</th>\n",
       "      <th>aux</th>\n",
       "    </tr>\n",
       "  </thead>\n",
       "  <tbody>\n",
       "    <tr>\n",
       "      <th>0</th>\n",
       "      <td>Thiago</td>\n",
       "      <td>Bruna</td>\n",
       "      <td>(88) 3395-1695</td>\n",
       "      <td>bruna1@hotmail.com</td>\n",
       "      <td>56.000000</td>\n",
       "    </tr>\n",
       "    <tr>\n",
       "      <th>1</th>\n",
       "      <td>Romulo</td>\n",
       "      <td>Ana</td>\n",
       "      <td>(68) 2446-3056</td>\n",
       "      <td>ana2@gmail.com</td>\n",
       "      <td>1.000000</td>\n",
       "    </tr>\n",
       "    <tr>\n",
       "      <th>2</th>\n",
       "      <td>Rafael</td>\n",
       "      <td>Adriana</td>\n",
       "      <td>(63) 2992-5510</td>\n",
       "      <td>adriana3@yahoo.com</td>\n",
       "      <td>512.000000</td>\n",
       "    </tr>\n",
       "    <tr>\n",
       "      <th>3</th>\n",
       "      <td>Carlos</td>\n",
       "      <td>Dina</td>\n",
       "      <td>(95) 2781-4745</td>\n",
       "      <td>dina4@terra.com</td>\n",
       "      <td>645.666667</td>\n",
       "    </tr>\n",
       "    <tr>\n",
       "      <th>4</th>\n",
       "      <td>João</td>\n",
       "      <td>Leticia</td>\n",
       "      <td>(49) 3293-2372</td>\n",
       "      <td>leticia5@uol.com</td>\n",
       "      <td>873.666667</td>\n",
       "    </tr>\n",
       "  </tbody>\n",
       "</table>\n",
       "</div>\n",
       "      <button class=\"colab-df-convert\" onclick=\"convertToInteractive('df-16703329-a754-47b1-b922-50b5367ea63f')\"\n",
       "              title=\"Convert this dataframe to an interactive table.\"\n",
       "              style=\"display:none;\">\n",
       "        \n",
       "  <svg xmlns=\"http://www.w3.org/2000/svg\" height=\"24px\"viewBox=\"0 0 24 24\"\n",
       "       width=\"24px\">\n",
       "    <path d=\"M0 0h24v24H0V0z\" fill=\"none\"/>\n",
       "    <path d=\"M18.56 5.44l.94 2.06.94-2.06 2.06-.94-2.06-.94-.94-2.06-.94 2.06-2.06.94zm-11 1L8.5 8.5l.94-2.06 2.06-.94-2.06-.94L8.5 2.5l-.94 2.06-2.06.94zm10 10l.94 2.06.94-2.06 2.06-.94-2.06-.94-.94-2.06-.94 2.06-2.06.94z\"/><path d=\"M17.41 7.96l-1.37-1.37c-.4-.4-.92-.59-1.43-.59-.52 0-1.04.2-1.43.59L10.3 9.45l-7.72 7.72c-.78.78-.78 2.05 0 2.83L4 21.41c.39.39.9.59 1.41.59.51 0 1.02-.2 1.41-.59l7.78-7.78 2.81-2.81c.8-.78.8-2.07 0-2.86zM5.41 20L4 18.59l7.72-7.72 1.47 1.35L5.41 20z\"/>\n",
       "  </svg>\n",
       "      </button>\n",
       "      \n",
       "  <style>\n",
       "    .colab-df-container {\n",
       "      display:flex;\n",
       "      flex-wrap:wrap;\n",
       "      gap: 12px;\n",
       "    }\n",
       "\n",
       "    .colab-df-convert {\n",
       "      background-color: #E8F0FE;\n",
       "      border: none;\n",
       "      border-radius: 50%;\n",
       "      cursor: pointer;\n",
       "      display: none;\n",
       "      fill: #1967D2;\n",
       "      height: 32px;\n",
       "      padding: 0 0 0 0;\n",
       "      width: 32px;\n",
       "    }\n",
       "\n",
       "    .colab-df-convert:hover {\n",
       "      background-color: #E2EBFA;\n",
       "      box-shadow: 0px 1px 2px rgba(60, 64, 67, 0.3), 0px 1px 3px 1px rgba(60, 64, 67, 0.15);\n",
       "      fill: #174EA6;\n",
       "    }\n",
       "\n",
       "    [theme=dark] .colab-df-convert {\n",
       "      background-color: #3B4455;\n",
       "      fill: #D2E3FC;\n",
       "    }\n",
       "\n",
       "    [theme=dark] .colab-df-convert:hover {\n",
       "      background-color: #434B5C;\n",
       "      box-shadow: 0px 1px 3px 1px rgba(0, 0, 0, 0.15);\n",
       "      filter: drop-shadow(0px 1px 2px rgba(0, 0, 0, 0.3));\n",
       "      fill: #FFFFFF;\n",
       "    }\n",
       "  </style>\n",
       "\n",
       "      <script>\n",
       "        const buttonEl =\n",
       "          document.querySelector('#df-16703329-a754-47b1-b922-50b5367ea63f button.colab-df-convert');\n",
       "        buttonEl.style.display =\n",
       "          google.colab.kernel.accessAllowed ? 'block' : 'none';\n",
       "\n",
       "        async function convertToInteractive(key) {\n",
       "          const element = document.querySelector('#df-16703329-a754-47b1-b922-50b5367ea63f');\n",
       "          const dataTable =\n",
       "            await google.colab.kernel.invokeFunction('convertToInteractive',\n",
       "                                                     [key], {});\n",
       "          if (!dataTable) return;\n",
       "\n",
       "          const docLinkHtml = 'Like what you see? Visit the ' +\n",
       "            '<a target=\"_blank\" href=https://colab.research.google.com/notebooks/data_table.ipynb>data table notebook</a>'\n",
       "            + ' to learn more about interactive tables.';\n",
       "          element.innerHTML = '';\n",
       "          dataTable['output_type'] = 'display_data';\n",
       "          await google.colab.output.renderOutput(dataTable, element);\n",
       "          const docLink = document.createElement('div');\n",
       "          docLink.innerHTML = docLinkHtml;\n",
       "          element.appendChild(docLink);\n",
       "        }\n",
       "      </script>\n",
       "    </div>\n",
       "  </div>\n",
       "  "
      ],
      "text/plain": [
       "  Vendedor Nome do lead Telefone do lead       Email do lead         aux\n",
       "0   Thiago        Bruna   (88) 3395-1695  bruna1@hotmail.com   56.000000\n",
       "1   Romulo          Ana   (68) 2446-3056      ana2@gmail.com    1.000000\n",
       "2   Rafael      Adriana   (63) 2992-5510  adriana3@yahoo.com  512.000000\n",
       "3   Carlos         Dina   (95) 2781-4745     dina4@terra.com  645.666667\n",
       "4     João      Leticia   (49) 3293-2372    leticia5@uol.com  873.666667"
      ]
     },
     "execution_count": 20,
     "metadata": {},
     "output_type": "execute_result"
    }
   ],
   "source": [
    "data['aux'] = [ float(rawData_Joao.loc[i,'E-mail do lead'].split('@')[0].strip(rawData_Joao.loc[i,'lead']).replace(',','.')) for i in range(len(rawData_Joao)) ]\n",
    "data.head()"
   ]
  },
  {
   "cell_type": "markdown",
   "metadata": {
    "id": "fi31D4Bipsdz"
   },
   "source": [
    "#### 'aux' numeric values"
   ]
  },
  {
   "cell_type": "markdown",
   "metadata": {
    "id": "9xrZhxjKrEzF"
   },
   "source": [
    "These values could be crucial to restore the original information of a different numeric column. In fact, they could be related to the last column, i.e. \"Valor\", of the dataset. Let us explore them:"
   ]
  },
  {
   "cell_type": "code",
   "execution_count": null,
   "metadata": {
    "colab": {
     "base_uri": "https://localhost:8080/"
    },
    "executionInfo": {
     "elapsed": 76,
     "status": "ok",
     "timestamp": 1644468596768,
     "user": {
      "displayName": "Diego Medrano Jiménez",
      "photoUrl": "https://lh3.googleusercontent.com/a-/AOh14Gi0EFChMeLtAAS3gsoyDERhd5tt6D-8C-lwnpECig=s64",
      "userId": "12536918966160991768"
     },
     "user_tz": 180
    },
    "id": "fg2bzxPt5u_w",
    "outputId": "98f258fd-7cea-421b-ca57-9195eabf4d09"
   },
   "outputs": [
    {
     "data": {
      "text/plain": [
       "0      56.000000\n",
       "1       1.000000\n",
       "2     512.000000\n",
       "3     645.666667\n",
       "4     873.666667\n",
       "5    1101.666667\n",
       "6    1329.666667\n",
       "7    1557.666667\n",
       "8    1785.666667\n",
       "9    2013.666667\n",
       "Name: aux, dtype: float64"
      ]
     },
     "execution_count": 21,
     "metadata": {},
     "output_type": "execute_result"
    }
   ],
   "source": [
    "data['aux'].head(10)"
   ]
  },
  {
   "cell_type": "markdown",
   "metadata": {
    "id": "Vk1GN_JG8SqJ"
   },
   "source": [
    "It is just an array of ascending values. It could be related to the ordered list of arbitrary phone numbers in `ph2_Joao` but in this case the values are far from arbitrary since they are actually equally spaced with step `228` (most of them):"
   ]
  },
  {
   "cell_type": "code",
   "execution_count": null,
   "metadata": {
    "colab": {
     "base_uri": "https://localhost:8080/"
    },
    "executionInfo": {
     "elapsed": 73,
     "status": "ok",
     "timestamp": 1644468596769,
     "user": {
      "displayName": "Diego Medrano Jiménez",
      "photoUrl": "https://lh3.googleusercontent.com/a-/AOh14Gi0EFChMeLtAAS3gsoyDERhd5tt6D-8C-lwnpECig=s64",
      "userId": "12536918966160991768"
     },
     "user_tz": 180
    },
    "id": "XMVZezrp6oeS",
    "outputId": "899d338f-2577-4f18-c58a-564bdb33a7d4"
   },
   "outputs": [
    {
     "name": "stdout",
     "output_type": "stream",
     "text": [
      "[-55.0, 511.0, 133.66666666666697, 228.0, 228.00000000000296, 228.0, 228.0, 228.0, 228.0, 228.00000000000023, 228.0, 228.0, 228.0, 228.0, 228.0, 228.0, 228.0, 228.0, 227.99999999999955, 228.0, 228.0, 228.0, 228.0, 228.0, 228.0, 228.0, 228.0, 228.0, 228.0, 228.0, 228.0, 228.0, 228.0, 228.0, 228.0, 228.0, 228.0, 228.0, 228.0, 228.0, 228.0, 228.0, 228.0]\n"
     ]
    }
   ],
   "source": [
    "print([data.loc[i+1,'aux'] - data.loc[i,'aux'] for i in range(len(data)-1)])"
   ]
  },
  {
   "cell_type": "markdown",
   "metadata": {
    "id": "FgtxTn7i7LZW"
   },
   "source": [
    "There is a curious behavior at the begining of the array `[56, 1, 512, ...]`, where the `228` shows up again as the step-size between the numbers, i.e. `56 + 2*228 = 512`."
   ]
  },
  {
   "cell_type": "markdown",
   "metadata": {
    "id": "YVqwKc7u9jgQ"
   },
   "source": [
    "For the moment, it is impossible to extract more information without exploring the rest of the fields in the dataset."
   ]
  },
  {
   "cell_type": "markdown",
   "metadata": {
    "id": "h_yvNrPMRfy8"
   },
   "source": [
    "## \"Status\""
   ]
  },
  {
   "cell_type": "markdown",
   "metadata": {
    "id": "-GLUYR-GqCzh"
   },
   "source": [
    "Both sheets show the same entries:"
   ]
  },
  {
   "cell_type": "code",
   "execution_count": null,
   "metadata": {
    "colab": {
     "base_uri": "https://localhost:8080/"
    },
    "executionInfo": {
     "elapsed": 71,
     "status": "ok",
     "timestamp": 1644468596769,
     "user": {
      "displayName": "Diego Medrano Jiménez",
      "photoUrl": "https://lh3.googleusercontent.com/a-/AOh14Gi0EFChMeLtAAS3gsoyDERhd5tt6D-8C-lwnpECig=s64",
      "userId": "12536918966160991768"
     },
     "user_tz": 180
    },
    "id": "2h6m7uQBRk1J",
    "outputId": "f923d48e-90b1-48fa-f962-f42fa7467e2c"
   },
   "outputs": [
    {
     "data": {
      "text/plain": [
       "44"
      ]
     },
     "execution_count": 23,
     "metadata": {},
     "output_type": "execute_result"
    }
   ],
   "source": [
    "(rawData_TonyStark['Status'] == rawData_Joao['Status']).sum()"
   ]
  },
  {
   "cell_type": "markdown",
   "metadata": {
    "id": "BbmhMVZRv0f4"
   },
   "source": [
    "Again, they have been generated by concatenating a single list `['Concluído', 'Pago', 'Pendente', 'Contatado', 'concluido', 'pagou']` until completing the 44 entries:"
   ]
  },
  {
   "cell_type": "code",
   "execution_count": null,
   "metadata": {
    "colab": {
     "base_uri": "https://localhost:8080/"
    },
    "executionInfo": {
     "elapsed": 68,
     "status": "ok",
     "timestamp": 1644468596770,
     "user": {
      "displayName": "Diego Medrano Jiménez",
      "photoUrl": "https://lh3.googleusercontent.com/a-/AOh14Gi0EFChMeLtAAS3gsoyDERhd5tt6D-8C-lwnpECig=s64",
      "userId": "12536918966160991768"
     },
     "user_tz": 180
    },
    "id": "fzT91C9GwFiO",
    "outputId": "19ff3633-ef5e-42c2-872a-7993a3db2a2b"
   },
   "outputs": [
    {
     "data": {
      "text/plain": [
       "True"
      ]
     },
     "execution_count": 24,
     "metadata": {},
     "output_type": "execute_result"
    }
   ],
   "source": [
    "block = ['Concluído', 'Pago', 'Pendente', 'Contatado', 'concluido', 'pagou']\n",
    "\n",
    "( block * 8 )[:len(rawData_TonyStark)] == rawData_TonyStark['Status'].tolist()"
   ]
  },
  {
   "cell_type": "markdown",
   "metadata": {
    "id": "ZBZaFS1hx9qE"
   },
   "source": [
    "Updating the final dataset:"
   ]
  },
  {
   "cell_type": "code",
   "execution_count": null,
   "metadata": {
    "colab": {
     "base_uri": "https://localhost:8080/",
     "height": 206
    },
    "executionInfo": {
     "elapsed": 65,
     "status": "ok",
     "timestamp": 1644468596770,
     "user": {
      "displayName": "Diego Medrano Jiménez",
      "photoUrl": "https://lh3.googleusercontent.com/a-/AOh14Gi0EFChMeLtAAS3gsoyDERhd5tt6D-8C-lwnpECig=s64",
      "userId": "12536918966160991768"
     },
     "user_tz": 180
    },
    "id": "PYcBNAxnyF7u",
    "outputId": "19d4fa36-4af6-4c44-91a1-62d008d2843f"
   },
   "outputs": [
    {
     "data": {
      "text/html": [
       "\n",
       "  <div id=\"df-b574f185-7eb6-413b-bc46-db594f8fc741\">\n",
       "    <div class=\"colab-df-container\">\n",
       "      <div>\n",
       "<style scoped>\n",
       "    .dataframe tbody tr th:only-of-type {\n",
       "        vertical-align: middle;\n",
       "    }\n",
       "\n",
       "    .dataframe tbody tr th {\n",
       "        vertical-align: top;\n",
       "    }\n",
       "\n",
       "    .dataframe thead th {\n",
       "        text-align: right;\n",
       "    }\n",
       "</style>\n",
       "<table border=\"1\" class=\"dataframe\">\n",
       "  <thead>\n",
       "    <tr style=\"text-align: right;\">\n",
       "      <th></th>\n",
       "      <th>Vendedor</th>\n",
       "      <th>Nome do lead</th>\n",
       "      <th>Telefone do lead</th>\n",
       "      <th>Email do lead</th>\n",
       "      <th>aux</th>\n",
       "      <th>Status</th>\n",
       "    </tr>\n",
       "  </thead>\n",
       "  <tbody>\n",
       "    <tr>\n",
       "      <th>0</th>\n",
       "      <td>Thiago</td>\n",
       "      <td>Bruna</td>\n",
       "      <td>(88) 3395-1695</td>\n",
       "      <td>bruna1@hotmail.com</td>\n",
       "      <td>56.000000</td>\n",
       "      <td>concluído</td>\n",
       "    </tr>\n",
       "    <tr>\n",
       "      <th>1</th>\n",
       "      <td>Romulo</td>\n",
       "      <td>Ana</td>\n",
       "      <td>(68) 2446-3056</td>\n",
       "      <td>ana2@gmail.com</td>\n",
       "      <td>1.000000</td>\n",
       "      <td>pago</td>\n",
       "    </tr>\n",
       "    <tr>\n",
       "      <th>2</th>\n",
       "      <td>Rafael</td>\n",
       "      <td>Adriana</td>\n",
       "      <td>(63) 2992-5510</td>\n",
       "      <td>adriana3@yahoo.com</td>\n",
       "      <td>512.000000</td>\n",
       "      <td>pendente</td>\n",
       "    </tr>\n",
       "    <tr>\n",
       "      <th>3</th>\n",
       "      <td>Carlos</td>\n",
       "      <td>Dina</td>\n",
       "      <td>(95) 2781-4745</td>\n",
       "      <td>dina4@terra.com</td>\n",
       "      <td>645.666667</td>\n",
       "      <td>contatado</td>\n",
       "    </tr>\n",
       "    <tr>\n",
       "      <th>4</th>\n",
       "      <td>João</td>\n",
       "      <td>Leticia</td>\n",
       "      <td>(49) 3293-2372</td>\n",
       "      <td>leticia5@uol.com</td>\n",
       "      <td>873.666667</td>\n",
       "      <td>concluido</td>\n",
       "    </tr>\n",
       "  </tbody>\n",
       "</table>\n",
       "</div>\n",
       "      <button class=\"colab-df-convert\" onclick=\"convertToInteractive('df-b574f185-7eb6-413b-bc46-db594f8fc741')\"\n",
       "              title=\"Convert this dataframe to an interactive table.\"\n",
       "              style=\"display:none;\">\n",
       "        \n",
       "  <svg xmlns=\"http://www.w3.org/2000/svg\" height=\"24px\"viewBox=\"0 0 24 24\"\n",
       "       width=\"24px\">\n",
       "    <path d=\"M0 0h24v24H0V0z\" fill=\"none\"/>\n",
       "    <path d=\"M18.56 5.44l.94 2.06.94-2.06 2.06-.94-2.06-.94-.94-2.06-.94 2.06-2.06.94zm-11 1L8.5 8.5l.94-2.06 2.06-.94-2.06-.94L8.5 2.5l-.94 2.06-2.06.94zm10 10l.94 2.06.94-2.06 2.06-.94-2.06-.94-.94-2.06-.94 2.06-2.06.94z\"/><path d=\"M17.41 7.96l-1.37-1.37c-.4-.4-.92-.59-1.43-.59-.52 0-1.04.2-1.43.59L10.3 9.45l-7.72 7.72c-.78.78-.78 2.05 0 2.83L4 21.41c.39.39.9.59 1.41.59.51 0 1.02-.2 1.41-.59l7.78-7.78 2.81-2.81c.8-.78.8-2.07 0-2.86zM5.41 20L4 18.59l7.72-7.72 1.47 1.35L5.41 20z\"/>\n",
       "  </svg>\n",
       "      </button>\n",
       "      \n",
       "  <style>\n",
       "    .colab-df-container {\n",
       "      display:flex;\n",
       "      flex-wrap:wrap;\n",
       "      gap: 12px;\n",
       "    }\n",
       "\n",
       "    .colab-df-convert {\n",
       "      background-color: #E8F0FE;\n",
       "      border: none;\n",
       "      border-radius: 50%;\n",
       "      cursor: pointer;\n",
       "      display: none;\n",
       "      fill: #1967D2;\n",
       "      height: 32px;\n",
       "      padding: 0 0 0 0;\n",
       "      width: 32px;\n",
       "    }\n",
       "\n",
       "    .colab-df-convert:hover {\n",
       "      background-color: #E2EBFA;\n",
       "      box-shadow: 0px 1px 2px rgba(60, 64, 67, 0.3), 0px 1px 3px 1px rgba(60, 64, 67, 0.15);\n",
       "      fill: #174EA6;\n",
       "    }\n",
       "\n",
       "    [theme=dark] .colab-df-convert {\n",
       "      background-color: #3B4455;\n",
       "      fill: #D2E3FC;\n",
       "    }\n",
       "\n",
       "    [theme=dark] .colab-df-convert:hover {\n",
       "      background-color: #434B5C;\n",
       "      box-shadow: 0px 1px 3px 1px rgba(0, 0, 0, 0.15);\n",
       "      filter: drop-shadow(0px 1px 2px rgba(0, 0, 0, 0.3));\n",
       "      fill: #FFFFFF;\n",
       "    }\n",
       "  </style>\n",
       "\n",
       "      <script>\n",
       "        const buttonEl =\n",
       "          document.querySelector('#df-b574f185-7eb6-413b-bc46-db594f8fc741 button.colab-df-convert');\n",
       "        buttonEl.style.display =\n",
       "          google.colab.kernel.accessAllowed ? 'block' : 'none';\n",
       "\n",
       "        async function convertToInteractive(key) {\n",
       "          const element = document.querySelector('#df-b574f185-7eb6-413b-bc46-db594f8fc741');\n",
       "          const dataTable =\n",
       "            await google.colab.kernel.invokeFunction('convertToInteractive',\n",
       "                                                     [key], {});\n",
       "          if (!dataTable) return;\n",
       "\n",
       "          const docLinkHtml = 'Like what you see? Visit the ' +\n",
       "            '<a target=\"_blank\" href=https://colab.research.google.com/notebooks/data_table.ipynb>data table notebook</a>'\n",
       "            + ' to learn more about interactive tables.';\n",
       "          element.innerHTML = '';\n",
       "          dataTable['output_type'] = 'display_data';\n",
       "          await google.colab.output.renderOutput(dataTable, element);\n",
       "          const docLink = document.createElement('div');\n",
       "          docLink.innerHTML = docLinkHtml;\n",
       "          element.appendChild(docLink);\n",
       "        }\n",
       "      </script>\n",
       "    </div>\n",
       "  </div>\n",
       "  "
      ],
      "text/plain": [
       "  Vendedor Nome do lead  ...         aux     Status\n",
       "0   Thiago        Bruna  ...   56.000000  concluído\n",
       "1   Romulo          Ana  ...    1.000000       pago\n",
       "2   Rafael      Adriana  ...  512.000000   pendente\n",
       "3   Carlos         Dina  ...  645.666667  contatado\n",
       "4     João      Leticia  ...  873.666667  concluido\n",
       "\n",
       "[5 rows x 6 columns]"
      ]
     },
     "execution_count": 25,
     "metadata": {},
     "output_type": "execute_result"
    }
   ],
   "source": [
    "data['Status'] = [ category.lower() for category in rawData_TonyStark['Status']]\n",
    "data.head()"
   ]
  },
  {
   "cell_type": "markdown",
   "metadata": {
    "id": "MBLS0O-pw-sM"
   },
   "source": [
    "Nevertheless, some of the values are equivalent, so we have to join them:"
   ]
  },
  {
   "cell_type": "code",
   "execution_count": null,
   "metadata": {
    "colab": {
     "base_uri": "https://localhost:8080/",
     "height": 206
    },
    "executionInfo": {
     "elapsed": 64,
     "status": "ok",
     "timestamp": 1644468596771,
     "user": {
      "displayName": "Diego Medrano Jiménez",
      "photoUrl": "https://lh3.googleusercontent.com/a-/AOh14Gi0EFChMeLtAAS3gsoyDERhd5tt6D-8C-lwnpECig=s64",
      "userId": "12536918966160991768"
     },
     "user_tz": 180
    },
    "id": "OwWNCkaBy8_6",
    "outputId": "2146c756-f3c4-49d6-d1f1-d2f01cde73a9"
   },
   "outputs": [
    {
     "data": {
      "text/html": [
       "\n",
       "  <div id=\"df-f74803ff-3dea-4031-93de-a5dcf3aa63b5\">\n",
       "    <div class=\"colab-df-container\">\n",
       "      <div>\n",
       "<style scoped>\n",
       "    .dataframe tbody tr th:only-of-type {\n",
       "        vertical-align: middle;\n",
       "    }\n",
       "\n",
       "    .dataframe tbody tr th {\n",
       "        vertical-align: top;\n",
       "    }\n",
       "\n",
       "    .dataframe thead th {\n",
       "        text-align: right;\n",
       "    }\n",
       "</style>\n",
       "<table border=\"1\" class=\"dataframe\">\n",
       "  <thead>\n",
       "    <tr style=\"text-align: right;\">\n",
       "      <th></th>\n",
       "      <th>Vendedor</th>\n",
       "      <th>Nome do lead</th>\n",
       "      <th>Telefone do lead</th>\n",
       "      <th>Email do lead</th>\n",
       "      <th>aux</th>\n",
       "      <th>Status</th>\n",
       "    </tr>\n",
       "  </thead>\n",
       "  <tbody>\n",
       "    <tr>\n",
       "      <th>0</th>\n",
       "      <td>Thiago</td>\n",
       "      <td>Bruna</td>\n",
       "      <td>(88) 3395-1695</td>\n",
       "      <td>bruna1@hotmail.com</td>\n",
       "      <td>56.000000</td>\n",
       "      <td>concluído</td>\n",
       "    </tr>\n",
       "    <tr>\n",
       "      <th>1</th>\n",
       "      <td>Romulo</td>\n",
       "      <td>Ana</td>\n",
       "      <td>(68) 2446-3056</td>\n",
       "      <td>ana2@gmail.com</td>\n",
       "      <td>1.000000</td>\n",
       "      <td>pagou</td>\n",
       "    </tr>\n",
       "    <tr>\n",
       "      <th>2</th>\n",
       "      <td>Rafael</td>\n",
       "      <td>Adriana</td>\n",
       "      <td>(63) 2992-5510</td>\n",
       "      <td>adriana3@yahoo.com</td>\n",
       "      <td>512.000000</td>\n",
       "      <td>pendente</td>\n",
       "    </tr>\n",
       "    <tr>\n",
       "      <th>3</th>\n",
       "      <td>Carlos</td>\n",
       "      <td>Dina</td>\n",
       "      <td>(95) 2781-4745</td>\n",
       "      <td>dina4@terra.com</td>\n",
       "      <td>645.666667</td>\n",
       "      <td>contatado</td>\n",
       "    </tr>\n",
       "    <tr>\n",
       "      <th>4</th>\n",
       "      <td>João</td>\n",
       "      <td>Leticia</td>\n",
       "      <td>(49) 3293-2372</td>\n",
       "      <td>leticia5@uol.com</td>\n",
       "      <td>873.666667</td>\n",
       "      <td>concluído</td>\n",
       "    </tr>\n",
       "  </tbody>\n",
       "</table>\n",
       "</div>\n",
       "      <button class=\"colab-df-convert\" onclick=\"convertToInteractive('df-f74803ff-3dea-4031-93de-a5dcf3aa63b5')\"\n",
       "              title=\"Convert this dataframe to an interactive table.\"\n",
       "              style=\"display:none;\">\n",
       "        \n",
       "  <svg xmlns=\"http://www.w3.org/2000/svg\" height=\"24px\"viewBox=\"0 0 24 24\"\n",
       "       width=\"24px\">\n",
       "    <path d=\"M0 0h24v24H0V0z\" fill=\"none\"/>\n",
       "    <path d=\"M18.56 5.44l.94 2.06.94-2.06 2.06-.94-2.06-.94-.94-2.06-.94 2.06-2.06.94zm-11 1L8.5 8.5l.94-2.06 2.06-.94-2.06-.94L8.5 2.5l-.94 2.06-2.06.94zm10 10l.94 2.06.94-2.06 2.06-.94-2.06-.94-.94-2.06-.94 2.06-2.06.94z\"/><path d=\"M17.41 7.96l-1.37-1.37c-.4-.4-.92-.59-1.43-.59-.52 0-1.04.2-1.43.59L10.3 9.45l-7.72 7.72c-.78.78-.78 2.05 0 2.83L4 21.41c.39.39.9.59 1.41.59.51 0 1.02-.2 1.41-.59l7.78-7.78 2.81-2.81c.8-.78.8-2.07 0-2.86zM5.41 20L4 18.59l7.72-7.72 1.47 1.35L5.41 20z\"/>\n",
       "  </svg>\n",
       "      </button>\n",
       "      \n",
       "  <style>\n",
       "    .colab-df-container {\n",
       "      display:flex;\n",
       "      flex-wrap:wrap;\n",
       "      gap: 12px;\n",
       "    }\n",
       "\n",
       "    .colab-df-convert {\n",
       "      background-color: #E8F0FE;\n",
       "      border: none;\n",
       "      border-radius: 50%;\n",
       "      cursor: pointer;\n",
       "      display: none;\n",
       "      fill: #1967D2;\n",
       "      height: 32px;\n",
       "      padding: 0 0 0 0;\n",
       "      width: 32px;\n",
       "    }\n",
       "\n",
       "    .colab-df-convert:hover {\n",
       "      background-color: #E2EBFA;\n",
       "      box-shadow: 0px 1px 2px rgba(60, 64, 67, 0.3), 0px 1px 3px 1px rgba(60, 64, 67, 0.15);\n",
       "      fill: #174EA6;\n",
       "    }\n",
       "\n",
       "    [theme=dark] .colab-df-convert {\n",
       "      background-color: #3B4455;\n",
       "      fill: #D2E3FC;\n",
       "    }\n",
       "\n",
       "    [theme=dark] .colab-df-convert:hover {\n",
       "      background-color: #434B5C;\n",
       "      box-shadow: 0px 1px 3px 1px rgba(0, 0, 0, 0.15);\n",
       "      filter: drop-shadow(0px 1px 2px rgba(0, 0, 0, 0.3));\n",
       "      fill: #FFFFFF;\n",
       "    }\n",
       "  </style>\n",
       "\n",
       "      <script>\n",
       "        const buttonEl =\n",
       "          document.querySelector('#df-f74803ff-3dea-4031-93de-a5dcf3aa63b5 button.colab-df-convert');\n",
       "        buttonEl.style.display =\n",
       "          google.colab.kernel.accessAllowed ? 'block' : 'none';\n",
       "\n",
       "        async function convertToInteractive(key) {\n",
       "          const element = document.querySelector('#df-f74803ff-3dea-4031-93de-a5dcf3aa63b5');\n",
       "          const dataTable =\n",
       "            await google.colab.kernel.invokeFunction('convertToInteractive',\n",
       "                                                     [key], {});\n",
       "          if (!dataTable) return;\n",
       "\n",
       "          const docLinkHtml = 'Like what you see? Visit the ' +\n",
       "            '<a target=\"_blank\" href=https://colab.research.google.com/notebooks/data_table.ipynb>data table notebook</a>'\n",
       "            + ' to learn more about interactive tables.';\n",
       "          element.innerHTML = '';\n",
       "          dataTable['output_type'] = 'display_data';\n",
       "          await google.colab.output.renderOutput(dataTable, element);\n",
       "          const docLink = document.createElement('div');\n",
       "          docLink.innerHTML = docLinkHtml;\n",
       "          element.appendChild(docLink);\n",
       "        }\n",
       "      </script>\n",
       "    </div>\n",
       "  </div>\n",
       "  "
      ],
      "text/plain": [
       "  Vendedor Nome do lead  ...         aux     Status\n",
       "0   Thiago        Bruna  ...   56.000000  concluído\n",
       "1   Romulo          Ana  ...    1.000000      pagou\n",
       "2   Rafael      Adriana  ...  512.000000   pendente\n",
       "3   Carlos         Dina  ...  645.666667  contatado\n",
       "4     João      Leticia  ...  873.666667  concluído\n",
       "\n",
       "[5 rows x 6 columns]"
      ]
     },
     "execution_count": 26,
     "metadata": {},
     "output_type": "execute_result"
    }
   ],
   "source": [
    "data.replace(['concluido','pago'],['concluído','pagou'], inplace=True)\n",
    "data.head()"
   ]
  },
  {
   "cell_type": "markdown",
   "metadata": {
    "id": "Det-LKx8qQqU"
   },
   "source": [
    "There is a total of 4 different categories:"
   ]
  },
  {
   "cell_type": "code",
   "execution_count": null,
   "metadata": {
    "colab": {
     "base_uri": "https://localhost:8080/"
    },
    "executionInfo": {
     "elapsed": 63,
     "status": "ok",
     "timestamp": 1644468596771,
     "user": {
      "displayName": "Diego Medrano Jiménez",
      "photoUrl": "https://lh3.googleusercontent.com/a-/AOh14Gi0EFChMeLtAAS3gsoyDERhd5tt6D-8C-lwnpECig=s64",
      "userId": "12536918966160991768"
     },
     "user_tz": 180
    },
    "id": "fdMgDWe3qQVc",
    "outputId": "c4e11bdb-0646-4817-a34e-502082b6c310"
   },
   "outputs": [
    {
     "name": "stdout",
     "output_type": "stream",
     "text": [
      "['concluído' 'pagou' 'pendente' 'contatado']\n"
     ]
    }
   ],
   "source": [
    "print(data['Status'].unique())"
   ]
  },
  {
   "cell_type": "markdown",
   "metadata": {
    "id": "kMSiQPORRnvl"
   },
   "source": [
    "## \"Objeção\""
   ]
  },
  {
   "cell_type": "markdown",
   "metadata": {
    "id": "RrTgs8XRzi2Z"
   },
   "source": [
    "Both sheets show the same entries:"
   ]
  },
  {
   "cell_type": "code",
   "execution_count": null,
   "metadata": {
    "colab": {
     "base_uri": "https://localhost:8080/"
    },
    "executionInfo": {
     "elapsed": 59,
     "status": "ok",
     "timestamp": 1644468596771,
     "user": {
      "displayName": "Diego Medrano Jiménez",
      "photoUrl": "https://lh3.googleusercontent.com/a-/AOh14Gi0EFChMeLtAAS3gsoyDERhd5tt6D-8C-lwnpECig=s64",
      "userId": "12536918966160991768"
     },
     "user_tz": 180
    },
    "id": "t4THwsGcRpc0",
    "outputId": "976eb5ab-6d5e-4525-a63f-5e53c26833f1"
   },
   "outputs": [
    {
     "data": {
      "text/plain": [
       "44"
      ]
     },
     "execution_count": 28,
     "metadata": {},
     "output_type": "execute_result"
    }
   ],
   "source": [
    "(rawData_TonyStark['Objeção'] == rawData_Joao['Objeção']).sum()"
   ]
  },
  {
   "cell_type": "markdown",
   "metadata": {
    "id": "QEcogY3Q0ml-"
   },
   "source": [
    "This is the pattern that I found..."
   ]
  },
  {
   "cell_type": "code",
   "execution_count": null,
   "metadata": {
    "colab": {
     "base_uri": "https://localhost:8080/"
    },
    "executionInfo": {
     "elapsed": 57,
     "status": "ok",
     "timestamp": 1644468596772,
     "user": {
      "displayName": "Diego Medrano Jiménez",
      "photoUrl": "https://lh3.googleusercontent.com/a-/AOh14Gi0EFChMeLtAAS3gsoyDERhd5tt6D-8C-lwnpECig=s64",
      "userId": "12536918966160991768"
     },
     "user_tz": 180
    },
    "id": "hJ4GhDslzzZy",
    "outputId": "75e509a6-fb2d-40b1-fd8e-4c8d60002eca"
   },
   "outputs": [
    {
     "data": {
      "text/plain": [
       "True"
      ]
     },
     "execution_count": 29,
     "metadata": {},
     "output_type": "execute_result"
    }
   ],
   "source": [
    "objections = ['não tem dinheiro', 'falta tempo', 'prioridade', 'sem grana', 'curuiso', 'não atendeu', 'não responde']\n",
    "\n",
    "(objections * 7)[:len(rawData_TonyStark)] == rawData_TonyStark['Objeção'].tolist()"
   ]
  },
  {
   "cell_type": "markdown",
   "metadata": {
    "id": "h0zfsUKyzs6P"
   },
   "source": [
    "I include them in the final dataset..."
   ]
  },
  {
   "cell_type": "code",
   "execution_count": null,
   "metadata": {
    "colab": {
     "base_uri": "https://localhost:8080/",
     "height": 206
    },
    "executionInfo": {
     "elapsed": 55,
     "status": "ok",
     "timestamp": 1644468596772,
     "user": {
      "displayName": "Diego Medrano Jiménez",
      "photoUrl": "https://lh3.googleusercontent.com/a-/AOh14Gi0EFChMeLtAAS3gsoyDERhd5tt6D-8C-lwnpECig=s64",
      "userId": "12536918966160991768"
     },
     "user_tz": 180
    },
    "id": "v_dzXpzXzxBz",
    "outputId": "565de08a-156b-4d9b-f62e-2d9cc7a35d24"
   },
   "outputs": [
    {
     "data": {
      "text/html": [
       "\n",
       "  <div id=\"df-28e5a23c-882b-45a1-9b40-d5e32036dd78\">\n",
       "    <div class=\"colab-df-container\">\n",
       "      <div>\n",
       "<style scoped>\n",
       "    .dataframe tbody tr th:only-of-type {\n",
       "        vertical-align: middle;\n",
       "    }\n",
       "\n",
       "    .dataframe tbody tr th {\n",
       "        vertical-align: top;\n",
       "    }\n",
       "\n",
       "    .dataframe thead th {\n",
       "        text-align: right;\n",
       "    }\n",
       "</style>\n",
       "<table border=\"1\" class=\"dataframe\">\n",
       "  <thead>\n",
       "    <tr style=\"text-align: right;\">\n",
       "      <th></th>\n",
       "      <th>Vendedor</th>\n",
       "      <th>Nome do lead</th>\n",
       "      <th>Telefone do lead</th>\n",
       "      <th>Email do lead</th>\n",
       "      <th>aux</th>\n",
       "      <th>Status</th>\n",
       "      <th>Objeção</th>\n",
       "    </tr>\n",
       "  </thead>\n",
       "  <tbody>\n",
       "    <tr>\n",
       "      <th>0</th>\n",
       "      <td>Thiago</td>\n",
       "      <td>Bruna</td>\n",
       "      <td>(88) 3395-1695</td>\n",
       "      <td>bruna1@hotmail.com</td>\n",
       "      <td>56.000000</td>\n",
       "      <td>concluído</td>\n",
       "      <td>não tem dinheiro</td>\n",
       "    </tr>\n",
       "    <tr>\n",
       "      <th>1</th>\n",
       "      <td>Romulo</td>\n",
       "      <td>Ana</td>\n",
       "      <td>(68) 2446-3056</td>\n",
       "      <td>ana2@gmail.com</td>\n",
       "      <td>1.000000</td>\n",
       "      <td>pagou</td>\n",
       "      <td>falta tempo</td>\n",
       "    </tr>\n",
       "    <tr>\n",
       "      <th>2</th>\n",
       "      <td>Rafael</td>\n",
       "      <td>Adriana</td>\n",
       "      <td>(63) 2992-5510</td>\n",
       "      <td>adriana3@yahoo.com</td>\n",
       "      <td>512.000000</td>\n",
       "      <td>pendente</td>\n",
       "      <td>prioridade</td>\n",
       "    </tr>\n",
       "    <tr>\n",
       "      <th>3</th>\n",
       "      <td>Carlos</td>\n",
       "      <td>Dina</td>\n",
       "      <td>(95) 2781-4745</td>\n",
       "      <td>dina4@terra.com</td>\n",
       "      <td>645.666667</td>\n",
       "      <td>contatado</td>\n",
       "      <td>sem grana</td>\n",
       "    </tr>\n",
       "    <tr>\n",
       "      <th>4</th>\n",
       "      <td>João</td>\n",
       "      <td>Leticia</td>\n",
       "      <td>(49) 3293-2372</td>\n",
       "      <td>leticia5@uol.com</td>\n",
       "      <td>873.666667</td>\n",
       "      <td>concluído</td>\n",
       "      <td>curuiso</td>\n",
       "    </tr>\n",
       "  </tbody>\n",
       "</table>\n",
       "</div>\n",
       "      <button class=\"colab-df-convert\" onclick=\"convertToInteractive('df-28e5a23c-882b-45a1-9b40-d5e32036dd78')\"\n",
       "              title=\"Convert this dataframe to an interactive table.\"\n",
       "              style=\"display:none;\">\n",
       "        \n",
       "  <svg xmlns=\"http://www.w3.org/2000/svg\" height=\"24px\"viewBox=\"0 0 24 24\"\n",
       "       width=\"24px\">\n",
       "    <path d=\"M0 0h24v24H0V0z\" fill=\"none\"/>\n",
       "    <path d=\"M18.56 5.44l.94 2.06.94-2.06 2.06-.94-2.06-.94-.94-2.06-.94 2.06-2.06.94zm-11 1L8.5 8.5l.94-2.06 2.06-.94-2.06-.94L8.5 2.5l-.94 2.06-2.06.94zm10 10l.94 2.06.94-2.06 2.06-.94-2.06-.94-.94-2.06-.94 2.06-2.06.94z\"/><path d=\"M17.41 7.96l-1.37-1.37c-.4-.4-.92-.59-1.43-.59-.52 0-1.04.2-1.43.59L10.3 9.45l-7.72 7.72c-.78.78-.78 2.05 0 2.83L4 21.41c.39.39.9.59 1.41.59.51 0 1.02-.2 1.41-.59l7.78-7.78 2.81-2.81c.8-.78.8-2.07 0-2.86zM5.41 20L4 18.59l7.72-7.72 1.47 1.35L5.41 20z\"/>\n",
       "  </svg>\n",
       "      </button>\n",
       "      \n",
       "  <style>\n",
       "    .colab-df-container {\n",
       "      display:flex;\n",
       "      flex-wrap:wrap;\n",
       "      gap: 12px;\n",
       "    }\n",
       "\n",
       "    .colab-df-convert {\n",
       "      background-color: #E8F0FE;\n",
       "      border: none;\n",
       "      border-radius: 50%;\n",
       "      cursor: pointer;\n",
       "      display: none;\n",
       "      fill: #1967D2;\n",
       "      height: 32px;\n",
       "      padding: 0 0 0 0;\n",
       "      width: 32px;\n",
       "    }\n",
       "\n",
       "    .colab-df-convert:hover {\n",
       "      background-color: #E2EBFA;\n",
       "      box-shadow: 0px 1px 2px rgba(60, 64, 67, 0.3), 0px 1px 3px 1px rgba(60, 64, 67, 0.15);\n",
       "      fill: #174EA6;\n",
       "    }\n",
       "\n",
       "    [theme=dark] .colab-df-convert {\n",
       "      background-color: #3B4455;\n",
       "      fill: #D2E3FC;\n",
       "    }\n",
       "\n",
       "    [theme=dark] .colab-df-convert:hover {\n",
       "      background-color: #434B5C;\n",
       "      box-shadow: 0px 1px 3px 1px rgba(0, 0, 0, 0.15);\n",
       "      filter: drop-shadow(0px 1px 2px rgba(0, 0, 0, 0.3));\n",
       "      fill: #FFFFFF;\n",
       "    }\n",
       "  </style>\n",
       "\n",
       "      <script>\n",
       "        const buttonEl =\n",
       "          document.querySelector('#df-28e5a23c-882b-45a1-9b40-d5e32036dd78 button.colab-df-convert');\n",
       "        buttonEl.style.display =\n",
       "          google.colab.kernel.accessAllowed ? 'block' : 'none';\n",
       "\n",
       "        async function convertToInteractive(key) {\n",
       "          const element = document.querySelector('#df-28e5a23c-882b-45a1-9b40-d5e32036dd78');\n",
       "          const dataTable =\n",
       "            await google.colab.kernel.invokeFunction('convertToInteractive',\n",
       "                                                     [key], {});\n",
       "          if (!dataTable) return;\n",
       "\n",
       "          const docLinkHtml = 'Like what you see? Visit the ' +\n",
       "            '<a target=\"_blank\" href=https://colab.research.google.com/notebooks/data_table.ipynb>data table notebook</a>'\n",
       "            + ' to learn more about interactive tables.';\n",
       "          element.innerHTML = '';\n",
       "          dataTable['output_type'] = 'display_data';\n",
       "          await google.colab.output.renderOutput(dataTable, element);\n",
       "          const docLink = document.createElement('div');\n",
       "          docLink.innerHTML = docLinkHtml;\n",
       "          element.appendChild(docLink);\n",
       "        }\n",
       "      </script>\n",
       "    </div>\n",
       "  </div>\n",
       "  "
      ],
      "text/plain": [
       "  Vendedor Nome do lead  ...     Status           Objeção\n",
       "0   Thiago        Bruna  ...  concluído  não tem dinheiro\n",
       "1   Romulo          Ana  ...      pagou       falta tempo\n",
       "2   Rafael      Adriana  ...   pendente        prioridade\n",
       "3   Carlos         Dina  ...  contatado         sem grana\n",
       "4     João      Leticia  ...  concluído           curuiso\n",
       "\n",
       "[5 rows x 7 columns]"
      ]
     },
     "execution_count": 30,
     "metadata": {},
     "output_type": "execute_result"
    }
   ],
   "source": [
    "data['Objeção'] = [ obj.lower() for obj in rawData_TonyStark['Objeção']]\n",
    "data.head()"
   ]
  },
  {
   "cell_type": "markdown",
   "metadata": {
    "id": "bcD1wadI08is"
   },
   "source": [
    "Joining equivalent categories..."
   ]
  },
  {
   "cell_type": "code",
   "execution_count": null,
   "metadata": {
    "colab": {
     "base_uri": "https://localhost:8080/",
     "height": 206
    },
    "executionInfo": {
     "elapsed": 53,
     "status": "ok",
     "timestamp": 1644468596773,
     "user": {
      "displayName": "Diego Medrano Jiménez",
      "photoUrl": "https://lh3.googleusercontent.com/a-/AOh14Gi0EFChMeLtAAS3gsoyDERhd5tt6D-8C-lwnpECig=s64",
      "userId": "12536918966160991768"
     },
     "user_tz": 180
    },
    "id": "Q3vD9owp1A_k",
    "outputId": "272017ce-a535-41ce-8baf-528969d5079b"
   },
   "outputs": [
    {
     "data": {
      "text/html": [
       "\n",
       "  <div id=\"df-e2ece44a-8105-4e84-8dfc-c0f31fd6b49b\">\n",
       "    <div class=\"colab-df-container\">\n",
       "      <div>\n",
       "<style scoped>\n",
       "    .dataframe tbody tr th:only-of-type {\n",
       "        vertical-align: middle;\n",
       "    }\n",
       "\n",
       "    .dataframe tbody tr th {\n",
       "        vertical-align: top;\n",
       "    }\n",
       "\n",
       "    .dataframe thead th {\n",
       "        text-align: right;\n",
       "    }\n",
       "</style>\n",
       "<table border=\"1\" class=\"dataframe\">\n",
       "  <thead>\n",
       "    <tr style=\"text-align: right;\">\n",
       "      <th></th>\n",
       "      <th>Vendedor</th>\n",
       "      <th>Nome do lead</th>\n",
       "      <th>Telefone do lead</th>\n",
       "      <th>Email do lead</th>\n",
       "      <th>aux</th>\n",
       "      <th>Status</th>\n",
       "      <th>Objeção</th>\n",
       "    </tr>\n",
       "  </thead>\n",
       "  <tbody>\n",
       "    <tr>\n",
       "      <th>0</th>\n",
       "      <td>Thiago</td>\n",
       "      <td>Bruna</td>\n",
       "      <td>(88) 3395-1695</td>\n",
       "      <td>bruna1@hotmail.com</td>\n",
       "      <td>56.000000</td>\n",
       "      <td>concluído</td>\n",
       "      <td>sem dinheiro</td>\n",
       "    </tr>\n",
       "    <tr>\n",
       "      <th>1</th>\n",
       "      <td>Romulo</td>\n",
       "      <td>Ana</td>\n",
       "      <td>(68) 2446-3056</td>\n",
       "      <td>ana2@gmail.com</td>\n",
       "      <td>1.000000</td>\n",
       "      <td>pagou</td>\n",
       "      <td>falta tempo</td>\n",
       "    </tr>\n",
       "    <tr>\n",
       "      <th>2</th>\n",
       "      <td>Rafael</td>\n",
       "      <td>Adriana</td>\n",
       "      <td>(63) 2992-5510</td>\n",
       "      <td>adriana3@yahoo.com</td>\n",
       "      <td>512.000000</td>\n",
       "      <td>pendente</td>\n",
       "      <td>prioridade</td>\n",
       "    </tr>\n",
       "    <tr>\n",
       "      <th>3</th>\n",
       "      <td>Carlos</td>\n",
       "      <td>Dina</td>\n",
       "      <td>(95) 2781-4745</td>\n",
       "      <td>dina4@terra.com</td>\n",
       "      <td>645.666667</td>\n",
       "      <td>contatado</td>\n",
       "      <td>sem dinheiro</td>\n",
       "    </tr>\n",
       "    <tr>\n",
       "      <th>4</th>\n",
       "      <td>João</td>\n",
       "      <td>Leticia</td>\n",
       "      <td>(49) 3293-2372</td>\n",
       "      <td>leticia5@uol.com</td>\n",
       "      <td>873.666667</td>\n",
       "      <td>concluído</td>\n",
       "      <td>curioso</td>\n",
       "    </tr>\n",
       "  </tbody>\n",
       "</table>\n",
       "</div>\n",
       "      <button class=\"colab-df-convert\" onclick=\"convertToInteractive('df-e2ece44a-8105-4e84-8dfc-c0f31fd6b49b')\"\n",
       "              title=\"Convert this dataframe to an interactive table.\"\n",
       "              style=\"display:none;\">\n",
       "        \n",
       "  <svg xmlns=\"http://www.w3.org/2000/svg\" height=\"24px\"viewBox=\"0 0 24 24\"\n",
       "       width=\"24px\">\n",
       "    <path d=\"M0 0h24v24H0V0z\" fill=\"none\"/>\n",
       "    <path d=\"M18.56 5.44l.94 2.06.94-2.06 2.06-.94-2.06-.94-.94-2.06-.94 2.06-2.06.94zm-11 1L8.5 8.5l.94-2.06 2.06-.94-2.06-.94L8.5 2.5l-.94 2.06-2.06.94zm10 10l.94 2.06.94-2.06 2.06-.94-2.06-.94-.94-2.06-.94 2.06-2.06.94z\"/><path d=\"M17.41 7.96l-1.37-1.37c-.4-.4-.92-.59-1.43-.59-.52 0-1.04.2-1.43.59L10.3 9.45l-7.72 7.72c-.78.78-.78 2.05 0 2.83L4 21.41c.39.39.9.59 1.41.59.51 0 1.02-.2 1.41-.59l7.78-7.78 2.81-2.81c.8-.78.8-2.07 0-2.86zM5.41 20L4 18.59l7.72-7.72 1.47 1.35L5.41 20z\"/>\n",
       "  </svg>\n",
       "      </button>\n",
       "      \n",
       "  <style>\n",
       "    .colab-df-container {\n",
       "      display:flex;\n",
       "      flex-wrap:wrap;\n",
       "      gap: 12px;\n",
       "    }\n",
       "\n",
       "    .colab-df-convert {\n",
       "      background-color: #E8F0FE;\n",
       "      border: none;\n",
       "      border-radius: 50%;\n",
       "      cursor: pointer;\n",
       "      display: none;\n",
       "      fill: #1967D2;\n",
       "      height: 32px;\n",
       "      padding: 0 0 0 0;\n",
       "      width: 32px;\n",
       "    }\n",
       "\n",
       "    .colab-df-convert:hover {\n",
       "      background-color: #E2EBFA;\n",
       "      box-shadow: 0px 1px 2px rgba(60, 64, 67, 0.3), 0px 1px 3px 1px rgba(60, 64, 67, 0.15);\n",
       "      fill: #174EA6;\n",
       "    }\n",
       "\n",
       "    [theme=dark] .colab-df-convert {\n",
       "      background-color: #3B4455;\n",
       "      fill: #D2E3FC;\n",
       "    }\n",
       "\n",
       "    [theme=dark] .colab-df-convert:hover {\n",
       "      background-color: #434B5C;\n",
       "      box-shadow: 0px 1px 3px 1px rgba(0, 0, 0, 0.15);\n",
       "      filter: drop-shadow(0px 1px 2px rgba(0, 0, 0, 0.3));\n",
       "      fill: #FFFFFF;\n",
       "    }\n",
       "  </style>\n",
       "\n",
       "      <script>\n",
       "        const buttonEl =\n",
       "          document.querySelector('#df-e2ece44a-8105-4e84-8dfc-c0f31fd6b49b button.colab-df-convert');\n",
       "        buttonEl.style.display =\n",
       "          google.colab.kernel.accessAllowed ? 'block' : 'none';\n",
       "\n",
       "        async function convertToInteractive(key) {\n",
       "          const element = document.querySelector('#df-e2ece44a-8105-4e84-8dfc-c0f31fd6b49b');\n",
       "          const dataTable =\n",
       "            await google.colab.kernel.invokeFunction('convertToInteractive',\n",
       "                                                     [key], {});\n",
       "          if (!dataTable) return;\n",
       "\n",
       "          const docLinkHtml = 'Like what you see? Visit the ' +\n",
       "            '<a target=\"_blank\" href=https://colab.research.google.com/notebooks/data_table.ipynb>data table notebook</a>'\n",
       "            + ' to learn more about interactive tables.';\n",
       "          element.innerHTML = '';\n",
       "          dataTable['output_type'] = 'display_data';\n",
       "          await google.colab.output.renderOutput(dataTable, element);\n",
       "          const docLink = document.createElement('div');\n",
       "          docLink.innerHTML = docLinkHtml;\n",
       "          element.appendChild(docLink);\n",
       "        }\n",
       "      </script>\n",
       "    </div>\n",
       "  </div>\n",
       "  "
      ],
      "text/plain": [
       "  Vendedor Nome do lead Telefone do lead  ...         aux     Status       Objeção\n",
       "0   Thiago        Bruna   (88) 3395-1695  ...   56.000000  concluído  sem dinheiro\n",
       "1   Romulo          Ana   (68) 2446-3056  ...    1.000000      pagou   falta tempo\n",
       "2   Rafael      Adriana   (63) 2992-5510  ...  512.000000   pendente    prioridade\n",
       "3   Carlos         Dina   (95) 2781-4745  ...  645.666667  contatado  sem dinheiro\n",
       "4     João      Leticia   (49) 3293-2372  ...  873.666667  concluído       curioso\n",
       "\n",
       "[5 rows x 7 columns]"
      ]
     },
     "execution_count": 31,
     "metadata": {},
     "output_type": "execute_result"
    }
   ],
   "source": [
    "data.replace(['não tem dinheiro','sem grana','curuiso','não atendeu'],\n",
    "             ['sem dinheiro','sem dinheiro','curioso','não responde'],\n",
    "             inplace=True)\n",
    "data.head()"
   ]
  },
  {
   "cell_type": "markdown",
   "metadata": {
    "id": "93-Octaa1Sar"
   },
   "source": [
    "These are the categories..."
   ]
  },
  {
   "cell_type": "code",
   "execution_count": null,
   "metadata": {
    "colab": {
     "base_uri": "https://localhost:8080/"
    },
    "executionInfo": {
     "elapsed": 52,
     "status": "ok",
     "timestamp": 1644468596773,
     "user": {
      "displayName": "Diego Medrano Jiménez",
      "photoUrl": "https://lh3.googleusercontent.com/a-/AOh14Gi0EFChMeLtAAS3gsoyDERhd5tt6D-8C-lwnpECig=s64",
      "userId": "12536918966160991768"
     },
     "user_tz": 180
    },
    "id": "fhZWTWWV1Rr6",
    "outputId": "0eae0489-22c0-4e4e-e469-1033b9e21d21"
   },
   "outputs": [
    {
     "name": "stdout",
     "output_type": "stream",
     "text": [
      "['sem dinheiro' 'falta tempo' 'prioridade' 'curioso' 'não responde']\n"
     ]
    }
   ],
   "source": [
    "print(data['Objeção'].unique())"
   ]
  },
  {
   "cell_type": "markdown",
   "metadata": {
    "id": "XPn0G5rRRqqK"
   },
   "source": [
    "## \"Valor\""
   ]
  },
  {
   "cell_type": "markdown",
   "metadata": {
    "id": "ZfI2Oz1i2FPS"
   },
   "source": [
    "Finally, we find again the same entries on both sheets except for a single `Null` value in the \"Tony Stark sheet\":"
   ]
  },
  {
   "cell_type": "code",
   "execution_count": null,
   "metadata": {
    "colab": {
     "base_uri": "https://localhost:8080/"
    },
    "executionInfo": {
     "elapsed": 49,
     "status": "ok",
     "timestamp": 1644468596773,
     "user": {
      "displayName": "Diego Medrano Jiménez",
      "photoUrl": "https://lh3.googleusercontent.com/a-/AOh14Gi0EFChMeLtAAS3gsoyDERhd5tt6D-8C-lwnpECig=s64",
      "userId": "12536918966160991768"
     },
     "user_tz": 180
    },
    "id": "Zzxj27JG2anV",
    "outputId": "eef363c6-2479-41be-fa04-1bbb418be2cc"
   },
   "outputs": [
    {
     "name": "stdout",
     "output_type": "stream",
     "text": [
      "1\n",
      "43\n"
     ]
    }
   ],
   "source": [
    "print(rawData_TonyStark['Valor'].isnull().sum()) # There is a single Null value\n",
    "print((rawData_TonyStark['Valor'] == rawData_Joao['Valor']).sum()) # The rest of the entries coincide"
   ]
  },
  {
   "cell_type": "markdown",
   "metadata": {
    "id": "mldvRseY2t0R"
   },
   "source": [
    "Taking the \"Joao sheet\", ideally all the values should be different but have been generated with a similar pattern as the rest of the columns, repeating the list `[1997, 97, 597, 297, 197]` and apparently introducing by hand some decimal values (inconsistently using points \".\" and commas \",\" for the decimal part):"
   ]
  },
  {
   "cell_type": "code",
   "execution_count": null,
   "metadata": {
    "colab": {
     "base_uri": "https://localhost:8080/"
    },
    "executionInfo": {
     "elapsed": 47,
     "status": "ok",
     "timestamp": 1644468596774,
     "user": {
      "displayName": "Diego Medrano Jiménez",
      "photoUrl": "https://lh3.googleusercontent.com/a-/AOh14Gi0EFChMeLtAAS3gsoyDERhd5tt6D-8C-lwnpECig=s64",
      "userId": "12536918966160991768"
     },
     "user_tz": 180
    },
    "id": "Z8CuKyoW3fjA",
    "outputId": "1cbdc5ef-58ad-43fc-d4f5-ce0b755af491"
   },
   "outputs": [
    {
     "name": "stdout",
     "output_type": "stream",
     "text": [
      "    generated  actual column\n",
      "0        1997        1997.00\n",
      "1          97          97.00\n",
      "2         597         597.00\n",
      "3         297         297.65\n",
      "4         197         197.00\n",
      "5        1997        1997.00\n",
      "6          97          97.00\n",
      "7         597         597.00\n",
      "8         297         297.00\n",
      "9         197         197.00\n",
      "10       1997        1997.55\n",
      "11         97          97.00\n",
      "12        597         597.00\n",
      "13        297         297.00\n",
      "14        197         197.00\n",
      "\n",
      "[ 0.00000e+00  0.00000e+00  0.00000e+00 -6.50000e-01  0.00000e+00\n",
      "  0.00000e+00  0.00000e+00  0.00000e+00  0.00000e+00  0.00000e+00\n",
      " -5.50000e-01  0.00000e+00  0.00000e+00  0.00000e+00  0.00000e+00\n",
      "  0.00000e+00 -9.90000e-01  0.00000e+00  0.00000e+00  0.00000e+00\n",
      "  0.00000e+00  0.00000e+00  0.00000e+00  0.00000e+00  0.00000e+00\n",
      "  0.00000e+00  0.00000e+00  0.00000e+00  0.00000e+00 -1.97357e+05\n",
      "  0.00000e+00  0.00000e+00  0.00000e+00  0.00000e+00  0.00000e+00\n",
      "  0.00000e+00 -6.50000e-01  0.00000e+00  0.00000e+00  0.00000e+00\n",
      "  0.00000e+00  0.00000e+00  0.00000e+00  0.00000e+00]\n"
     ]
    }
   ],
   "source": [
    "import numpy as np\n",
    "\n",
    "nums = [1997, 97, 597, 297, 197]\n",
    "\n",
    "# Comparing just the first 15 entries\n",
    "frame = {\n",
    "    'generated': nums*3,\n",
    "    'actual column': rawData_Joao['Valor'][:3*len(nums)].values\n",
    "}\n",
    "print(pd.DataFrame(frame))\n",
    "\n",
    "print('')\n",
    "\n",
    "# Checking that they are equal except for the decimal values introduced by hand\n",
    "# I am subtracting the two array to see the decimal parts\n",
    "print(np.array((nums*9)[:len(rawData_Joao)])-rawData_Joao['Valor'].values)"
   ]
  },
  {
   "cell_type": "markdown",
   "metadata": {
    "id": "YGqYunqCul2N"
   },
   "source": [
    "We have the following information to complete the final dataset:\n",
    "- `data['aux']` does not show a clear periodic structure. It is just an array of quase-equally-spaced ascending values.\n",
    "- `data['Valor']` exhibits a recognizable periodic pattern, slightly modified with decimal values."
   ]
  },
  {
   "cell_type": "markdown",
   "metadata": {
    "id": "u1zXmjWmsS8a"
   },
   "source": [
    "Hence, considering also the numbers in `data['aux']`, without additional information it is impossible to say that these two columns are related in any way to each other. With all this in mind, I cannot identify the values that you (the recruiter) expect me to find as the correct ones for `data['Valor']`."
   ]
  },
  {
   "cell_type": "markdown",
   "metadata": {
    "id": "4xU5R_265txt"
   },
   "source": [
    "# FINAL CONCLUSION"
   ]
  },
  {
   "cell_type": "markdown",
   "metadata": {
    "id": "DIaeIpJaw8SM"
   },
   "source": [
    "After exploring the data, I found that the columns were generated following different *independent* patterns. For most of them, this does not cause any problem for continuing the exercise. However, for some of them (\"Email do lead\" or \"Valor\"), since they do not come from a realistic dataset, it is complicated to identify the correct values that would correspond to your original organized dataset."
   ]
  },
  {
   "cell_type": "markdown",
   "metadata": {
    "id": "1UJ2olXdZQCF"
   },
   "source": [
    "Here is the final answer to be analyzed later on (for the missing column ---i.e. 'Valor'--- I am going to generate some random numbers in the next notebook \"*2_Gerando_o_dataset.ipynb*\"):"
   ]
  },
  {
   "cell_type": "code",
   "execution_count": null,
   "metadata": {
    "colab": {
     "base_uri": "https://localhost:8080/",
     "height": 1000
    },
    "executionInfo": {
     "elapsed": 44,
     "status": "ok",
     "timestamp": 1644468596774,
     "user": {
      "displayName": "Diego Medrano Jiménez",
      "photoUrl": "https://lh3.googleusercontent.com/a-/AOh14Gi0EFChMeLtAAS3gsoyDERhd5tt6D-8C-lwnpECig=s64",
      "userId": "12536918966160991768"
     },
     "user_tz": 180
    },
    "id": "xN6BKALx9Uqn",
    "outputId": "a6b85e9e-0d7b-45d6-a1bd-6c4d9e095f8d"
   },
   "outputs": [
    {
     "data": {
      "text/html": [
       "\n",
       "  <div id=\"df-60e50523-49f8-42c0-942d-6865f9570fb3\">\n",
       "    <div class=\"colab-df-container\">\n",
       "      <div>\n",
       "<style scoped>\n",
       "    .dataframe tbody tr th:only-of-type {\n",
       "        vertical-align: middle;\n",
       "    }\n",
       "\n",
       "    .dataframe tbody tr th {\n",
       "        vertical-align: top;\n",
       "    }\n",
       "\n",
       "    .dataframe thead th {\n",
       "        text-align: right;\n",
       "    }\n",
       "</style>\n",
       "<table border=\"1\" class=\"dataframe\">\n",
       "  <thead>\n",
       "    <tr style=\"text-align: right;\">\n",
       "      <th></th>\n",
       "      <th>Vendedor</th>\n",
       "      <th>Nome do lead</th>\n",
       "      <th>Telefone do lead</th>\n",
       "      <th>Email do lead</th>\n",
       "      <th>Status</th>\n",
       "      <th>Objeção</th>\n",
       "    </tr>\n",
       "  </thead>\n",
       "  <tbody>\n",
       "    <tr>\n",
       "      <th>0</th>\n",
       "      <td>Thiago</td>\n",
       "      <td>Bruna</td>\n",
       "      <td>(88) 3395-1695</td>\n",
       "      <td>bruna1@hotmail.com</td>\n",
       "      <td>concluído</td>\n",
       "      <td>sem dinheiro</td>\n",
       "    </tr>\n",
       "    <tr>\n",
       "      <th>1</th>\n",
       "      <td>Romulo</td>\n",
       "      <td>Ana</td>\n",
       "      <td>(68) 2446-3056</td>\n",
       "      <td>ana2@gmail.com</td>\n",
       "      <td>pagou</td>\n",
       "      <td>falta tempo</td>\n",
       "    </tr>\n",
       "    <tr>\n",
       "      <th>2</th>\n",
       "      <td>Rafael</td>\n",
       "      <td>Adriana</td>\n",
       "      <td>(63) 2992-5510</td>\n",
       "      <td>adriana3@yahoo.com</td>\n",
       "      <td>pendente</td>\n",
       "      <td>prioridade</td>\n",
       "    </tr>\n",
       "    <tr>\n",
       "      <th>3</th>\n",
       "      <td>Carlos</td>\n",
       "      <td>Dina</td>\n",
       "      <td>(95) 2781-4745</td>\n",
       "      <td>dina4@terra.com</td>\n",
       "      <td>contatado</td>\n",
       "      <td>sem dinheiro</td>\n",
       "    </tr>\n",
       "    <tr>\n",
       "      <th>4</th>\n",
       "      <td>João</td>\n",
       "      <td>Leticia</td>\n",
       "      <td>(49) 3293-2372</td>\n",
       "      <td>leticia5@uol.com</td>\n",
       "      <td>concluído</td>\n",
       "      <td>curioso</td>\n",
       "    </tr>\n",
       "    <tr>\n",
       "      <th>5</th>\n",
       "      <td>Pedro</td>\n",
       "      <td>Joelma</td>\n",
       "      <td>(79) 2611-1323</td>\n",
       "      <td>joelma6@hotmail.com</td>\n",
       "      <td>pagou</td>\n",
       "      <td>não responde</td>\n",
       "    </tr>\n",
       "    <tr>\n",
       "      <th>6</th>\n",
       "      <td>Manoel</td>\n",
       "      <td>Lavinia</td>\n",
       "      <td>(16) 3292-5782</td>\n",
       "      <td>lavinia7@gmail.com</td>\n",
       "      <td>concluído</td>\n",
       "      <td>não responde</td>\n",
       "    </tr>\n",
       "    <tr>\n",
       "      <th>7</th>\n",
       "      <td>João Luis</td>\n",
       "      <td>Jessica</td>\n",
       "      <td>(63) 2412-6529</td>\n",
       "      <td>jessica8@yahoo.com</td>\n",
       "      <td>pagou</td>\n",
       "      <td>sem dinheiro</td>\n",
       "    </tr>\n",
       "    <tr>\n",
       "      <th>8</th>\n",
       "      <td>Pitter</td>\n",
       "      <td>Fernanda</td>\n",
       "      <td>(67) 2198-4616</td>\n",
       "      <td>fernanda9@terra.com</td>\n",
       "      <td>pendente</td>\n",
       "      <td>falta tempo</td>\n",
       "    </tr>\n",
       "    <tr>\n",
       "      <th>9</th>\n",
       "      <td>Tony Stark</td>\n",
       "      <td>Silvia</td>\n",
       "      <td>(67) 2783-0451</td>\n",
       "      <td>silvia10@uol.com</td>\n",
       "      <td>contatado</td>\n",
       "      <td>prioridade</td>\n",
       "    </tr>\n",
       "    <tr>\n",
       "      <th>10</th>\n",
       "      <td>Jhon</td>\n",
       "      <td>Priscila</td>\n",
       "      <td>(69) 3647-6778</td>\n",
       "      <td>priscila11@hotmail.com</td>\n",
       "      <td>concluído</td>\n",
       "      <td>sem dinheiro</td>\n",
       "    </tr>\n",
       "    <tr>\n",
       "      <th>11</th>\n",
       "      <td>Thiago</td>\n",
       "      <td>Lourdes</td>\n",
       "      <td>(37) 2476-6621</td>\n",
       "      <td>lourdes12@gmail.com</td>\n",
       "      <td>pagou</td>\n",
       "      <td>curioso</td>\n",
       "    </tr>\n",
       "    <tr>\n",
       "      <th>12</th>\n",
       "      <td>Romulo</td>\n",
       "      <td>Margarida</td>\n",
       "      <td>(48) 3706-9460</td>\n",
       "      <td>margarida13@yahoo.com</td>\n",
       "      <td>concluído</td>\n",
       "      <td>não responde</td>\n",
       "    </tr>\n",
       "    <tr>\n",
       "      <th>13</th>\n",
       "      <td>Rafael</td>\n",
       "      <td>Renata</td>\n",
       "      <td>(48) 3706-9460</td>\n",
       "      <td>renata14@terra.com</td>\n",
       "      <td>pagou</td>\n",
       "      <td>não responde</td>\n",
       "    </tr>\n",
       "    <tr>\n",
       "      <th>14</th>\n",
       "      <td>Carlos</td>\n",
       "      <td>Emily</td>\n",
       "      <td>(69) 3996-4397</td>\n",
       "      <td>emily15@uol.com</td>\n",
       "      <td>pendente</td>\n",
       "      <td>sem dinheiro</td>\n",
       "    </tr>\n",
       "    <tr>\n",
       "      <th>15</th>\n",
       "      <td>João</td>\n",
       "      <td>Débora</td>\n",
       "      <td>(27) 3674-8077</td>\n",
       "      <td>débora16@hotmail.com</td>\n",
       "      <td>contatado</td>\n",
       "      <td>falta tempo</td>\n",
       "    </tr>\n",
       "    <tr>\n",
       "      <th>16</th>\n",
       "      <td>Pedro</td>\n",
       "      <td>Aline</td>\n",
       "      <td>(84) 2676-7761</td>\n",
       "      <td>aline17@gmail.com</td>\n",
       "      <td>concluído</td>\n",
       "      <td>prioridade</td>\n",
       "    </tr>\n",
       "    <tr>\n",
       "      <th>17</th>\n",
       "      <td>Manoel</td>\n",
       "      <td>Alana</td>\n",
       "      <td>(85) 2977-6641</td>\n",
       "      <td>alana18@yahoo.com</td>\n",
       "      <td>pagou</td>\n",
       "      <td>sem dinheiro</td>\n",
       "    </tr>\n",
       "    <tr>\n",
       "      <th>18</th>\n",
       "      <td>João Luis</td>\n",
       "      <td>Fernanda</td>\n",
       "      <td>(84) 2335-7603</td>\n",
       "      <td>fernanda19@terra.com</td>\n",
       "      <td>concluído</td>\n",
       "      <td>curioso</td>\n",
       "    </tr>\n",
       "    <tr>\n",
       "      <th>19</th>\n",
       "      <td>Pitter</td>\n",
       "      <td>Jaqueline</td>\n",
       "      <td>(68) 3280-1460</td>\n",
       "      <td>jaqueline20@uol.com</td>\n",
       "      <td>pagou</td>\n",
       "      <td>não responde</td>\n",
       "    </tr>\n",
       "    <tr>\n",
       "      <th>20</th>\n",
       "      <td>Tony Stark</td>\n",
       "      <td>Jully</td>\n",
       "      <td>(69) 3268-0753</td>\n",
       "      <td>jully21@hotmail.com</td>\n",
       "      <td>pendente</td>\n",
       "      <td>não responde</td>\n",
       "    </tr>\n",
       "    <tr>\n",
       "      <th>21</th>\n",
       "      <td>Jhon</td>\n",
       "      <td>Pollyane</td>\n",
       "      <td>(22) 3276-2531</td>\n",
       "      <td>pollyane22@gmail.com</td>\n",
       "      <td>contatado</td>\n",
       "      <td>sem dinheiro</td>\n",
       "    </tr>\n",
       "    <tr>\n",
       "      <th>22</th>\n",
       "      <td>Thiago</td>\n",
       "      <td>Taiane</td>\n",
       "      <td>(99) 2801-8651</td>\n",
       "      <td>taiane23@yahoo.com</td>\n",
       "      <td>concluído</td>\n",
       "      <td>falta tempo</td>\n",
       "    </tr>\n",
       "    <tr>\n",
       "      <th>23</th>\n",
       "      <td>Romulo</td>\n",
       "      <td>Michelle</td>\n",
       "      <td>(92) 2343-3450</td>\n",
       "      <td>michelle24@terra.com</td>\n",
       "      <td>pagou</td>\n",
       "      <td>prioridade</td>\n",
       "    </tr>\n",
       "    <tr>\n",
       "      <th>24</th>\n",
       "      <td>Rafael</td>\n",
       "      <td>Maria</td>\n",
       "      <td>(77) 2208-7913</td>\n",
       "      <td>maria25@uol.com</td>\n",
       "      <td>concluído</td>\n",
       "      <td>sem dinheiro</td>\n",
       "    </tr>\n",
       "    <tr>\n",
       "      <th>25</th>\n",
       "      <td>Carlos</td>\n",
       "      <td>Eduarda</td>\n",
       "      <td>(73) 3427-1427</td>\n",
       "      <td>eduarda26@hotmail.com</td>\n",
       "      <td>pagou</td>\n",
       "      <td>curioso</td>\n",
       "    </tr>\n",
       "    <tr>\n",
       "      <th>26</th>\n",
       "      <td>João</td>\n",
       "      <td>Claudete</td>\n",
       "      <td>(83) 2633-0102</td>\n",
       "      <td>claudete27@gmail.com</td>\n",
       "      <td>pendente</td>\n",
       "      <td>não responde</td>\n",
       "    </tr>\n",
       "    <tr>\n",
       "      <th>27</th>\n",
       "      <td>Pedro</td>\n",
       "      <td>Andrelina</td>\n",
       "      <td>(93) 2966-5778</td>\n",
       "      <td>andrelina28@yahoo.com</td>\n",
       "      <td>contatado</td>\n",
       "      <td>não responde</td>\n",
       "    </tr>\n",
       "    <tr>\n",
       "      <th>28</th>\n",
       "      <td>Manoel</td>\n",
       "      <td>Ana</td>\n",
       "      <td>(86) 2845-3655</td>\n",
       "      <td>ana29@terra.com</td>\n",
       "      <td>concluído</td>\n",
       "      <td>sem dinheiro</td>\n",
       "    </tr>\n",
       "    <tr>\n",
       "      <th>29</th>\n",
       "      <td>João Luis</td>\n",
       "      <td>Vanessa</td>\n",
       "      <td>(96) 3342-1627</td>\n",
       "      <td>vanessa30@uol.com</td>\n",
       "      <td>pagou</td>\n",
       "      <td>falta tempo</td>\n",
       "    </tr>\n",
       "    <tr>\n",
       "      <th>30</th>\n",
       "      <td>Pitter</td>\n",
       "      <td>Elen</td>\n",
       "      <td>(41) 3372-5143</td>\n",
       "      <td>elen31@hotmail.com</td>\n",
       "      <td>concluído</td>\n",
       "      <td>prioridade</td>\n",
       "    </tr>\n",
       "    <tr>\n",
       "      <th>31</th>\n",
       "      <td>Tony Stark</td>\n",
       "      <td>Cristiane</td>\n",
       "      <td>(67) 3877-4537</td>\n",
       "      <td>cristiane32@gmail.com</td>\n",
       "      <td>pagou</td>\n",
       "      <td>sem dinheiro</td>\n",
       "    </tr>\n",
       "    <tr>\n",
       "      <th>32</th>\n",
       "      <td>Jhon</td>\n",
       "      <td>Nailza</td>\n",
       "      <td>(47) 3662-4084</td>\n",
       "      <td>nailza33@yahoo.com</td>\n",
       "      <td>pendente</td>\n",
       "      <td>curioso</td>\n",
       "    </tr>\n",
       "    <tr>\n",
       "      <th>33</th>\n",
       "      <td>Thiago</td>\n",
       "      <td>Renata</td>\n",
       "      <td>(83) 2533-0428</td>\n",
       "      <td>renata34@terra.com</td>\n",
       "      <td>contatado</td>\n",
       "      <td>não responde</td>\n",
       "    </tr>\n",
       "    <tr>\n",
       "      <th>34</th>\n",
       "      <td>Romulo</td>\n",
       "      <td>Cleide</td>\n",
       "      <td>(68) 3962-1683</td>\n",
       "      <td>cleide35@uol.com</td>\n",
       "      <td>concluído</td>\n",
       "      <td>não responde</td>\n",
       "    </tr>\n",
       "    <tr>\n",
       "      <th>35</th>\n",
       "      <td>Rafael</td>\n",
       "      <td>Julie</td>\n",
       "      <td>(83) 3516-8566</td>\n",
       "      <td>julie36@hotmail.com</td>\n",
       "      <td>pagou</td>\n",
       "      <td>sem dinheiro</td>\n",
       "    </tr>\n",
       "    <tr>\n",
       "      <th>36</th>\n",
       "      <td>Carlos</td>\n",
       "      <td>Eliene</td>\n",
       "      <td>(98) 3877-3374</td>\n",
       "      <td>eliene37@gmail.com</td>\n",
       "      <td>concluído</td>\n",
       "      <td>falta tempo</td>\n",
       "    </tr>\n",
       "    <tr>\n",
       "      <th>37</th>\n",
       "      <td>João</td>\n",
       "      <td>Camila</td>\n",
       "      <td>(63) 2120-1333</td>\n",
       "      <td>camila38@yahoo.com</td>\n",
       "      <td>pagou</td>\n",
       "      <td>prioridade</td>\n",
       "    </tr>\n",
       "    <tr>\n",
       "      <th>38</th>\n",
       "      <td>Pedro</td>\n",
       "      <td>Gracielle</td>\n",
       "      <td>(64) 2621-3330</td>\n",
       "      <td>gracielle39@terra.com</td>\n",
       "      <td>pendente</td>\n",
       "      <td>sem dinheiro</td>\n",
       "    </tr>\n",
       "    <tr>\n",
       "      <th>39</th>\n",
       "      <td>Manoel</td>\n",
       "      <td>Caroline</td>\n",
       "      <td>(99) 3446-7422</td>\n",
       "      <td>caroline40@uol.com</td>\n",
       "      <td>contatado</td>\n",
       "      <td>curioso</td>\n",
       "    </tr>\n",
       "    <tr>\n",
       "      <th>40</th>\n",
       "      <td>João Luis</td>\n",
       "      <td>Tatiana</td>\n",
       "      <td>(27) 3599-7305</td>\n",
       "      <td>tatiana41@hotmail.com</td>\n",
       "      <td>concluído</td>\n",
       "      <td>não responde</td>\n",
       "    </tr>\n",
       "    <tr>\n",
       "      <th>41</th>\n",
       "      <td>Pitter</td>\n",
       "      <td>Denise</td>\n",
       "      <td>(73) 3634-2953</td>\n",
       "      <td>denise42@gmail.com</td>\n",
       "      <td>pagou</td>\n",
       "      <td>não responde</td>\n",
       "    </tr>\n",
       "    <tr>\n",
       "      <th>42</th>\n",
       "      <td>Tony Stark</td>\n",
       "      <td>Luziana</td>\n",
       "      <td>(19) 2944-8906</td>\n",
       "      <td>luziana43@yahoo.com</td>\n",
       "      <td>concluído</td>\n",
       "      <td>sem dinheiro</td>\n",
       "    </tr>\n",
       "    <tr>\n",
       "      <th>43</th>\n",
       "      <td>Jhon</td>\n",
       "      <td>Edmara</td>\n",
       "      <td>(27) 3454-7736</td>\n",
       "      <td>edmara44@terra.com</td>\n",
       "      <td>pagou</td>\n",
       "      <td>falta tempo</td>\n",
       "    </tr>\n",
       "  </tbody>\n",
       "</table>\n",
       "</div>\n",
       "      <button class=\"colab-df-convert\" onclick=\"convertToInteractive('df-60e50523-49f8-42c0-942d-6865f9570fb3')\"\n",
       "              title=\"Convert this dataframe to an interactive table.\"\n",
       "              style=\"display:none;\">\n",
       "        \n",
       "  <svg xmlns=\"http://www.w3.org/2000/svg\" height=\"24px\"viewBox=\"0 0 24 24\"\n",
       "       width=\"24px\">\n",
       "    <path d=\"M0 0h24v24H0V0z\" fill=\"none\"/>\n",
       "    <path d=\"M18.56 5.44l.94 2.06.94-2.06 2.06-.94-2.06-.94-.94-2.06-.94 2.06-2.06.94zm-11 1L8.5 8.5l.94-2.06 2.06-.94-2.06-.94L8.5 2.5l-.94 2.06-2.06.94zm10 10l.94 2.06.94-2.06 2.06-.94-2.06-.94-.94-2.06-.94 2.06-2.06.94z\"/><path d=\"M17.41 7.96l-1.37-1.37c-.4-.4-.92-.59-1.43-.59-.52 0-1.04.2-1.43.59L10.3 9.45l-7.72 7.72c-.78.78-.78 2.05 0 2.83L4 21.41c.39.39.9.59 1.41.59.51 0 1.02-.2 1.41-.59l7.78-7.78 2.81-2.81c.8-.78.8-2.07 0-2.86zM5.41 20L4 18.59l7.72-7.72 1.47 1.35L5.41 20z\"/>\n",
       "  </svg>\n",
       "      </button>\n",
       "      \n",
       "  <style>\n",
       "    .colab-df-container {\n",
       "      display:flex;\n",
       "      flex-wrap:wrap;\n",
       "      gap: 12px;\n",
       "    }\n",
       "\n",
       "    .colab-df-convert {\n",
       "      background-color: #E8F0FE;\n",
       "      border: none;\n",
       "      border-radius: 50%;\n",
       "      cursor: pointer;\n",
       "      display: none;\n",
       "      fill: #1967D2;\n",
       "      height: 32px;\n",
       "      padding: 0 0 0 0;\n",
       "      width: 32px;\n",
       "    }\n",
       "\n",
       "    .colab-df-convert:hover {\n",
       "      background-color: #E2EBFA;\n",
       "      box-shadow: 0px 1px 2px rgba(60, 64, 67, 0.3), 0px 1px 3px 1px rgba(60, 64, 67, 0.15);\n",
       "      fill: #174EA6;\n",
       "    }\n",
       "\n",
       "    [theme=dark] .colab-df-convert {\n",
       "      background-color: #3B4455;\n",
       "      fill: #D2E3FC;\n",
       "    }\n",
       "\n",
       "    [theme=dark] .colab-df-convert:hover {\n",
       "      background-color: #434B5C;\n",
       "      box-shadow: 0px 1px 3px 1px rgba(0, 0, 0, 0.15);\n",
       "      filter: drop-shadow(0px 1px 2px rgba(0, 0, 0, 0.3));\n",
       "      fill: #FFFFFF;\n",
       "    }\n",
       "  </style>\n",
       "\n",
       "      <script>\n",
       "        const buttonEl =\n",
       "          document.querySelector('#df-60e50523-49f8-42c0-942d-6865f9570fb3 button.colab-df-convert');\n",
       "        buttonEl.style.display =\n",
       "          google.colab.kernel.accessAllowed ? 'block' : 'none';\n",
       "\n",
       "        async function convertToInteractive(key) {\n",
       "          const element = document.querySelector('#df-60e50523-49f8-42c0-942d-6865f9570fb3');\n",
       "          const dataTable =\n",
       "            await google.colab.kernel.invokeFunction('convertToInteractive',\n",
       "                                                     [key], {});\n",
       "          if (!dataTable) return;\n",
       "\n",
       "          const docLinkHtml = 'Like what you see? Visit the ' +\n",
       "            '<a target=\"_blank\" href=https://colab.research.google.com/notebooks/data_table.ipynb>data table notebook</a>'\n",
       "            + ' to learn more about interactive tables.';\n",
       "          element.innerHTML = '';\n",
       "          dataTable['output_type'] = 'display_data';\n",
       "          await google.colab.output.renderOutput(dataTable, element);\n",
       "          const docLink = document.createElement('div');\n",
       "          docLink.innerHTML = docLinkHtml;\n",
       "          element.appendChild(docLink);\n",
       "        }\n",
       "      </script>\n",
       "    </div>\n",
       "  </div>\n",
       "  "
      ],
      "text/plain": [
       "      Vendedor Nome do lead  ...     Status       Objeção\n",
       "0       Thiago        Bruna  ...  concluído  sem dinheiro\n",
       "1       Romulo          Ana  ...      pagou   falta tempo\n",
       "2       Rafael      Adriana  ...   pendente    prioridade\n",
       "3       Carlos         Dina  ...  contatado  sem dinheiro\n",
       "4         João      Leticia  ...  concluído       curioso\n",
       "5        Pedro       Joelma  ...      pagou  não responde\n",
       "6       Manoel      Lavinia  ...  concluído  não responde\n",
       "7    João Luis      Jessica  ...      pagou  sem dinheiro\n",
       "8       Pitter     Fernanda  ...   pendente   falta tempo\n",
       "9   Tony Stark       Silvia  ...  contatado    prioridade\n",
       "10        Jhon     Priscila  ...  concluído  sem dinheiro\n",
       "11      Thiago      Lourdes  ...      pagou       curioso\n",
       "12      Romulo    Margarida  ...  concluído  não responde\n",
       "13      Rafael       Renata  ...      pagou  não responde\n",
       "14      Carlos        Emily  ...   pendente  sem dinheiro\n",
       "15        João       Débora  ...  contatado   falta tempo\n",
       "16       Pedro        Aline  ...  concluído    prioridade\n",
       "17      Manoel        Alana  ...      pagou  sem dinheiro\n",
       "18   João Luis     Fernanda  ...  concluído       curioso\n",
       "19      Pitter    Jaqueline  ...      pagou  não responde\n",
       "20  Tony Stark        Jully  ...   pendente  não responde\n",
       "21        Jhon     Pollyane  ...  contatado  sem dinheiro\n",
       "22      Thiago       Taiane  ...  concluído   falta tempo\n",
       "23      Romulo     Michelle  ...      pagou    prioridade\n",
       "24      Rafael        Maria  ...  concluído  sem dinheiro\n",
       "25      Carlos      Eduarda  ...      pagou       curioso\n",
       "26        João     Claudete  ...   pendente  não responde\n",
       "27       Pedro    Andrelina  ...  contatado  não responde\n",
       "28      Manoel          Ana  ...  concluído  sem dinheiro\n",
       "29   João Luis      Vanessa  ...      pagou   falta tempo\n",
       "30      Pitter         Elen  ...  concluído    prioridade\n",
       "31  Tony Stark    Cristiane  ...      pagou  sem dinheiro\n",
       "32        Jhon       Nailza  ...   pendente       curioso\n",
       "33      Thiago       Renata  ...  contatado  não responde\n",
       "34      Romulo       Cleide  ...  concluído  não responde\n",
       "35      Rafael        Julie  ...      pagou  sem dinheiro\n",
       "36      Carlos       Eliene  ...  concluído   falta tempo\n",
       "37        João       Camila  ...      pagou    prioridade\n",
       "38       Pedro    Gracielle  ...   pendente  sem dinheiro\n",
       "39      Manoel     Caroline  ...  contatado       curioso\n",
       "40   João Luis      Tatiana  ...  concluído  não responde\n",
       "41      Pitter       Denise  ...      pagou  não responde\n",
       "42  Tony Stark      Luziana  ...  concluído  sem dinheiro\n",
       "43        Jhon       Edmara  ...      pagou   falta tempo\n",
       "\n",
       "[44 rows x 6 columns]"
      ]
     },
     "execution_count": 35,
     "metadata": {},
     "output_type": "execute_result"
    }
   ],
   "source": [
    "data.drop(labels = 'aux', axis = 1, inplace = True)\n",
    "data"
   ]
  }
 ],
 "metadata": {
  "colab": {
   "authorship_tag": "ABX9TyPpO9stKXoFchoElJJ5vQXY",
   "collapsed_sections": [],
   "mount_file_id": "11KTi-Qv4lIg0l-vAqtvrW3ca1vhBAXcQ",
   "name": "1_Analisando_os_dados.ipynb",
   "provenance": []
  },
  "kernelspec": {
   "display_name": "Python 3 (ipykernel)",
   "language": "python",
   "name": "python3"
  },
  "language_info": {
   "codemirror_mode": {
    "name": "ipython",
    "version": 3
   },
   "file_extension": ".py",
   "mimetype": "text/x-python",
   "name": "python",
   "nbconvert_exporter": "python",
   "pygments_lexer": "ipython3",
   "version": "3.9.7"
  }
 },
 "nbformat": 4,
 "nbformat_minor": 1
}
