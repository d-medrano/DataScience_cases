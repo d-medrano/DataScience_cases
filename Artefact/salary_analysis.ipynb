{
 "cells": [
  {
   "cell_type": "markdown",
   "metadata": {
    "id": "pLdZz0Qzt-ac"
   },
   "source": [
    "# ARTEFACT case - processo seletivo: 3A & 3B"
   ]
  },
  {
   "cell_type": "markdown",
   "metadata": {
    "id": "PGKS2Tm_uV-b"
   },
   "source": [
    "In this exercise, they ask us to check whether the *salaries* of the employees in a supermarket company are **significantly** different according to their *location*. For that purpose, I am going to set a priori a significance level of 5%."
   ]
  },
  {
   "cell_type": "code",
   "execution_count": 1,
   "metadata": {
    "id": "B-gXgHj7vFs3"
   },
   "outputs": [],
   "source": [
    "import pandas as pd\n",
    "import numpy as np\n",
    "import matplotlib.pyplot as plt\n",
    "from IPython.display import display, Math, Latex"
   ]
  },
  {
   "cell_type": "markdown",
   "metadata": {
    "id": "edLXYbf-vKcz"
   },
   "source": [
    "First of all, I am going to load the data from the .xlsx file provided, and to check that all the entries are free of null values."
   ]
  },
  {
   "cell_type": "code",
   "execution_count": 3,
   "metadata": {
    "colab": {
     "base_uri": "https://localhost:8080/"
    },
    "executionInfo": {
     "elapsed": 1550,
     "status": "ok",
     "timestamp": 1646841256308,
     "user": {
      "displayName": "Diego Medrano Jiménez",
      "photoUrl": "https://lh3.googleusercontent.com/a-/AOh14Gi0EFChMeLtAAS3gsoyDERhd5tt6D-8C-lwnpECig=s64",
      "userId": "12536918966160991768"
     },
     "user_tz": 180
    },
    "id": "Zd5YQfMPvJG-",
    "outputId": "913ea6d8-8756-484b-811f-291efcf77181"
   },
   "outputs": [
    {
     "data": {
      "text/plain": [
       "(80, 7)"
      ]
     },
     "execution_count": 3,
     "metadata": {},
     "output_type": "execute_result"
    }
   ],
   "source": [
    "data = pd.read_excel('database.xlsx','Sheet3')\n",
    "data.shape"
   ]
  },
  {
   "cell_type": "code",
   "execution_count": 4,
   "metadata": {
    "colab": {
     "base_uri": "https://localhost:8080/",
     "height": 206
    },
    "executionInfo": {
     "elapsed": 39,
     "status": "ok",
     "timestamp": 1646841256309,
     "user": {
      "displayName": "Diego Medrano Jiménez",
      "photoUrl": "https://lh3.googleusercontent.com/a-/AOh14Gi0EFChMeLtAAS3gsoyDERhd5tt6D-8C-lwnpECig=s64",
      "userId": "12536918966160991768"
     },
     "user_tz": 180
    },
    "id": "yD0goPnCvU-I",
    "outputId": "067accd7-55d7-48a0-8eb4-b3321d6bc2df"
   },
   "outputs": [
    {
     "data": {
      "text/html": [
       "<div>\n",
       "<style scoped>\n",
       "    .dataframe tbody tr th:only-of-type {\n",
       "        vertical-align: middle;\n",
       "    }\n",
       "\n",
       "    .dataframe tbody tr th {\n",
       "        vertical-align: top;\n",
       "    }\n",
       "\n",
       "    .dataframe thead th {\n",
       "        text-align: right;\n",
       "    }\n",
       "</style>\n",
       "<table border=\"1\" class=\"dataframe\">\n",
       "  <thead>\n",
       "    <tr style=\"text-align: right;\">\n",
       "      <th></th>\n",
       "      <th>ID</th>\n",
       "      <th>EDUCAÇÃO</th>\n",
       "      <th>CARGO</th>\n",
       "      <th>LOCAL</th>\n",
       "      <th>IDADE</th>\n",
       "      <th>TEMPOCASA</th>\n",
       "      <th>SALARIO_MENSAL</th>\n",
       "    </tr>\n",
       "  </thead>\n",
       "  <tbody>\n",
       "    <tr>\n",
       "      <th>0</th>\n",
       "      <td>1.0</td>\n",
       "      <td>SECUNDÁRIO</td>\n",
       "      <td>GERENTE</td>\n",
       "      <td>INTERIOR</td>\n",
       "      <td>30.0</td>\n",
       "      <td>1.0</td>\n",
       "      <td>4279.5</td>\n",
       "    </tr>\n",
       "    <tr>\n",
       "      <th>1</th>\n",
       "      <td>2.0</td>\n",
       "      <td>SUPERIOR</td>\n",
       "      <td>AUXILIAR</td>\n",
       "      <td>INTERIOR</td>\n",
       "      <td>32.0</td>\n",
       "      <td>4.0</td>\n",
       "      <td>4575.4</td>\n",
       "    </tr>\n",
       "    <tr>\n",
       "      <th>2</th>\n",
       "      <td>3.0</td>\n",
       "      <td>SECUNDÁRIO</td>\n",
       "      <td>AUXILIAR</td>\n",
       "      <td>CAPITAL</td>\n",
       "      <td>33.0</td>\n",
       "      <td>2.0</td>\n",
       "      <td>4735.6</td>\n",
       "    </tr>\n",
       "    <tr>\n",
       "      <th>3</th>\n",
       "      <td>4.0</td>\n",
       "      <td>SUPERIOR</td>\n",
       "      <td>GERENTE</td>\n",
       "      <td>INTERIOR</td>\n",
       "      <td>34.0</td>\n",
       "      <td>3.0</td>\n",
       "      <td>4863.1</td>\n",
       "    </tr>\n",
       "    <tr>\n",
       "      <th>4</th>\n",
       "      <td>5.0</td>\n",
       "      <td>SECUNDÁRIO</td>\n",
       "      <td>GERENTE</td>\n",
       "      <td>INTERIOR</td>\n",
       "      <td>36.0</td>\n",
       "      <td>1.0</td>\n",
       "      <td>5355.8</td>\n",
       "    </tr>\n",
       "  </tbody>\n",
       "</table>\n",
       "</div>"
      ],
      "text/plain": [
       "    ID    EDUCAÇÃO     CARGO     LOCAL  IDADE  TEMPOCASA  SALARIO_MENSAL\n",
       "0  1.0  SECUNDÁRIO   GERENTE  INTERIOR   30.0        1.0          4279.5\n",
       "1  2.0    SUPERIOR  AUXILIAR  INTERIOR   32.0        4.0          4575.4\n",
       "2  3.0  SECUNDÁRIO  AUXILIAR   CAPITAL   33.0        2.0          4735.6\n",
       "3  4.0    SUPERIOR   GERENTE  INTERIOR   34.0        3.0          4863.1\n",
       "4  5.0  SECUNDÁRIO   GERENTE  INTERIOR   36.0        1.0          5355.8"
      ]
     },
     "execution_count": 4,
     "metadata": {},
     "output_type": "execute_result"
    }
   ],
   "source": [
    "data.head()"
   ]
  },
  {
   "cell_type": "code",
   "execution_count": 5,
   "metadata": {
    "colab": {
     "base_uri": "https://localhost:8080/",
     "height": 206
    },
    "executionInfo": {
     "elapsed": 31,
     "status": "ok",
     "timestamp": 1646841256310,
     "user": {
      "displayName": "Diego Medrano Jiménez",
      "photoUrl": "https://lh3.googleusercontent.com/a-/AOh14Gi0EFChMeLtAAS3gsoyDERhd5tt6D-8C-lwnpECig=s64",
      "userId": "12536918966160991768"
     },
     "user_tz": 180
    },
    "id": "npC5IcEgvyhx",
    "outputId": "d6351a27-09fa-467f-e0b9-d1dd24cba715"
   },
   "outputs": [
    {
     "data": {
      "text/html": [
       "<div>\n",
       "<style scoped>\n",
       "    .dataframe tbody tr th:only-of-type {\n",
       "        vertical-align: middle;\n",
       "    }\n",
       "\n",
       "    .dataframe tbody tr th {\n",
       "        vertical-align: top;\n",
       "    }\n",
       "\n",
       "    .dataframe thead th {\n",
       "        text-align: right;\n",
       "    }\n",
       "</style>\n",
       "<table border=\"1\" class=\"dataframe\">\n",
       "  <thead>\n",
       "    <tr style=\"text-align: right;\">\n",
       "      <th></th>\n",
       "      <th>ID</th>\n",
       "      <th>EDUCAÇÃO</th>\n",
       "      <th>CARGO</th>\n",
       "      <th>LOCAL</th>\n",
       "      <th>IDADE</th>\n",
       "      <th>TEMPOCASA</th>\n",
       "      <th>SALARIO_MENSAL</th>\n",
       "    </tr>\n",
       "  </thead>\n",
       "  <tbody>\n",
       "    <tr>\n",
       "      <th>75</th>\n",
       "      <td>78.0</td>\n",
       "      <td>SUPERIOR</td>\n",
       "      <td>GERENTE</td>\n",
       "      <td>CAPITAL</td>\n",
       "      <td>65.0</td>\n",
       "      <td>25.0</td>\n",
       "      <td>7257.0</td>\n",
       "    </tr>\n",
       "    <tr>\n",
       "      <th>76</th>\n",
       "      <td>79.0</td>\n",
       "      <td>SUPERIOR</td>\n",
       "      <td>AUXILIAR</td>\n",
       "      <td>INTERIOR</td>\n",
       "      <td>67.0</td>\n",
       "      <td>15.0</td>\n",
       "      <td>6235.1</td>\n",
       "    </tr>\n",
       "    <tr>\n",
       "      <th>77</th>\n",
       "      <td>80.0</td>\n",
       "      <td>SUPERIOR</td>\n",
       "      <td>DIRETOR</td>\n",
       "      <td>CAPITAL</td>\n",
       "      <td>69.0</td>\n",
       "      <td>21.0</td>\n",
       "      <td>7257.0</td>\n",
       "    </tr>\n",
       "    <tr>\n",
       "      <th>78</th>\n",
       "      <td>81.0</td>\n",
       "      <td>SUPERIOR</td>\n",
       "      <td>DIRETOR</td>\n",
       "      <td>CAPITAL</td>\n",
       "      <td>70.0</td>\n",
       "      <td>22.0</td>\n",
       "      <td>7481.2</td>\n",
       "    </tr>\n",
       "    <tr>\n",
       "      <th>79</th>\n",
       "      <td>82.0</td>\n",
       "      <td>SUPERIOR</td>\n",
       "      <td>AUXILIAR</td>\n",
       "      <td>CAPITAL</td>\n",
       "      <td>72.0</td>\n",
       "      <td>22.0</td>\n",
       "      <td>6415.8</td>\n",
       "    </tr>\n",
       "  </tbody>\n",
       "</table>\n",
       "</div>"
      ],
      "text/plain": [
       "      ID  EDUCAÇÃO     CARGO     LOCAL  IDADE  TEMPOCASA  SALARIO_MENSAL\n",
       "75  78.0  SUPERIOR   GERENTE   CAPITAL   65.0       25.0          7257.0\n",
       "76  79.0  SUPERIOR  AUXILIAR  INTERIOR   67.0       15.0          6235.1\n",
       "77  80.0  SUPERIOR   DIRETOR   CAPITAL   69.0       21.0          7257.0\n",
       "78  81.0  SUPERIOR   DIRETOR   CAPITAL   70.0       22.0          7481.2\n",
       "79  82.0  SUPERIOR  AUXILIAR   CAPITAL   72.0       22.0          6415.8"
      ]
     },
     "execution_count": 5,
     "metadata": {},
     "output_type": "execute_result"
    }
   ],
   "source": [
    "data.tail()"
   ]
  },
  {
   "cell_type": "code",
   "execution_count": 6,
   "metadata": {
    "colab": {
     "base_uri": "https://localhost:8080/"
    },
    "executionInfo": {
     "elapsed": 6,
     "status": "ok",
     "timestamp": 1646841257404,
     "user": {
      "displayName": "Diego Medrano Jiménez",
      "photoUrl": "https://lh3.googleusercontent.com/a-/AOh14Gi0EFChMeLtAAS3gsoyDERhd5tt6D-8C-lwnpECig=s64",
      "userId": "12536918966160991768"
     },
     "user_tz": 180
    },
    "id": "nchl8-J-vz-u",
    "outputId": "a53fd1fa-af5d-43e1-99bd-e5704a001713"
   },
   "outputs": [
    {
     "data": {
      "text/plain": [
       "ID                0\n",
       "EDUCAÇÃO          0\n",
       "CARGO             0\n",
       "LOCAL             0\n",
       "IDADE             0\n",
       "TEMPOCASA         0\n",
       "SALARIO_MENSAL    0\n",
       "dtype: int64"
      ]
     },
     "execution_count": 6,
     "metadata": {},
     "output_type": "execute_result"
    }
   ],
   "source": [
    "data.isnull().sum() # There are not NULL values"
   ]
  },
  {
   "cell_type": "markdown",
   "metadata": {
    "id": "4hkPaRDgwE7S"
   },
   "source": [
    "First thing I notice from the size of the dataframe is that there are some missing IDs on the first column. It is more a curiosity than a real problem. Could be that those employees are not staff of the company anymore."
   ]
  },
  {
   "cell_type": "code",
   "execution_count": 7,
   "metadata": {
    "colab": {
     "base_uri": "https://localhost:8080/"
    },
    "executionInfo": {
     "elapsed": 275,
     "status": "ok",
     "timestamp": 1646841260048,
     "user": {
      "displayName": "Diego Medrano Jiménez",
      "photoUrl": "https://lh3.googleusercontent.com/a-/AOh14Gi0EFChMeLtAAS3gsoyDERhd5tt6D-8C-lwnpECig=s64",
      "userId": "12536918966160991768"
     },
     "user_tz": 180
    },
    "id": "7onkzrowwBkt",
    "outputId": "988d252b-cf14-4303-8528-dbc2ec0ab3da"
   },
   "outputs": [
    {
     "data": {
      "text/plain": [
       "[17, 66]"
      ]
     },
     "execution_count": 7,
     "metadata": {},
     "output_type": "execute_result"
    }
   ],
   "source": [
    "missing_IDs = [id for id in range(1,82) if id not in data['ID'].values]\n",
    "missing_IDs"
   ]
  },
  {
   "cell_type": "markdown",
   "metadata": {
    "id": "JH0IqtZexhtY"
   },
   "source": [
    "The important columns for the exercise are `data['LOCAL']` and `data['SALARIO_MENSAL']`. The rest is just additional information. Let us extract then the salary information from the dataset and split it in separate variables corresponding to the possible locations of the employee."
   ]
  },
  {
   "cell_type": "code",
   "execution_count": 8,
   "metadata": {
    "colab": {
     "base_uri": "https://localhost:8080/"
    },
    "executionInfo": {
     "elapsed": 12,
     "status": "ok",
     "timestamp": 1646841261204,
     "user": {
      "displayName": "Diego Medrano Jiménez",
      "photoUrl": "https://lh3.googleusercontent.com/a-/AOh14Gi0EFChMeLtAAS3gsoyDERhd5tt6D-8C-lwnpECig=s64",
      "userId": "12536918966160991768"
     },
     "user_tz": 180
    },
    "id": "YrVa9MyEwkqi",
    "outputId": "79813a49-0228-4644-8787-f338b5d05949"
   },
   "outputs": [
    {
     "data": {
      "text/plain": [
       "['INTERIOR', 'CAPITAL']"
      ]
     },
     "execution_count": 8,
     "metadata": {},
     "output_type": "execute_result"
    }
   ],
   "source": [
    "data = data[['LOCAL', 'SALARIO_MENSAL']]\n",
    "data['LOCAL'].unique().tolist()"
   ]
  },
  {
   "cell_type": "code",
   "execution_count": 9,
   "metadata": {
    "id": "_27qADDWyYBw"
   },
   "outputs": [],
   "source": [
    "sal_int = data.query('LOCAL == \"INTERIOR\"').SALARIO_MENSAL\n",
    "sal_cap = data.query('LOCAL == \"CAPITAL\"').SALARIO_MENSAL"
   ]
  },
  {
   "cell_type": "markdown",
   "metadata": {
    "id": "9uoJnQx10dNG"
   },
   "source": [
    "We can take a look at some of the statistics and plot histograms to get an idea about how the values are distributed on both groups."
   ]
  },
  {
   "cell_type": "code",
   "execution_count": 10,
   "metadata": {
    "colab": {
     "base_uri": "https://localhost:8080/",
     "height": 300
    },
    "executionInfo": {
     "elapsed": 367,
     "status": "ok",
     "timestamp": 1646842114538,
     "user": {
      "displayName": "Diego Medrano Jiménez",
      "photoUrl": "https://lh3.googleusercontent.com/a-/AOh14Gi0EFChMeLtAAS3gsoyDERhd5tt6D-8C-lwnpECig=s64",
      "userId": "12536918966160991768"
     },
     "user_tz": 180
    },
    "id": "-_SF4Uqf0uly",
    "outputId": "db23aada-7fbf-419e-85df-a32b4f2b9ccf"
   },
   "outputs": [
    {
     "data": {
      "text/html": [
       "<div>\n",
       "<style scoped>\n",
       "    .dataframe tbody tr th:only-of-type {\n",
       "        vertical-align: middle;\n",
       "    }\n",
       "\n",
       "    .dataframe tbody tr th {\n",
       "        vertical-align: top;\n",
       "    }\n",
       "\n",
       "    .dataframe thead th {\n",
       "        text-align: right;\n",
       "    }\n",
       "</style>\n",
       "<table border=\"1\" class=\"dataframe\">\n",
       "  <thead>\n",
       "    <tr style=\"text-align: right;\">\n",
       "      <th></th>\n",
       "      <th>Interior_Salary</th>\n",
       "      <th>Capital_Salary</th>\n",
       "    </tr>\n",
       "  </thead>\n",
       "  <tbody>\n",
       "    <tr>\n",
       "      <th>count</th>\n",
       "      <td>35.000000</td>\n",
       "      <td>45.000000</td>\n",
       "    </tr>\n",
       "    <tr>\n",
       "      <th>mean</th>\n",
       "      <td>5368.868571</td>\n",
       "      <td>6095.542222</td>\n",
       "    </tr>\n",
       "    <tr>\n",
       "      <th>std</th>\n",
       "      <td>718.191711</td>\n",
       "      <td>1300.428122</td>\n",
       "    </tr>\n",
       "    <tr>\n",
       "      <th>min</th>\n",
       "      <td>4186.600000</td>\n",
       "      <td>4434.600000</td>\n",
       "    </tr>\n",
       "    <tr>\n",
       "      <th>25%</th>\n",
       "      <td>4878.700000</td>\n",
       "      <td>5131.200000</td>\n",
       "    </tr>\n",
       "    <tr>\n",
       "      <th>50%</th>\n",
       "      <td>5254.400000</td>\n",
       "      <td>6051.300000</td>\n",
       "    </tr>\n",
       "    <tr>\n",
       "      <th>75%</th>\n",
       "      <td>5917.700000</td>\n",
       "      <td>6583.900000</td>\n",
       "    </tr>\n",
       "    <tr>\n",
       "      <th>max</th>\n",
       "      <td>6796.900000</td>\n",
       "      <td>12465.800000</td>\n",
       "    </tr>\n",
       "  </tbody>\n",
       "</table>\n",
       "</div>"
      ],
      "text/plain": [
       "       Interior_Salary  Capital_Salary\n",
       "count        35.000000       45.000000\n",
       "mean       5368.868571     6095.542222\n",
       "std         718.191711     1300.428122\n",
       "min        4186.600000     4434.600000\n",
       "25%        4878.700000     5131.200000\n",
       "50%        5254.400000     6051.300000\n",
       "75%        5917.700000     6583.900000\n",
       "max        6796.900000    12465.800000"
      ]
     },
     "execution_count": 10,
     "metadata": {},
     "output_type": "execute_result"
    }
   ],
   "source": [
    "resume = pd.DataFrame({'Interior_Salary': sal_int.describe(), 'Capital_Salary': sal_cap.describe()})\n",
    "resume"
   ]
  },
  {
   "cell_type": "code",
   "execution_count": 11,
   "metadata": {
    "colab": {
     "base_uri": "https://localhost:8080/",
     "height": 295
    },
    "executionInfo": {
     "elapsed": 305,
     "status": "ok",
     "timestamp": 1646841264360,
     "user": {
      "displayName": "Diego Medrano Jiménez",
      "photoUrl": "https://lh3.googleusercontent.com/a-/AOh14Gi0EFChMeLtAAS3gsoyDERhd5tt6D-8C-lwnpECig=s64",
      "userId": "12536918966160991768"
     },
     "user_tz": 180
    },
    "id": "KHdp4uaZ02j3",
    "outputId": "869b8890-8853-4a68-d1e3-6db932bd7355"
   },
   "outputs": [
    {
     "data": {
      "image/png": "[encoded data removed]",
      "text/plain": [
       "<Figure size 432x288 with 2 Axes>"
      ]
     },
     "metadata": {
      "needs_background": "light"
     },
     "output_type": "display_data"
    }
   ],
   "source": [
    "fig, (ax1, ax2) = plt.subplots(1,2, sharey = True)\n",
    "\n",
    "ax1.set_title('Interior Salary')\n",
    "ax1.set_xlabel('Salary')\n",
    "ax1.set_ylabel('Frequency')\n",
    "ax1.hist(sal_int, range=(4000, 13000))\n",
    "\n",
    "ax2.set_title('Capital Salary')\n",
    "ax2.set_xlabel('Salary')\n",
    "ax2.hist(sal_cap, range=(4000, 13000))\n",
    "\n",
    "plt.show()"
   ]
  },
  {
   "cell_type": "markdown",
   "metadata": {
    "id": "ozVyXcX91DrA"
   },
   "source": [
    "Clearly the difference between the mean values `5368.9 <-> 6095.5` is not negligible. It might be possible that the outlier around `12000` is causing the discrepancy. We will check that later as well.\n",
    "\n",
    "However, in order to check this discrepancy rigorously, we should also take into account the variances and work around a contrast hypothesis."
   ]
  },
  {
   "cell_type": "markdown",
   "metadata": {
    "id": "V95qJCLQ2EMQ"
   },
   "source": [
    "# Student's t-test: Welch's t-test"
   ]
  },
  {
   "cell_type": "markdown",
   "metadata": {
    "id": "-odCm_cPel1-"
   },
   "source": [
    "Initially I am going to consider a Null-Hypothesis in which the salaries of the employees in both locations are similar, i.e."
   ]
  },
  {
   "cell_type": "code",
   "execution_count": 12,
   "metadata": {
    "colab": {
     "base_uri": "https://localhost:8080/",
     "height": 40
    },
    "executionInfo": {
     "elapsed": 406,
     "status": "ok",
     "timestamp": 1646843691292,
     "user": {
      "displayName": "Diego Medrano Jiménez",
      "photoUrl": "https://lh3.googleusercontent.com/a-/AOh14Gi0EFChMeLtAAS3gsoyDERhd5tt6D-8C-lwnpECig=s64",
      "userId": "12536918966160991768"
     },
     "user_tz": 180
    },
    "id": "9I6Gtv3IhGwt",
    "outputId": "adab6482-9e95-43fe-f1c8-b61b2499a28a"
   },
   "outputs": [
    {
     "data": {
      "text/latex": [
       "$\\displaystyle \\text{Null-hypothesis:}\\quad H_0\\equiv \\bar X_\\text{salary}^\\text{INTERIOR}\\sim\\bar X_\\text{salary}^\\text{CAPITAL}$"
      ],
      "text/plain": [
       "<IPython.core.display.Math object>"
      ]
     },
     "metadata": {},
     "output_type": "display_data"
    }
   ],
   "source": [
    "display(Math(r'\\text{Null-hypothesis:}\\quad H_0\\equiv \\bar X_\\text{salary}^\\text{INTERIOR}\\sim\\bar X_\\text{salary}^\\text{CAPITAL}'))"
   ]
  },
  {
   "cell_type": "markdown",
   "metadata": {
    "id": "jHIMaQQKhd7U"
   },
   "source": [
    "These are my samples..."
   ]
  },
  {
   "cell_type": "code",
   "execution_count": 13,
   "metadata": {
    "colab": {
     "base_uri": "https://localhost:8080/",
     "height": 112
    },
    "executionInfo": {
     "elapsed": 262,
     "status": "ok",
     "timestamp": 1646842140331,
     "user": {
      "displayName": "Diego Medrano Jiménez",
      "photoUrl": "https://lh3.googleusercontent.com/a-/AOh14Gi0EFChMeLtAAS3gsoyDERhd5tt6D-8C-lwnpECig=s64",
      "userId": "12536918966160991768"
     },
     "user_tz": 180
    },
    "id": "KC98ZnOh0_wY",
    "outputId": "961f79dd-be18-47a1-e4b2-a83554b745d6"
   },
   "outputs": [
    {
     "data": {
      "text/html": [
       "<div>\n",
       "<style scoped>\n",
       "    .dataframe tbody tr th:only-of-type {\n",
       "        vertical-align: middle;\n",
       "    }\n",
       "\n",
       "    .dataframe tbody tr th {\n",
       "        vertical-align: top;\n",
       "    }\n",
       "\n",
       "    .dataframe thead th {\n",
       "        text-align: right;\n",
       "    }\n",
       "</style>\n",
       "<table border=\"1\" class=\"dataframe\">\n",
       "  <thead>\n",
       "    <tr style=\"text-align: right;\">\n",
       "      <th></th>\n",
       "      <th>Interior_Salary</th>\n",
       "      <th>Capital_Salary</th>\n",
       "    </tr>\n",
       "  </thead>\n",
       "  <tbody>\n",
       "    <tr>\n",
       "      <th>mean</th>\n",
       "      <td>5368.868571</td>\n",
       "      <td>6095.542222</td>\n",
       "    </tr>\n",
       "    <tr>\n",
       "      <th>std</th>\n",
       "      <td>718.191711</td>\n",
       "      <td>1300.428122</td>\n",
       "    </tr>\n",
       "  </tbody>\n",
       "</table>\n",
       "</div>"
      ],
      "text/plain": [
       "      Interior_Salary  Capital_Salary\n",
       "mean      5368.868571     6095.542222\n",
       "std        718.191711     1300.428122"
      ]
     },
     "execution_count": 13,
     "metadata": {},
     "output_type": "execute_result"
    }
   ],
   "source": [
    "resume.loc[['mean', 'std'],:]"
   ]
  },
  {
   "cell_type": "markdown",
   "metadata": {
    "id": "Xg3BchRYhiRw"
   },
   "source": [
    "... in which we observe two different mean values and also two *different variances*."
   ]
  },
  {
   "cell_type": "markdown",
   "metadata": {
    "id": "8WUcZEZJhs_z"
   },
   "source": [
    "To check my Null-Hypothesis $H_0$, I am going to perform a **Student's t-test** (**Welch's t-test**) and compare the resulting t-statistic `t` with the corresponding critial value `z_alpha` for a significance of 5%."
   ]
  },
  {
   "cell_type": "code",
   "execution_count": 14,
   "metadata": {
    "colab": {
     "base_uri": "https://localhost:8080/"
    },
    "executionInfo": {
     "elapsed": 327,
     "status": "ok",
     "timestamp": 1646844715132,
     "user": {
      "displayName": "Diego Medrano Jiménez",
      "photoUrl": "https://lh3.googleusercontent.com/a-/AOh14Gi0EFChMeLtAAS3gsoyDERhd5tt6D-8C-lwnpECig=s64",
      "userId": "12536918966160991768"
     },
     "user_tz": 180
    },
    "id": "HbFOZrgycNQF",
    "outputId": "399803b5-a875-456d-f193-7376a2005481"
   },
   "outputs": [
    {
     "name": "stdout",
     "output_type": "stream",
     "text": [
      "t = -3.1769929863941986\n"
     ]
    }
   ],
   "source": [
    "# Manually\n",
    "\n",
    "def t_test(sample1, sample2):\n",
    "    se1 = sample1.std()/np.sqrt(len(sample1))\n",
    "    se2 = sample2.std()/np.sqrt(len(sample2))\n",
    "    sed = np.sqrt(se1**2 + se2**2)\n",
    "    return (sample1.mean()-sample2.mean())/sed\n",
    "\n",
    "print('t = {}'.format(t_test(sal_int, sal_cap)))"
   ]
  },
  {
   "cell_type": "code",
   "execution_count": 15,
   "metadata": {
    "colab": {
     "base_uri": "https://localhost:8080/"
    },
    "executionInfo": {
     "elapsed": 686,
     "status": "ok",
     "timestamp": 1646844520657,
     "user": {
      "displayName": "Diego Medrano Jiménez",
      "photoUrl": "https://lh3.googleusercontent.com/a-/AOh14Gi0EFChMeLtAAS3gsoyDERhd5tt6D-8C-lwnpECig=s64",
      "userId": "12536918966160991768"
     },
     "user_tz": 180
    },
    "id": "zjTd_7EykObX",
    "outputId": "0f20d399-de37-41e4-f4d4-7ffe0ff10dfc"
   },
   "outputs": [
    {
     "name": "stdout",
     "output_type": "stream",
     "text": [
      "t = -3.176992986394198 , pvalue = 0.002202071572835849\n"
     ]
    }
   ],
   "source": [
    "# Using SciPy (for completeness)\n",
    "\n",
    "from scipy.stats import ttest_ind\n",
    "\n",
    "t, p = ttest_ind(sal_int, sal_cap, equal_var=False)\n",
    "print('t = {} , pvalue = {}'.format(t, p))"
   ]
  },
  {
   "cell_type": "markdown",
   "metadata": {
    "id": "5BOEggCXpx6F"
   },
   "source": [
    "The critical value `z_alpha` for a significance level of 5% can be obtained by solving the equation presented on the .pdf file for `nu = len(data)-2 = 78` degrees of freedom, but since there already exist tables for those kind of integrals, we can just consult it on the internet. For a 2-tail contrast hypothesis, significance of 5% corresponds to `z_alpha = 1.99`."
   ]
  },
  {
   "cell_type": "markdown",
   "metadata": {
    "id": "MlfLTG3JrGlv"
   },
   "source": [
    "Therefore..."
   ]
  },
  {
   "cell_type": "code",
   "execution_count": 16,
   "metadata": {
    "colab": {
     "base_uri": "https://localhost:8080/",
     "height": 38
    },
    "executionInfo": {
     "elapsed": 309,
     "status": "ok",
     "timestamp": 1646846513143,
     "user": {
      "displayName": "Diego Medrano Jiménez",
      "photoUrl": "https://lh3.googleusercontent.com/a-/AOh14Gi0EFChMeLtAAS3gsoyDERhd5tt6D-8C-lwnpECig=s64",
      "userId": "12536918966160991768"
     },
     "user_tz": 180
    },
    "id": "0_UD9n9SrRso",
    "outputId": "59acb9c5-9bc2-4d76-a937-ce82c3e9b559"
   },
   "outputs": [
    {
     "data": {
      "text/latex": [
       "$\\displaystyle |t| = 3.177 > z_\\alpha = 1.990 \\quad\\Rightarrow\\quad \\text{Reject Null-Hypothesis}\\quad\\Rightarrow\\quad\\text{Employees from different locations DO have different salaries}$"
      ],
      "text/plain": [
       "<IPython.core.display.Math object>"
      ]
     },
     "metadata": {},
     "output_type": "display_data"
    }
   ],
   "source": [
    "display(Math(r'|t| = 3.177 > z_\\alpha = 1.990 \\quad\\Rightarrow\\quad \\text{Reject Null-Hypothesis}\\quad\\Rightarrow\\quad\\text{Employees from different locations DO have different salaries}'))"
   ]
  },
  {
   "cell_type": "markdown",
   "metadata": {
    "id": "g1lu_G37r_qm"
   },
   "source": [
    "### Conclusion: *The supermarket company **is not** following the new policy.*"
   ]
  },
  {
   "cell_type": "markdown",
   "metadata": {
    "id": "NNhq76-Ds8lq"
   },
   "source": [
    "# Student's t-test: Welch's t-test without the outlier"
   ]
  },
  {
   "cell_type": "markdown",
   "metadata": {
    "id": "bk361UBotKb4"
   },
   "source": [
    "We can repeat the whole process discarding the outlier around 12000 R$ for the employee at the capital."
   ]
  },
  {
   "cell_type": "code",
   "execution_count": 17,
   "metadata": {
    "colab": {
     "base_uri": "https://localhost:8080/"
    },
    "executionInfo": {
     "elapsed": 673,
     "status": "ok",
     "timestamp": 1646846914819,
     "user": {
      "displayName": "Diego Medrano Jiménez",
      "photoUrl": "https://lh3.googleusercontent.com/a-/AOh14Gi0EFChMeLtAAS3gsoyDERhd5tt6D-8C-lwnpECig=s64",
      "userId": "12536918966160991768"
     },
     "user_tz": 180
    },
    "id": "C_mJAmuvrRKe",
    "outputId": "3de86cc4-3e3a-4e52-9c7c-893b31c1b3be"
   },
   "outputs": [
    {
     "name": "stdout",
     "output_type": "stream",
     "text": [
      "       Interior_Salary  Capital_Salary\n",
      "count        35.000000       44.000000\n",
      "mean       5368.868571     5950.763636\n",
      "std         718.191711      874.795978\n",
      "min        4186.600000     4434.600000\n",
      "25%        4878.700000     5131.150000\n",
      "50%        5254.400000     5978.250000\n",
      "75%        5917.700000     6583.900000\n",
      "max        6796.900000     7481.200000\n"
     ]
    }
   ],
   "source": [
    "sal_int = data.query('LOCAL == \"INTERIOR\"').SALARIO_MENSAL\n",
    "sal_cap = data.query('LOCAL == \"CAPITAL\" & SALARIO_MENSAL < 10000').SALARIO_MENSAL\n",
    "resume = pd.DataFrame({'Interior_Salary': sal_int.describe(), 'Capital_Salary': sal_cap.describe()})\n",
    "print(resume)"
   ]
  },
  {
   "cell_type": "code",
   "execution_count": 18,
   "metadata": {
    "colab": {
     "base_uri": "https://localhost:8080/"
    },
    "executionInfo": {
     "elapsed": 403,
     "status": "ok",
     "timestamp": 1646847270066,
     "user": {
      "displayName": "Diego Medrano Jiménez",
      "photoUrl": "https://lh3.googleusercontent.com/a-/AOh14Gi0EFChMeLtAAS3gsoyDERhd5tt6D-8C-lwnpECig=s64",
      "userId": "12536918966160991768"
     },
     "user_tz": 180
    },
    "id": "gbgfp3qXt-Lt",
    "outputId": "b725a9b3-fad7-41aa-9f00-29ded08d524e"
   },
   "outputs": [
    {
     "name": "stdout",
     "output_type": "stream",
     "text": [
      "t' = -3.246326225631877\n"
     ]
    }
   ],
   "source": [
    "t_without_outlier, pvalue = ttest_ind(sal_int, sal_cap, equal_var=False)\n",
    "print(\"t' = {}\".format(t_without_outlier))"
   ]
  },
  {
   "cell_type": "markdown",
   "metadata": {
    "id": "RploK_u1urkH"
   },
   "source": [
    "Therefore..."
   ]
  },
  {
   "cell_type": "code",
   "execution_count": 19,
   "metadata": {
    "colab": {
     "base_uri": "https://localhost:8080/",
     "height": 38
    },
    "executionInfo": {
     "elapsed": 393,
     "status": "ok",
     "timestamp": 1646847190903,
     "user": {
      "displayName": "Diego Medrano Jiménez",
      "photoUrl": "https://lh3.googleusercontent.com/a-/AOh14Gi0EFChMeLtAAS3gsoyDERhd5tt6D-8C-lwnpECig=s64",
      "userId": "12536918966160991768"
     },
     "user_tz": 180
    },
    "id": "Kkv-8qzFuWXX",
    "outputId": "d302a5fe-516c-4735-ed55-015cb86cea52"
   },
   "outputs": [
    {
     "data": {
      "text/latex": [
       "$\\displaystyle |t'| = 3.246 > z_\\alpha = 1.990 \\quad\\Rightarrow\\quad \\text{Reject Null-Hypothesis}\\quad\\Rightarrow\\quad\\text{Employees from different locations STILL have different salaries}$"
      ],
      "text/plain": [
       "<IPython.core.display.Math object>"
      ]
     },
     "metadata": {},
     "output_type": "display_data"
    }
   ],
   "source": [
    "display(Math(r\"|t'| = 3.246 > z_\\alpha = 1.990 \\quad\\Rightarrow\\quad \\text{Reject Null-Hypothesis}\\quad\\Rightarrow\\quad\\text{Employees from different locations STILL have different salaries}\"))"
   ]
  },
  {
   "cell_type": "markdown",
   "metadata": {
    "id": "KsCCMFUQvigP"
   },
   "source": [
    "### Conclusion: *The supermarket company **is still not** following the new policy even without the outlier.*"
   ]
  }
 ],
 "metadata": {
  "colab": {
   "authorship_tag": "ABX9TyOI0AArSIk4uxRVB181BZiy",
   "collapsed_sections": [],
   "name": "DiegoMedrano-DataScientist-Júnior.ipynb",
   "provenance": []
  },
  "kernelspec": {
   "display_name": "Python 3 (ipykernel)",
   "language": "python",
   "name": "python3"
  },
  "language_info": {
   "codemirror_mode": {
    "name": "ipython",
    "version": 3
   },
   "file_extension": ".py",
   "mimetype": "text/x-python",
   "name": "python",
   "nbconvert_exporter": "python",
   "pygments_lexer": "ipython3",
   "version": "3.9.7"
  }
 },
 "nbformat": 4,
 "nbformat_minor": 1
}
