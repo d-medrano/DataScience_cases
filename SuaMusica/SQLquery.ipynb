{
 "cells": [
  {
   "cell_type": "markdown",
   "metadata": {},
   "source": [
    "## SQL query"
   ]
  },
  {
   "cell_type": "markdown",
   "metadata": {},
   "source": [
    "I am going to write in here all the steps in order to get the final joined table of the exercise:\n",
    "- Create tables A and B.\n",
    "- Fill them with the given values.\n",
    "- Query the left-joined table.\n",
    "- Print the final result. "
   ]
  },
  {
   "cell_type": "code",
   "execution_count": 7,
   "metadata": {},
   "outputs": [],
   "source": [
    "# Writing all the SQL queries\n",
    "\n",
    "CREATE_TABLES = \"\"\"\n",
    "    CREATE TABLE IF NOT EXISTS A (\n",
    "        ID INTEGER,\n",
    "        Name TEXT,\n",
    "        Born_in TEXT\n",
    "    );\n",
    "    CREATE TABLE IF NOT EXISTS B (\n",
    "        ID INTEGER,\n",
    "        Instrument TEXT,\n",
    "        Football_Club TEXT\n",
    "    );\n",
    "\"\"\"\n",
    "\n",
    "INSERT_VALUES = \"\"\"\n",
    "    INSERT INTO A (ID, Name, Born_in)\n",
    "    VALUES\n",
    "        (9991, 'John', 'Liverpool'),\n",
    "        (9992, 'Paul', 'Liverpool'),\n",
    "        (9993, 'Ringo', 'Liverpool'),\n",
    "        (9994, 'George', 'Liverpool');\n",
    "    INSERT INTO B (ID, Instrument, Football_Club)\n",
    "    VALUES\n",
    "        (9991, 'Vocal', 'Liverpool'),\n",
    "        (9992, 'Base', 'Liverpool'),\n",
    "        (9993, 'Drums', 'Liverpool'),\n",
    "        (9995, 'Guitar', 'Arsenal'),\n",
    "        (9992, 'Piano', 'Liverpool');\n",
    "\"\"\"\n",
    "\n",
    "READ_TABLE_A = \"SELECT * FROM A;\"\n",
    "READ_TABLE_B = \"SELECT * FROM B;\"\n",
    "\n",
    "SELECT_QUERY =\"\"\"\n",
    "    SELECT A.ID, A.Name, A.Born_in, B.Instrument, B.Football_Club\n",
    "        FROM A LEFT JOIN B\n",
    "        ON A.ID = B.ID;\n",
    "\"\"\""
   ]
  },
  {
   "cell_type": "code",
   "execution_count": 8,
   "metadata": {},
   "outputs": [],
   "source": [
    "import os\n",
    "import psycopg2\n",
    "from dotenv import load_dotenv\n",
    "import pandas as pd"
   ]
  },
  {
   "cell_type": "code",
   "execution_count": 9,
   "metadata": {},
   "outputs": [],
   "source": [
    "# Stablishing the connection with the database in a remote server\n",
    "\n",
    "load_dotenv()\n",
    "connection = psycopg2.connect(os.environ['DATABASE_URL'])"
   ]
  },
  {
   "cell_type": "code",
   "execution_count": 10,
   "metadata": {},
   "outputs": [
    {
     "name": "stdout",
     "output_type": "stream",
     "text": [
      "- Table A:\n",
      "     ID    Name    Born_in\n",
      "0  9991    John  Liverpool\n",
      "1  9992    Paul  Liverpool\n",
      "2  9993   Ringo  Liverpool\n",
      "3  9994  George  Liverpool\n",
      "\n",
      "- Table B:\n",
      "     ID Instrument Football_Club\n",
      "0  9991      Vocal     Liverpool\n",
      "1  9992       Base     Liverpool\n",
      "2  9993      Drums     Liverpool\n",
      "3  9995     Guitar       Arsenal\n",
      "4  9992      Piano     Liverpool\n"
     ]
    }
   ],
   "source": [
    "# Creating and filling tables A and B, and reading their content\n",
    "\n",
    "with connection:\n",
    "    with connection.cursor() as cursor:\n",
    "\n",
    "        cursor.execute(CREATE_TABLES)\n",
    "\n",
    "        cursor.execute(INSERT_VALUES)\n",
    "        \n",
    "        cursor.execute(READ_TABLE_A)\n",
    "        tableA = cursor.fetchall()\n",
    "        \n",
    "        cursor.execute(READ_TABLE_B)\n",
    "        tableB = cursor.fetchall()\n",
    "\n",
    "print('- Table A:')\n",
    "print(pd.DataFrame(tableA, columns=['ID', 'Name', 'Born_in']))\n",
    "\n",
    "print('\\n- Table B:')\n",
    "print(pd.DataFrame(tableB, columns=['ID', 'Instrument', 'Football_Club']))"
   ]
  },
  {
   "cell_type": "code",
   "execution_count": 11,
   "metadata": {},
   "outputs": [
    {
     "name": "stdout",
     "output_type": "stream",
     "text": [
      "- Joined table:\n",
      "     ID    Name    Born_in Instrument Football_Club\n",
      "0  9991    John  Liverpool      Vocal     Liverpool\n",
      "1  9992    Paul  Liverpool      Piano     Liverpool\n",
      "2  9992    Paul  Liverpool       Base     Liverpool\n",
      "3  9993   Ringo  Liverpool      Drums     Liverpool\n",
      "4  9994  George  Liverpool       None          None\n"
     ]
    }
   ],
   "source": [
    "# Executing the SQL final query\n",
    "\n",
    "with connection:\n",
    "    with connection.cursor() as cursor:\n",
    "        \n",
    "        cursor.execute(SELECT_QUERY)\n",
    "        output = cursor.fetchall()\n",
    "\n",
    "print('- Joined table:')\n",
    "print(pd.DataFrame(output, columns = ['ID', 'Name', 'Born_in', 'Instrument', 'Football_Club']))"
   ]
  }
 ],
 "metadata": {
  "interpreter": {
   "hash": "7e35ee4c42f04f9885e1b8e60d2c57cf61bdafeadd2609d108eef80c0803ec91"
  },
  "kernelspec": {
   "display_name": "Python 3.8.10 ('venv-DScases')",
   "language": "python",
   "name": "python3"
  },
  "language_info": {
   "codemirror_mode": {
    "name": "ipython",
    "version": 3
   },
   "file_extension": ".py",
   "mimetype": "text/x-python",
   "name": "python",
   "nbconvert_exporter": "python",
   "pygments_lexer": "ipython3",
   "version": "3.8.10"
  },
  "orig_nbformat": 4
 },
 "nbformat": 4,
 "nbformat_minor": 2
}
