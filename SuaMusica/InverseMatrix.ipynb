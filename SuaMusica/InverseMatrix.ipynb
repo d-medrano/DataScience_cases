{
 "cells": [
  {
   "cell_type": "markdown",
   "metadata": {},
   "source": [
    "# Gauss' method: inverse of a matrix"
   ]
  },
  {
   "cell_type": "markdown",
   "metadata": {},
   "source": [
    "The following function reproduces the Gauss' method for computing the inverse of a matrix $A$ according to the expression $\\quad L_n L_{n-1}\\ldots L_1 A = \\mathbb I\\quad\\Rightarrow\\quad L_n L_{n-1}\\ldots L_1 \\mathbb I = A^{-1}$"
   ]
  },
  {
   "cell_type": "code",
   "execution_count": 14,
   "metadata": {},
   "outputs": [],
   "source": [
    "def inverseMatrix(matrix):\n",
    "    '''\n",
    "    Function that computes the inverse of a matrix\n",
    "    Args:\n",
    "        matrix - original matrix\n",
    "    Returns:\n",
    "        inverseA - inverse of the orginal matrix\n",
    "    '''\n",
    "    \n",
    "    import numpy as np\n",
    "    \n",
    "    # idA: Original matrix that we want to transform into the identity\n",
    "    idA = np.copy(np.array(matrix))\n",
    "    # inverseA: Identity, which is going to be transformed into the inverse of the original matrix\n",
    "    inverseA = np.identity(len(idA))\n",
    "    \n",
    "    for j in range(len(idA)):\n",
    "\n",
    "        # L: matrix encoding an elementary row operation for every step in the loop    \n",
    "        L = np.identity(len(idA))\n",
    "        L[j, j] /= idA[j, j]\n",
    "        \n",
    "        idA = np.dot(L, idA)\n",
    "        inverseA = np.dot(L, inverseA)\n",
    "        \n",
    "        for i in range(len(idA)):\n",
    "            if i != j:\n",
    "                \n",
    "                L = np.identity(len(idA))\n",
    "                L[i, j] = -idA[i, j]\n",
    "                \n",
    "                idA = np.dot(L, idA)\n",
    "                inverseA = np.dot(L, inverseA)\n",
    "    \n",
    "    return inverseA.tolist()\n",
    "    "
   ]
  },
  {
   "cell_type": "markdown",
   "metadata": {},
   "source": [
    "We can check the function with the following example:\n",
    "$$A=\\begin{pmatrix}2&1&1\\\\1&1&1\\\\2&3&2\\end{pmatrix}\\qquad\\qquad A^{-1}=\\begin{pmatrix}1&-1&0\\\\0&-2&1\\\\-1&4&-1\\end{pmatrix}$$"
   ]
  },
  {
   "cell_type": "code",
   "execution_count": 16,
   "metadata": {},
   "outputs": [
    {
     "name": "stdout",
     "output_type": "stream",
     "text": [
      "[[2 1 1]\n",
      " [1 1 1]\n",
      " [2 3 2]]\n"
     ]
    }
   ],
   "source": [
    "import numpy as np\n",
    "\n",
    "A = np.array([[2, 1, 1], [1, 1, 1], [2, 3, 2]])\n",
    "print(A)"
   ]
  },
  {
   "cell_type": "code",
   "execution_count": 15,
   "metadata": {},
   "outputs": [
    {
     "name": "stdout",
     "output_type": "stream",
     "text": [
      "[[ 1. -1.  0.]\n",
      " [ 0. -2.  1.]\n",
      " [-1.  4. -1.]]\n",
      "=\n",
      "[[ 1. -1.  0.]\n",
      " [ 0. -2.  1.]\n",
      " [-1.  4. -1.]]\n"
     ]
    }
   ],
   "source": [
    "# NumPy function to compute the inverse of A\n",
    "print(np.linalg.inv(A))\n",
    "\n",
    "print('=')\n",
    "\n",
    "# My custom function to compute the inverse of A\n",
    "print(np.array(inverseMatrix(A)))"
   ]
  }
 ],
 "metadata": {
  "kernelspec": {
   "display_name": "Python 3 (ipykernel)",
   "language": "python",
   "name": "python3"
  },
  "language_info": {
   "codemirror_mode": {
    "name": "ipython",
    "version": 3
   },
   "file_extension": ".py",
   "mimetype": "text/x-python",
   "name": "python",
   "nbconvert_exporter": "python",
   "pygments_lexer": "ipython3",
   "version": "3.8.10"
  }
 },
 "nbformat": 4,
 "nbformat_minor": 2
}
